{
 "cells": [
  {
   "cell_type": "code",
   "execution_count": 7,
   "metadata": {},
   "outputs": [
    {
     "ename": "ModuleNotFoundError",
     "evalue": "No module named 'boot_utils'",
     "output_type": "error",
     "traceback": [
      "\u001b[1;31m---------------------------------------------------------------------------\u001b[0m",
      "\u001b[1;31mModuleNotFoundError\u001b[0m                       Traceback (most recent call last)",
      "\u001b[1;32m<ipython-input-7-cf271adfd325>\u001b[0m in \u001b[0;36m<module>\u001b[1;34m\u001b[0m\n\u001b[0;32m      7\u001b[0m \u001b[1;33m\u001b[0m\u001b[0m\n\u001b[0;32m      8\u001b[0m \u001b[1;31m# functions from bootstrap script file\u001b[0m\u001b[1;33m\u001b[0m\u001b[1;33m\u001b[0m\u001b[1;33m\u001b[0m\u001b[0m\n\u001b[1;32m----> 9\u001b[1;33m \u001b[1;32mfrom\u001b[0m \u001b[0mboot_utils\u001b[0m \u001b[1;32mimport\u001b[0m \u001b[0mboot\u001b[0m\u001b[1;33m,\u001b[0m\u001b[0mboot_ci\u001b[0m\u001b[1;33m\u001b[0m\u001b[1;33m\u001b[0m\u001b[0m\n\u001b[0m\u001b[0;32m     10\u001b[0m \u001b[1;33m\u001b[0m\u001b[0m\n\u001b[0;32m     11\u001b[0m \u001b[1;31m# functions for normal quantiles and Q-Q plots\u001b[0m\u001b[1;33m\u001b[0m\u001b[1;33m\u001b[0m\u001b[1;33m\u001b[0m\u001b[0m\n",
      "\u001b[1;31mModuleNotFoundError\u001b[0m: No module named 'boot_utils'"
     ]
    }
   ],
   "source": [
    "# Import libraries\n",
    "import numpy as np\n",
    "import pandas as pd\n",
    "import matplotlib.pyplot as plt\n",
    "import seaborn as sns\n",
    "from scipy.optimize import minimize\n",
    "\n",
    "# functions from bootstrap script file\n",
    "from boot_utils import boot,boot_ci\n",
    "\n",
    "# functions for normal quantiles and Q-Q plots\n",
    "from scipy.stats import norm,probplot\n",
    "\n",
    "\n",
    "# Magic command Needed for showing plots in jupyter notebooks\n",
    "%matplotlib inline "
   ]
  },
  {
   "cell_type": "code",
   "execution_count": null,
   "metadata": {},
   "outputs": [],
   "source": [
    "# Adjust plot dpi and other graphical parameters\n",
    "plt.rcParams.update(**{\n",
    "    'figure.dpi':150,\n",
    "    'figure.figsize':(4,3)\n",
    "})"
   ]
  },
  {
   "cell_type": "markdown",
   "metadata": {},
   "source": [
    "# UQ for non-linear regression - exercises\n",
    "\n",
    "This exercise will focus on the generated data from Week 2 (the code for which is shown in the next cell). The model we fit was:\n",
    "\n",
    "$$\n",
    "\\widehat{y}\\left(x,\\theta \\right) = \\theta_0 + \\theta_1 x  + \\theta_3 \\sin \\left(\\theta_2 x\\right),\n",
    "$$"
   ]
  },
  {
   "cell_type": "code",
   "execution_count": 4,
   "metadata": {},
   "outputs": [
    {
     "data": {
      "image/png": "[encoded data removed]",
      "text/plain": [
       "<Figure size 288x216 with 1 Axes>"
      ]
     },
     "metadata": {
      "needs_background": "light"
     },
     "output_type": "display_data"
    }
   ],
   "source": [
    "np.random.seed(11)\n",
    "x = np.linspace(0,4,30)\n",
    "y = 0.5*x + 2*np.sin(2.5*x) + 0.5*np.random.randn(x.shape[0])\n",
    "\n",
    "\n",
    "fig,ax = plt.subplots(1,1,figsize=(4,3))\n",
    "_ = sns.scatterplot(x=x,y=y,ax=ax)"
   ]
  },
  {
   "cell_type": "markdown",
   "metadata": {},
   "source": [
    "## Exercise 1\n",
    "\n",
    "(a) Fit the above model using non-linear minimization with the initial guess $\\boldsymbol{\\theta} = [1,0.3,2,1.5]$. Plot the predictions from the fitted model, and comment on the fit.\n",
    "\n",
    "(b) Compute the standard error of the parameters via bootstrap. Perform `r=500` bootstrap runs and set random number generation seed to 156.\n",
    "\n",
    "(c) Compute bootstrap confidence intervals for $\\theta_0$. Is it significant?\n",
    "\n",
    "\n",
    "**Note:** \n",
    "1. For the plot in (a), generate predictions for linearly spaced points in [0,4]. These points can be generated using `np.linspace(0,4,100)`.\n",
    "2. The first argument for the statistic function that your write has to be the data. There are multiple ways you can define this argument:\n",
    "    1. List `[x,y]` or tuple `(x,y)`\n",
    "    2. DataFrame `pd.DataFrame({'x':x,'y':y})`"
   ]
  },
  {
   "cell_type": "code",
   "execution_count": 6,
   "metadata": {},
   "outputs": [
    {
     "ename": "NameError",
     "evalue": "name 'mlc' is not defined",
     "output_type": "error",
     "traceback": [
      "\u001b[1;31m---------------------------------------------------------------------------\u001b[0m",
      "\u001b[1;31mNameError\u001b[0m                                 Traceback (most recent call last)",
      "\u001b[1;32m<ipython-input-6-251f734af2ce>\u001b[0m in \u001b[0;36m<module>\u001b[1;34m\u001b[0m\n\u001b[0;32m     23\u001b[0m     \u001b[0mfun\u001b[0m\u001b[1;33m=\u001b[0m\u001b[0msse_model\u001b[0m\u001b[1;33m,\u001b[0m \u001b[1;31m# loss function\u001b[0m\u001b[1;33m\u001b[0m\u001b[1;33m\u001b[0m\u001b[0m\n\u001b[0;32m     24\u001b[0m     \u001b[0mx0\u001b[0m \u001b[1;33m=\u001b[0m \u001b[0mtheta0\u001b[0m \u001b[1;33m,\u001b[0m \u001b[1;31m# initial guess\u001b[0m\u001b[1;33m\u001b[0m\u001b[1;33m\u001b[0m\u001b[0m\n\u001b[1;32m---> 25\u001b[1;33m     \u001b[0margs\u001b[0m\u001b[1;33m=\u001b[0m\u001b[1;33m(\u001b[0m\u001b[0mmlc\u001b[0m\u001b[1;33m[\u001b[0m\u001b[1;33m[\u001b[0m\u001b[1;34m'Location'\u001b[0m\u001b[1;33m,\u001b[0m\u001b[1;34m'Week'\u001b[0m\u001b[1;33m]\u001b[0m\u001b[1;33m]\u001b[0m\u001b[1;33m.\u001b[0m\u001b[0mvalues\u001b[0m\u001b[1;33m,\u001b[0m\u001b[0mmlc\u001b[0m\u001b[1;33m[\u001b[0m\u001b[1;34m'Efficiency'\u001b[0m\u001b[1;33m]\u001b[0m\u001b[1;33m.\u001b[0m\u001b[0mvalues\u001b[0m\u001b[1;33m)\u001b[0m\u001b[1;33m,\u001b[0m \u001b[1;31m# (x,y) args to sum_squared_error\u001b[0m\u001b[1;33m\u001b[0m\u001b[1;33m\u001b[0m\u001b[0m\n\u001b[0m\u001b[0;32m     26\u001b[0m     \u001b[1;31m#options = {'disp':True},\u001b[0m\u001b[1;33m\u001b[0m\u001b[1;33m\u001b[0m\u001b[1;33m\u001b[0m\u001b[0m\n\u001b[0;32m     27\u001b[0m )\n",
      "\u001b[1;31mNameError\u001b[0m: name 'mlc' is not defined"
     ]
    }
   ],
   "source": [
    "### YOUR CODE GOES HERE ### \n",
    "\n",
    "def sine_model(x,theta):\n",
    "    '''\n",
    "    Function which returns the model:\n",
    "        y = theta_0 + theta_1*Location + theta_3\\exp{theta_2*Week}\n",
    "    \n",
    "    first column of x is Location\n",
    "    second column of x is Week\n",
    "    '''\n",
    "    return theta[0]+theta[1]*x[:,0]+theta[3]*np.sine(theta[2]*x[:,1])\n",
    "\n",
    "def sse_model(theta,x,y):\n",
    "    '''\n",
    "    Function to be minimized wrt theta\n",
    "    '''\n",
    "    y_hat =  lc_model(x,theta)\n",
    "    return np.sum((y-y_hat)**2)\n",
    "\n",
    "theta0 = np.array([1,0,-.5,-.3]) # initial guess\n",
    "\n",
    "res_nlm = minimize(\n",
    "    fun=sse_model, # loss function\n",
    "    x0 = theta0 , # initial guess\n",
    "    args=(mlc[['Location','Week']].values,mlc['Efficiency'].values), # (x,y) args to sum_squared_error\n",
    "    #options = {'disp':True},\n",
    ")\n"
   ]
  },
  {
   "cell_type": "code",
   "execution_count": null,
   "metadata": {},
   "outputs": [],
   "source": [
    "x_new = np.linspace(0,4,100)\n",
    "y_pred = sine_model(x_new, res_sine.x)\n",
    "fig,ax = plt.subplots(1,1,figsize=(4,3))\n",
    "_ = sns.scatterplot(x=x,y=y,ax=ax)"
   ]
  },
  {
   "cell_type": "code",
   "execution_count": 3,
   "metadata": {},
   "outputs": [
    {
     "ename": "NameError",
     "evalue": "name 'boot' is not defined",
     "output_type": "error",
     "traceback": [
      "\u001b[1;31m---------------------------------------------------------------------------\u001b[0m",
      "\u001b[1;31mNameError\u001b[0m                                 Traceback (most recent call last)",
      "\u001b[1;32m<ipython-input-3-7e04b65311f9>\u001b[0m in \u001b[0;36m<module>\u001b[1;34m\u001b[0m\n\u001b[0;32m     13\u001b[0m     \u001b[1;32mreturn\u001b[0m \u001b[0mres_sine\u001b[0m\u001b[1;33m.\u001b[0m\u001b[0mx\u001b[0m\u001b[1;33m\u001b[0m\u001b[1;33m\u001b[0m\u001b[0m\n\u001b[0;32m     14\u001b[0m \u001b[1;33m\u001b[0m\u001b[0m\n\u001b[1;32m---> 15\u001b[1;33m \u001b[0mres_boot\u001b[0m \u001b[1;33m=\u001b[0m \u001b[0mboot\u001b[0m\u001b[1;33m(\u001b[0m\u001b[0mdat\u001b[0m\u001b[1;33m,\u001b[0m \u001b[0mstatistic\u001b[0m\u001b[1;33m,\u001b[0m \u001b[0mr\u001b[0m\u001b[1;33m=\u001b[0m\u001b[1;36m500\u001b[0m\u001b[1;33m,\u001b[0m \u001b[0mtheta0\u001b[0m\u001b[1;33m=\u001b[0m\u001b[1;33m[\u001b[0m\u001b[1;36m1\u001b[0m\u001b[1;33m,\u001b[0m\u001b[1;36m0.3\u001b[0m\u001b[1;33m,\u001b[0m\u001b[1;36m2\u001b[0m\u001b[1;33m,\u001b[0m\u001b[1;36m1.5\u001b[0m\u001b[1;33m]\u001b[0m\u001b[1;33m)\u001b[0m\u001b[1;33m\u001b[0m\u001b[1;33m\u001b[0m\u001b[0m\n\u001b[0m",
      "\u001b[1;31mNameError\u001b[0m: name 'boot' is not defined"
     ]
    }
   ],
   "source": [
    "def statistic(l, idxs, theta0):\n",
    "    \n",
    "    x_idxs = l[0][idxs]\n",
    "    y_idxs = l[1][idxs]\n",
    "    \n",
    "    res_sine = minimize(\n",
    "        fun=sse_model,\n",
    "        x0=[1,0.3,2,1.5],\n",
    "        args=(x_idxs, y_idxs),\n",
    "        options={\"disp\":True}\n",
    "    )\n",
    "    \n",
    "    return res_sine.x\n",
    "\n",
    "res_boot = boot(dat, statistic, r=500, theta0=[1,0.3,2,1.5])"
   ]
  },
  {
   "cell_type": "code",
   "execution_count": null,
   "metadata": {},
   "outputs": [],
   "source": [
    "res_boot['t0']"
   ]
  },
  {
   "cell_type": "code",
   "execution_count": null,
   "metadata": {},
   "outputs": [],
   "source": [
    "res_boot['t']"
   ]
  },
  {
   "cell_type": "code",
   "execution_count": null,
   "metadata": {},
   "outputs": [],
   "source": [
    "se_theta = np.std(res_boot, col_idx=0, kind='norm', conf_list=[0.95])"
   ]
  },
  {
   "cell_type": "markdown",
   "metadata": {},
   "source": [
    "## Exercise 2\n",
    "\n",
    "- Using bootstrap, plot the histogram of the predictions at x = 2. Is the distribution normal?\n",
    "- Compute a 95\\% confidence interval on the prediction at x = 2.\n",
    "- Compute a 95\\% prediction interval on a future response at x = 2.\n",
    "\n",
    "**Note**: If you are passing `x=2` to the model, the response will be scalar instead of a 1 element numpy array. Instead pass `x=np.array([2.])` "
   ]
  },
  {
   "cell_type": "code",
   "execution_count": null,
   "metadata": {},
   "outputs": [],
   "source": [
    "### YOUR CODE GOES HERE ### "
   ]
  },
  {
   "cell_type": "markdown",
   "metadata": {},
   "source": [
    "## Exercise 3\n",
    "\n",
    "Create a plot with the following elements\n",
    "\n",
    "- (x,y) pairs from the data\n",
    "- Model predictions for $x \\in [0,4]$\n",
    "- 95\\% confidence intervals on the predictions for $x \\in [0,4]$\n",
    "- 95\\% prediction intervals on future response for $x \\in [0,4]$\n",
    "\n",
    "We will be computing predictions on a uniformly spaced set of points between 0 and 4.\n",
    "\n",
    "**Hint**:\n",
    "To show the 95\\% confidence region, we will shade the area between the lower and upper confidence bounds. To do use the `ax.fill_between` method:\n",
    "\n",
    "```Python\n",
    "_ = ax.fill_between(x,lower,upper,**kwargs)\n",
    "```"
   ]
  },
  {
   "cell_type": "code",
   "execution_count": null,
   "metadata": {},
   "outputs": [],
   "source": [
    "# 100 uniformly spaced set of points between 0 and 4\n",
    "x_new = np.linspace(0,4,100)\n",
    "\n",
    "# compute predictions of the model\n",
    "# y_pred = ...\n",
    "\n",
    "# compute bootstrap replicates of predictions\n",
    "# each row corresponds to a bootstrap replicate\n",
    "# y_pred_boot = ..."
   ]
  },
  {
   "cell_type": "code",
   "execution_count": null,
   "metadata": {},
   "outputs": [],
   "source": [
    "# compute confidence intervals\n",
    "# store lower and upper bounds in ci_lower and ci_upper"
   ]
  },
  {
   "cell_type": "code",
   "execution_count": null,
   "metadata": {},
   "outputs": [],
   "source": [
    "# compute prediction intervals\n",
    "# store lower and upper bounds in pi_lower and pi_upper"
   ]
  },
  {
   "cell_type": "code",
   "execution_count": null,
   "metadata": {},
   "outputs": [],
   "source": [
    "# generate the plots\n",
    "fig,ax = plt.subplots(1,1,figsize=(6,4.5))\n",
    "\n",
    "# scatter plot.\n",
    "# pass the following optional arguments:\n",
    "# color='k',label='Observations',legend=False\n",
    "\n",
    "# line plot of predctions \n",
    "# pass the following optional arguments:\n",
    "# color='k',label='Observations',legend=False\n",
    "\n",
    "# shade between the lower and upper confidence bounds\n",
    "# pass the following optional arguments to fill_between:\n",
    "# alpha=0.5,zorder=0,label='CI'\n",
    "\n",
    "# shade between the lower and upper confidence bounds\n",
    "# pass the following optional arguments to fill_between:\n",
    "# alpha=0.5,zorder=0,label='PI'\n",
    "\n",
    "\n",
    "_ = ax.set_xlabel('x')\n",
    "_ = ax.set_ylabel('y')\n",
    "_ = ax.legend(loc='lower right')\n"
   ]
  },
  {
   "cell_type": "code",
   "execution_count": null,
   "metadata": {},
   "outputs": [],
   "source": []
  }
 ],
 "metadata": {
  "kernelspec": {
   "display_name": "Python 3",
   "language": "python",
   "name": "python3"
  },
  "language_info": {
   "codemirror_mode": {
    "name": "ipython",
    "version": 3
   },
   "file_extension": ".py",
   "mimetype": "text/x-python",
   "name": "python",
   "nbconvert_exporter": "python",
   "pygments_lexer": "ipython3",
   "version": "3.7.4"
  }
 },
 "nbformat": 4,
 "nbformat_minor": 2
}
