{
 "cells": [
  {
   "cell_type": "markdown",
   "id": "13e70b09",
   "metadata": {},
   "source": [
    "# Apriori vs FPGrowth\n",
    "\n",
    "Apriori is a popular algorithm for extracting frequent itemsets with applications in association rule learning. The apriori algorithm has been designed to operate on databases containing transactions, such as purchases by customers of a store\n",
    "\n",
    "http://rasbt.github.io/mlxtend/user_guide/frequent_patterns/apriori/\n",
    "\n",
    "FP-Growth is an frequent pattern mining algorithm that does not require candidate generation. Internally, it uses a so-called FP-tree (frequent pattern tree) datastrucure without generating the candidate sets explicitely, which makes is particularly attractive for large datasets.\n",
    "\n",
    "http://rasbt.github.io/mlxtend/user_guide/frequent_patterns/fpgrowth/"
   ]
  },
  {
   "cell_type": "markdown",
   "id": "efa13f10",
   "metadata": {},
   "source": [
    "### Apriori"
   ]
  },
  {
   "cell_type": "code",
   "execution_count": null,
   "id": "d0d1e111",
   "metadata": {},
   "outputs": [],
   "source": [
    "import pandas as pd\n",
    "from mlxtend.preprocessing import TransactionEncoder\n",
    "from mlxtend.frequent_patterns import apriori, association_rules\n",
    "from mlxtend.frequent_patterns import fpgrowth"
   ]
  },
  {
   "cell_type": "code",
   "execution_count": null,
   "id": "cc7e6dfd",
   "metadata": {},
   "outputs": [],
   "source": [
    "dataset = [['Milk','Onion', 'Bread', 'Kidney Beans','Eggs','Yoghurt'],\n",
    "           ['Fish','Onion','Bread','Kidney Beans','Eggs','Yoghurt'],\n",
    "           ['Milk', 'Apples', 'Kidney Beans', 'Eggs'],\n",
    "           ['Milk', 'Sugar', 'Tea Leaves', 'Kidney Beans', 'Yoghurt'],\n",
    "           ['Tea Leaves','Onion','Kidney Beans', 'Ice cream', 'Eggs'],\n",
    "]"
   ]
  },
  {
   "cell_type": "code",
   "execution_count": null,
   "id": "b0cdba68",
   "metadata": {},
   "outputs": [],
   "source": [
    "tr = TransactionEncoder()\n",
    "tr_arr = tr.fit(dataset).transform(dataset)\n",
    "df = pd.DataFrame(tr_arr, columns=tr.columns_)\n",
    "df"
   ]
  },
  {
   "cell_type": "code",
   "execution_count": null,
   "id": "c2a0afe8",
   "metadata": {
    "scrolled": false
   },
   "outputs": [],
   "source": [
    "from mlxtend.frequent_patterns import apriori\n",
    "frequent_itemsets1 = apriori(df, min_support = 0.6, use_colnames = True)\n",
    "frequent_itemsets1['length'] = frequent_itemsets['itemsets'].apply(lambda x: len(x))\n",
    "frequent_itemsets1"
   ]
  },
  {
   "cell_type": "code",
   "execution_count": null,
   "id": "b7470a40",
   "metadata": {},
   "outputs": [],
   "source": [
    "frequent_itemsets1[(frequent_itemsets1['length'] == 2) &\n",
    "                   (frequent_itemsets1['support'] >= 0.8) ]"
   ]
  },
  {
   "cell_type": "markdown",
   "id": "8d8d6eb7",
   "metadata": {},
   "source": [
    "### FPGrowth"
   ]
  },
  {
   "cell_type": "markdown",
   "id": "7feb5c91",
   "metadata": {},
   "source": [
    "Since FP-Growth doesn't require creating candidate sets explicitly, it can be magnitudes faster than the alternative Apriori algorithm. \n",
    "\n",
    "For instance, the following cells compare the performance of the Apriori algorithm to the performance of FP-Growth -- even in this very simple toy dataset scenario, FP-Growth is about 5 times faster."
   ]
  },
  {
   "cell_type": "code",
   "execution_count": null,
   "id": "a794104e",
   "metadata": {
    "scrolled": true
   },
   "outputs": [],
   "source": [
    "frequent_itemsets2 = fpgrowth(df, min_support = 0.6, use_colnames = True)\n",
    "frequent_itemsets2['length'] = frequent_itemsets2['itemsets'].apply(lambda x: len(x))\n",
    "frequent_itemsets2"
   ]
  },
  {
   "cell_type": "code",
   "execution_count": null,
   "id": "fca59552",
   "metadata": {},
   "outputs": [],
   "source": [
    "frequent_itemsets2[(frequent_itemsets2['length'] == 2) &\n",
    "                   (frequent_itemsets2['support'] >= 0.8) ]"
   ]
  },
  {
   "cell_type": "markdown",
   "id": "72d03e67",
   "metadata": {},
   "source": [
    "### Performance"
   ]
  },
  {
   "cell_type": "code",
   "execution_count": null,
   "id": "0ec9ae11",
   "metadata": {},
   "outputs": [],
   "source": [
    "%timeit -n 100 -r 10 apriori(df, min_support=0.6)"
   ]
  },
  {
   "cell_type": "code",
   "execution_count": null,
   "id": "1140d312",
   "metadata": {},
   "outputs": [],
   "source": [
    "%timeit -n 100 -r 10 fpgrowth(df, min_support=0.6)"
   ]
  }
 ],
 "metadata": {
  "kernelspec": {
   "display_name": "Python 3 (ipykernel)",
   "language": "python",
   "name": "python3"
  },
  "language_info": {
   "codemirror_mode": {
    "name": "ipython",
    "version": 3
   },
   "file_extension": ".py",
   "mimetype": "text/x-python",
   "name": "python",
   "nbconvert_exporter": "python",
   "pygments_lexer": "ipython3",
   "version": "3.9.13"
  }
 },
 "nbformat": 4,
 "nbformat_minor": 5
}
