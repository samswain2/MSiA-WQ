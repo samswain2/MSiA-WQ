{
 "cells": [
  {
   "cell_type": "markdown",
   "id": "94c23f8d",
   "metadata": {},
   "source": [
    "# Itemsets"
   ]
  },
  {
   "cell_type": "code",
   "execution_count": 1,
   "id": "29a3d9fc",
   "metadata": {},
   "outputs": [],
   "source": [
    "from itertools import chain, combinations\n",
    "import collections"
   ]
  },
  {
   "cell_type": "markdown",
   "id": "32a35996",
   "metadata": {},
   "source": [
    "<code>powerset([1,2,3]) --> () (1,) (2,) (3,) (1,2) (1,3) (2,3) (1,2,3)</code>"
   ]
  },
  {
   "cell_type": "code",
   "execution_count": 2,
   "id": "4dece60a",
   "metadata": {},
   "outputs": [],
   "source": [
    "def powerset(iterable):\n",
    "    s = list(iterable)\n",
    "    return chain.from_iterable(combinations(s, r) for r in range(len(s) + 1))"
   ]
  },
  {
   "cell_type": "code",
   "execution_count": 3,
   "id": "c445a1ef",
   "metadata": {},
   "outputs": [],
   "source": [
    "basket = ['apple', 'beer', 'milk']"
   ]
  },
  {
   "cell_type": "code",
   "execution_count": 4,
   "id": "f5f7c3bf",
   "metadata": {},
   "outputs": [
    {
     "data": {
      "text/plain": [
       "[(),\n",
       " ('apple',),\n",
       " ('beer',),\n",
       " ('milk',),\n",
       " ('apple', 'beer'),\n",
       " ('apple', 'milk'),\n",
       " ('beer', 'milk'),\n",
       " ('apple', 'beer', 'milk')]"
      ]
     },
     "execution_count": 4,
     "metadata": {},
     "output_type": "execute_result"
    }
   ],
   "source": [
    "itemsets = list(powerset(basket)) \n",
    "\n",
    "itemsets"
   ]
  },
  {
   "cell_type": "markdown",
   "id": "4abcf1c8",
   "metadata": {},
   "source": [
    "#### Possible itemsets from all store transactions"
   ]
  },
  {
   "cell_type": "code",
   "execution_count": 5,
   "id": "3ce9dcc3",
   "metadata": {},
   "outputs": [
    {
     "data": {
      "text/plain": [
       "[(),\n",
       " ('apple',),\n",
       " ('beer',),\n",
       " ('milk',),\n",
       " ('apple', 'beer'),\n",
       " ('apple', 'milk'),\n",
       " ('beer', 'milk'),\n",
       " ('apple', 'beer', 'milk'),\n",
       " (),\n",
       " ('apple',),\n",
       " ('eggs',),\n",
       " ('bread',),\n",
       " ('apple', 'eggs'),\n",
       " ('apple', 'bread'),\n",
       " ('eggs', 'bread'),\n",
       " ('apple', 'eggs', 'bread'),\n",
       " (),\n",
       " ('eggs',),\n",
       " ('milk',),\n",
       " ('eggs', 'milk')]"
      ]
     },
     "execution_count": 5,
     "metadata": {},
     "output_type": "execute_result"
    }
   ],
   "source": [
    "basket1 = ['apple', 'beer', 'milk']\n",
    "basket2 = ['apple', 'eggs', 'bread']\n",
    "basket3 = ['eggs', 'milk']\n",
    "\n",
    "itemsets = list(powerset(basket1)) + list(powerset(basket2)) + list(powerset(basket3))\n",
    "itemsets"
   ]
  },
  {
   "cell_type": "markdown",
   "id": "dd81d67f",
   "metadata": {},
   "source": [
    "#### Support calculation"
   ]
  },
  {
   "cell_type": "code",
   "execution_count": 6,
   "id": "e854d0e1",
   "metadata": {},
   "outputs": [
    {
     "name": "stdout",
     "output_type": "stream",
     "text": [
      "Support (Frequency) of the itemsets:\n",
      "('apple',), 0.67\n",
      "('beer',), 0.33\n",
      "('milk',), 0.67\n",
      "('apple', 'beer'), 0.33\n",
      "('apple', 'milk'), 0.33\n",
      "('beer', 'milk'), 0.33\n",
      "('apple', 'beer', 'milk'), 0.33\n",
      "('eggs',), 0.67\n",
      "('bread',), 0.33\n",
      "('apple', 'eggs'), 0.33\n",
      "('apple', 'bread'), 0.33\n",
      "('eggs', 'bread'), 0.33\n",
      "('apple', 'eggs', 'bread'), 0.33\n",
      "('eggs', 'milk'), 0.33\n"
     ]
    }
   ],
   "source": [
    "i = collections.Counter(itemsets)\n",
    "print(\"Support (Frequency) of the itemsets:\")\n",
    "for itemset, count in i.items():\n",
    "    if len(itemset) > 0:\n",
    "        print(\"{}, {:0.2f}\".format(itemset, count/3))"
   ]
  },
  {
   "cell_type": "markdown",
   "id": "2120ab67",
   "metadata": {},
   "source": [
    "#### Possible itemsets from all unqiue items"
   ]
  },
  {
   "cell_type": "code",
   "execution_count": 7,
   "id": "9c5177be",
   "metadata": {},
   "outputs": [],
   "source": [
    "items = ['apple', 'beer', 'milk', 'eggs', 'bread']"
   ]
  },
  {
   "cell_type": "code",
   "execution_count": 8,
   "id": "19e50549",
   "metadata": {},
   "outputs": [
    {
     "data": {
      "text/plain": [
       "[(),\n",
       " ('apple',),\n",
       " ('beer',),\n",
       " ('milk',),\n",
       " ('eggs',),\n",
       " ('bread',),\n",
       " ('apple', 'beer'),\n",
       " ('apple', 'milk'),\n",
       " ('apple', 'eggs'),\n",
       " ('apple', 'bread'),\n",
       " ('beer', 'milk'),\n",
       " ('beer', 'eggs'),\n",
       " ('beer', 'bread'),\n",
       " ('milk', 'eggs'),\n",
       " ('milk', 'bread'),\n",
       " ('eggs', 'bread'),\n",
       " ('apple', 'beer', 'milk'),\n",
       " ('apple', 'beer', 'eggs'),\n",
       " ('apple', 'beer', 'bread'),\n",
       " ('apple', 'milk', 'eggs'),\n",
       " ('apple', 'milk', 'bread'),\n",
       " ('apple', 'eggs', 'bread'),\n",
       " ('beer', 'milk', 'eggs'),\n",
       " ('beer', 'milk', 'bread'),\n",
       " ('beer', 'eggs', 'bread'),\n",
       " ('milk', 'eggs', 'bread'),\n",
       " ('apple', 'beer', 'milk', 'eggs'),\n",
       " ('apple', 'beer', 'milk', 'bread'),\n",
       " ('apple', 'beer', 'eggs', 'bread'),\n",
       " ('apple', 'milk', 'eggs', 'bread'),\n",
       " ('beer', 'milk', 'eggs', 'bread'),\n",
       " ('apple', 'beer', 'milk', 'eggs', 'bread')]"
      ]
     },
     "execution_count": 8,
     "metadata": {},
     "output_type": "execute_result"
    }
   ],
   "source": [
    "list(powerset(items))"
   ]
  }
 ],
 "metadata": {
  "kernelspec": {
   "display_name": "Python 3 (ipykernel)",
   "language": "python",
   "name": "python3"
  },
  "language_info": {
   "codemirror_mode": {
    "name": "ipython",
    "version": 3
   },
   "file_extension": ".py",
   "mimetype": "text/x-python",
   "name": "python",
   "nbconvert_exporter": "python",
   "pygments_lexer": "ipython3",
   "version": "3.9.12"
  }
 },
 "nbformat": 4,
 "nbformat_minor": 5
}
