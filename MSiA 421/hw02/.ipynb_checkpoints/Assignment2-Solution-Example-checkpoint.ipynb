{
 "cells": [
  {
   "cell_type": "markdown",
   "metadata": {},
   "source": [
    "# Assignment 2\n",
    "\n",
    "## Question 3\n",
    "\n",
    "#### U.S. Chronic Disease Indicators dataset and National Cardiovascular Disease Surveillance dataset"
   ]
  },
  {
   "cell_type": "markdown",
   "metadata": {},
   "source": [
    "Dataset: The Division of Population Health of the Centers for Disease Control and Prevention provides cross-cutting set of 124 chronic disease indicators that allows states and territories and large metropolitan areas of the US to uniformly define, collect, and report chronic disease data that are important to public health practice. \n",
    "\n",
    "Data Source:\n",
    "\n",
    "- https://chronicdata.cdc.gov/Chronic-Disease-Indicators/U-S-Chronic-Disease-Indicators-CDI-/g4ie-h725/data\n",
    "\n",
    "A crude rate is the number of new cases (or deaths) occurring in a specified population per year, usually expressed as the number of cases per 100,000 population at risk."
   ]
  },
  {
   "cell_type": "code",
   "execution_count": 1,
   "metadata": {},
   "outputs": [],
   "source": [
    "#import libraries\n",
    "import numpy as np\n",
    "import pandas as pd\n",
    "import matplotlib.pyplot as plt\n",
    "\n",
    "%matplotlib inline"
   ]
  },
  {
   "cell_type": "markdown",
   "metadata": {},
   "source": [
    "## Exploratory Data Analysis (EDA)"
   ]
  },
  {
   "cell_type": "code",
   "execution_count": 2,
   "metadata": {
    "scrolled": false
   },
   "outputs": [],
   "source": [
    "#read the csv file using pandas\n",
    "df=pd.read_csv(\"T:/data/U.S._Chronic_Disease_Indicators__CDI_.csv\", low_memory=False)"
   ]
  },
  {
   "cell_type": "code",
   "execution_count": 3,
   "metadata": {},
   "outputs": [
    {
     "data": {
      "text/plain": [
       "['YearStart',\n",
       " 'YearEnd',\n",
       " 'LocationAbbr',\n",
       " 'LocationDesc',\n",
       " 'DataSource',\n",
       " 'Topic',\n",
       " 'Question',\n",
       " 'Response',\n",
       " 'DataValueUnit',\n",
       " 'DataValueType',\n",
       " 'DataValue',\n",
       " 'DataValueAlt',\n",
       " 'DataValueFootnoteSymbol',\n",
       " 'DatavalueFootnote',\n",
       " 'LowConfidenceLimit',\n",
       " 'HighConfidenceLimit',\n",
       " 'StratificationCategory1',\n",
       " 'Stratification1',\n",
       " 'StratificationCategory2',\n",
       " 'Stratification2',\n",
       " 'StratificationCategory3',\n",
       " 'Stratification3',\n",
       " 'GeoLocation',\n",
       " 'ResponseID',\n",
       " 'LocationID',\n",
       " 'TopicID',\n",
       " 'QuestionID',\n",
       " 'DataValueTypeID',\n",
       " 'StratificationCategoryID1',\n",
       " 'StratificationID1',\n",
       " 'StratificationCategoryID2',\n",
       " 'StratificationID2',\n",
       " 'StratificationCategoryID3',\n",
       " 'StratificationID3']"
      ]
     },
     "execution_count": 3,
     "metadata": {},
     "output_type": "execute_result"
    }
   ],
   "source": [
    "#list all the column names in the dataset\n",
    "list(df.columns)"
   ]
  },
  {
   "cell_type": "code",
   "execution_count": 4,
   "metadata": {},
   "outputs": [
    {
     "data": {
      "text/html": [
       "<div>\n",
       "<style scoped>\n",
       "    .dataframe tbody tr th:only-of-type {\n",
       "        vertical-align: middle;\n",
       "    }\n",
       "\n",
       "    .dataframe tbody tr th {\n",
       "        vertical-align: top;\n",
       "    }\n",
       "\n",
       "    .dataframe thead th {\n",
       "        text-align: right;\n",
       "    }\n",
       "</style>\n",
       "<table border=\"1\" class=\"dataframe\">\n",
       "  <thead>\n",
       "    <tr style=\"text-align: right;\">\n",
       "      <th></th>\n",
       "      <th>YearStart</th>\n",
       "      <th>YearEnd</th>\n",
       "      <th>LocationAbbr</th>\n",
       "      <th>LocationDesc</th>\n",
       "      <th>DataSource</th>\n",
       "      <th>Topic</th>\n",
       "      <th>Question</th>\n",
       "      <th>Response</th>\n",
       "      <th>DataValueUnit</th>\n",
       "      <th>DataValueType</th>\n",
       "      <th>DataValue</th>\n",
       "      <th>DataValueAlt</th>\n",
       "      <th>DataValueFootnoteSymbol</th>\n",
       "      <th>DatavalueFootnote</th>\n",
       "      <th>LowConfidenceLimit</th>\n",
       "      <th>HighConfidenceLimit</th>\n",
       "      <th>StratificationCategory1</th>\n",
       "      <th>Stratification1</th>\n",
       "      <th>StratificationCategory2</th>\n",
       "      <th>Stratification2</th>\n",
       "      <th>StratificationCategory3</th>\n",
       "      <th>Stratification3</th>\n",
       "      <th>GeoLocation</th>\n",
       "      <th>ResponseID</th>\n",
       "      <th>LocationID</th>\n",
       "      <th>TopicID</th>\n",
       "      <th>QuestionID</th>\n",
       "      <th>DataValueTypeID</th>\n",
       "      <th>StratificationCategoryID1</th>\n",
       "      <th>StratificationID1</th>\n",
       "      <th>StratificationCategoryID2</th>\n",
       "      <th>StratificationID2</th>\n",
       "      <th>StratificationCategoryID3</th>\n",
       "      <th>StratificationID3</th>\n",
       "    </tr>\n",
       "  </thead>\n",
       "  <tbody>\n",
       "    <tr>\n",
       "      <th>0</th>\n",
       "      <td>2010</td>\n",
       "      <td>2010</td>\n",
       "      <td>AK</td>\n",
       "      <td>Alaska</td>\n",
       "      <td>NVSS</td>\n",
       "      <td>Alcohol</td>\n",
       "      <td>Chronic liver disease mortality</td>\n",
       "      <td>NaN</td>\n",
       "      <td>NaN</td>\n",
       "      <td>Number</td>\n",
       "      <td>70</td>\n",
       "      <td>70.0</td>\n",
       "      <td>NaN</td>\n",
       "      <td>NaN</td>\n",
       "      <td>NaN</td>\n",
       "      <td>NaN</td>\n",
       "      <td>Overall</td>\n",
       "      <td>Overall</td>\n",
       "      <td>NaN</td>\n",
       "      <td>NaN</td>\n",
       "      <td>NaN</td>\n",
       "      <td>NaN</td>\n",
       "      <td>POINT (-147.72205903599973 64.84507995700051)</td>\n",
       "      <td>NaN</td>\n",
       "      <td>2</td>\n",
       "      <td>ALC</td>\n",
       "      <td>ALC6_0</td>\n",
       "      <td>NMBR</td>\n",
       "      <td>OVERALL</td>\n",
       "      <td>OVR</td>\n",
       "      <td>NaN</td>\n",
       "      <td>NaN</td>\n",
       "      <td>NaN</td>\n",
       "      <td>NaN</td>\n",
       "    </tr>\n",
       "    <tr>\n",
       "      <th>1</th>\n",
       "      <td>2017</td>\n",
       "      <td>2017</td>\n",
       "      <td>AK</td>\n",
       "      <td>Alaska</td>\n",
       "      <td>NVSS</td>\n",
       "      <td>Alcohol</td>\n",
       "      <td>Chronic liver disease mortality</td>\n",
       "      <td>NaN</td>\n",
       "      <td>NaN</td>\n",
       "      <td>Number</td>\n",
       "      <td>121</td>\n",
       "      <td>121.0</td>\n",
       "      <td>NaN</td>\n",
       "      <td>NaN</td>\n",
       "      <td>NaN</td>\n",
       "      <td>NaN</td>\n",
       "      <td>Overall</td>\n",
       "      <td>Overall</td>\n",
       "      <td>NaN</td>\n",
       "      <td>NaN</td>\n",
       "      <td>NaN</td>\n",
       "      <td>NaN</td>\n",
       "      <td>POINT (-147.72205903599973 64.84507995700051)</td>\n",
       "      <td>NaN</td>\n",
       "      <td>2</td>\n",
       "      <td>ALC</td>\n",
       "      <td>ALC6_0</td>\n",
       "      <td>NMBR</td>\n",
       "      <td>OVERALL</td>\n",
       "      <td>OVR</td>\n",
       "      <td>NaN</td>\n",
       "      <td>NaN</td>\n",
       "      <td>NaN</td>\n",
       "      <td>NaN</td>\n",
       "    </tr>\n",
       "  </tbody>\n",
       "</table>\n",
       "</div>"
      ],
      "text/plain": [
       "   YearStart  YearEnd LocationAbbr LocationDesc DataSource    Topic  \\\n",
       "0       2010     2010           AK       Alaska       NVSS  Alcohol   \n",
       "1       2017     2017           AK       Alaska       NVSS  Alcohol   \n",
       "\n",
       "                          Question  Response DataValueUnit DataValueType  \\\n",
       "0  Chronic liver disease mortality       NaN           NaN        Number   \n",
       "1  Chronic liver disease mortality       NaN           NaN        Number   \n",
       "\n",
       "  DataValue  DataValueAlt DataValueFootnoteSymbol DatavalueFootnote  \\\n",
       "0        70          70.0                     NaN               NaN   \n",
       "1       121         121.0                     NaN               NaN   \n",
       "\n",
       "   LowConfidenceLimit  HighConfidenceLimit StratificationCategory1  \\\n",
       "0                 NaN                  NaN                 Overall   \n",
       "1                 NaN                  NaN                 Overall   \n",
       "\n",
       "  Stratification1  StratificationCategory2  Stratification2  \\\n",
       "0         Overall                      NaN              NaN   \n",
       "1         Overall                      NaN              NaN   \n",
       "\n",
       "   StratificationCategory3  Stratification3  \\\n",
       "0                      NaN              NaN   \n",
       "1                      NaN              NaN   \n",
       "\n",
       "                                     GeoLocation  ResponseID  LocationID  \\\n",
       "0  POINT (-147.72205903599973 64.84507995700051)         NaN           2   \n",
       "1  POINT (-147.72205903599973 64.84507995700051)         NaN           2   \n",
       "\n",
       "  TopicID QuestionID DataValueTypeID StratificationCategoryID1  \\\n",
       "0     ALC     ALC6_0            NMBR                   OVERALL   \n",
       "1     ALC     ALC6_0            NMBR                   OVERALL   \n",
       "\n",
       "  StratificationID1  StratificationCategoryID2  StratificationID2  \\\n",
       "0               OVR                        NaN                NaN   \n",
       "1               OVR                        NaN                NaN   \n",
       "\n",
       "   StratificationCategoryID3  StratificationID3  \n",
       "0                        NaN                NaN  \n",
       "1                        NaN                NaN  "
      ]
     },
     "execution_count": 4,
     "metadata": {},
     "output_type": "execute_result"
    }
   ],
   "source": [
    "#set no limit on the number of columns that can be displayed\n",
    "pd.set_option('display.max_columns', None)\n",
    "\n",
    "#sample the first few rows\n",
    "df.head(2)"
   ]
  },
  {
   "cell_type": "markdown",
   "metadata": {},
   "source": [
    "### Data Cleanup\n",
    "\n",
    "- Only retain the data for the year 2020\n",
    "- DataValueAlt contains the numeric value for each observation. For our analysis, we will remove all records where this numeric value is missing."
   ]
  },
  {
   "cell_type": "code",
   "execution_count": 5,
   "metadata": {},
   "outputs": [],
   "source": [
    "#filter rows where year is 2020\n",
    "df = df[(df.YearStart == 2020)]"
   ]
  },
  {
   "cell_type": "code",
   "execution_count": 6,
   "metadata": {},
   "outputs": [],
   "source": [
    "#drop columns with NaN for all rows\n",
    "df=df.dropna(axis=1,how='all')"
   ]
  },
  {
   "cell_type": "code",
   "execution_count": 7,
   "metadata": {},
   "outputs": [
    {
     "data": {
      "text/plain": [
       "%         52835\n",
       "Number     4350\n",
       "$           162\n",
       "Name: DataValueUnit, dtype: int64"
      ]
     },
     "execution_count": 7,
     "metadata": {},
     "output_type": "execute_result"
    }
   ],
   "source": [
    "df.DataValueUnit.value_counts()"
   ]
  },
  {
   "cell_type": "code",
   "execution_count": 8,
   "metadata": {},
   "outputs": [],
   "source": [
    "#filter only percentage values\n",
    "df = df[(df.DataValueUnit == '%')]"
   ]
  },
  {
   "cell_type": "code",
   "execution_count": 9,
   "metadata": {},
   "outputs": [],
   "source": [
    "#drop other unnecessary columns \n",
    "df = df.drop(['LocationDesc', 'DataSource',\n",
    "              'DatavalueFootnote','DataValueFootnoteSymbol',\n",
    "              'LowConfidenceLimit','HighConfidenceLimit',\n",
    "              'DataValueAlt','LocationID','YearStart','YearEnd',\n",
    "              'GeoLocation','StratificationCategoryID1','DataValueUnit','DataValueTypeID'], axis=1)"
   ]
  },
  {
   "cell_type": "code",
   "execution_count": 10,
   "metadata": {},
   "outputs": [
    {
     "data": {
      "text/html": [
       "<div>\n",
       "<style scoped>\n",
       "    .dataframe tbody tr th:only-of-type {\n",
       "        vertical-align: middle;\n",
       "    }\n",
       "\n",
       "    .dataframe tbody tr th {\n",
       "        vertical-align: top;\n",
       "    }\n",
       "\n",
       "    .dataframe thead th {\n",
       "        text-align: right;\n",
       "    }\n",
       "</style>\n",
       "<table border=\"1\" class=\"dataframe\">\n",
       "  <thead>\n",
       "    <tr style=\"text-align: right;\">\n",
       "      <th></th>\n",
       "      <th>LocationAbbr</th>\n",
       "      <th>Topic</th>\n",
       "      <th>Question</th>\n",
       "      <th>DataValueType</th>\n",
       "      <th>DataValue</th>\n",
       "      <th>StratificationCategory1</th>\n",
       "      <th>Stratification1</th>\n",
       "      <th>TopicID</th>\n",
       "      <th>QuestionID</th>\n",
       "      <th>StratificationID1</th>\n",
       "    </tr>\n",
       "  </thead>\n",
       "  <tbody>\n",
       "    <tr>\n",
       "      <th>2308</th>\n",
       "      <td>TX</td>\n",
       "      <td>Asthma</td>\n",
       "      <td>Asthma prevalence among women aged 18-44 years</td>\n",
       "      <td>Crude Prevalence</td>\n",
       "      <td>9.9</td>\n",
       "      <td>Race/Ethnicity</td>\n",
       "      <td>Hispanic</td>\n",
       "      <td>AST</td>\n",
       "      <td>AST1_2</td>\n",
       "      <td>HIS</td>\n",
       "    </tr>\n",
       "    <tr>\n",
       "      <th>2311</th>\n",
       "      <td>PA</td>\n",
       "      <td>Oral Health</td>\n",
       "      <td>All teeth lost among adults aged &gt;= 65 years</td>\n",
       "      <td>Crude Prevalence</td>\n",
       "      <td>14.6</td>\n",
       "      <td>Overall</td>\n",
       "      <td>Overall</td>\n",
       "      <td>ORH</td>\n",
       "      <td>ORH4_1</td>\n",
       "      <td>OVR</td>\n",
       "    </tr>\n",
       "  </tbody>\n",
       "</table>\n",
       "</div>"
      ],
      "text/plain": [
       "     LocationAbbr        Topic  \\\n",
       "2308           TX       Asthma   \n",
       "2311           PA  Oral Health   \n",
       "\n",
       "                                            Question     DataValueType  \\\n",
       "2308  Asthma prevalence among women aged 18-44 years  Crude Prevalence   \n",
       "2311    All teeth lost among adults aged >= 65 years  Crude Prevalence   \n",
       "\n",
       "     DataValue StratificationCategory1 Stratification1 TopicID QuestionID  \\\n",
       "2308       9.9          Race/Ethnicity        Hispanic     AST     AST1_2   \n",
       "2311      14.6                 Overall         Overall     ORH     ORH4_1   \n",
       "\n",
       "     StratificationID1  \n",
       "2308               HIS  \n",
       "2311               OVR  "
      ]
     },
     "execution_count": 10,
     "metadata": {},
     "output_type": "execute_result"
    }
   ],
   "source": [
    "#remove all the rows where data value is NaN or empty\n",
    "df.dropna(subset=['DataValue'],inplace=True)\n",
    "df.head(2)"
   ]
  },
  {
   "cell_type": "code",
   "execution_count": 11,
   "metadata": {},
   "outputs": [
    {
     "data": {
      "text/html": [
       "<div>\n",
       "<style scoped>\n",
       "    .dataframe tbody tr th:only-of-type {\n",
       "        vertical-align: middle;\n",
       "    }\n",
       "\n",
       "    .dataframe tbody tr th {\n",
       "        vertical-align: top;\n",
       "    }\n",
       "\n",
       "    .dataframe thead th {\n",
       "        text-align: right;\n",
       "    }\n",
       "</style>\n",
       "<table border=\"1\" class=\"dataframe\">\n",
       "  <thead>\n",
       "    <tr style=\"text-align: right;\">\n",
       "      <th></th>\n",
       "      <th>LocationAbbr</th>\n",
       "      <th>Topic</th>\n",
       "      <th>Question</th>\n",
       "      <th>DataValueType</th>\n",
       "      <th>DataValue</th>\n",
       "      <th>StratificationCategory1</th>\n",
       "      <th>Stratification1</th>\n",
       "      <th>TopicID</th>\n",
       "      <th>QuestionID</th>\n",
       "      <th>StratificationID1</th>\n",
       "    </tr>\n",
       "  </thead>\n",
       "  <tbody>\n",
       "    <tr>\n",
       "      <th>count</th>\n",
       "      <td>33681</td>\n",
       "      <td>33681</td>\n",
       "      <td>33681</td>\n",
       "      <td>33681</td>\n",
       "      <td>33681</td>\n",
       "      <td>33681</td>\n",
       "      <td>33681</td>\n",
       "      <td>33681</td>\n",
       "      <td>33681</td>\n",
       "      <td>33681</td>\n",
       "    </tr>\n",
       "    <tr>\n",
       "      <th>unique</th>\n",
       "      <td>55</td>\n",
       "      <td>16</td>\n",
       "      <td>70</td>\n",
       "      <td>3</td>\n",
       "      <td>1007</td>\n",
       "      <td>3</td>\n",
       "      <td>8</td>\n",
       "      <td>16</td>\n",
       "      <td>70</td>\n",
       "      <td>8</td>\n",
       "    </tr>\n",
       "    <tr>\n",
       "      <th>top</th>\n",
       "      <td>NY</td>\n",
       "      <td>Diabetes</td>\n",
       "      <td>Prevalence of sufficient sleep among adults ag...</td>\n",
       "      <td>Crude Prevalence</td>\n",
       "      <td>0.0</td>\n",
       "      <td>Race/Ethnicity</td>\n",
       "      <td>Overall</td>\n",
       "      <td>DIA</td>\n",
       "      <td>OVC8_0</td>\n",
       "      <td>OVR</td>\n",
       "    </tr>\n",
       "    <tr>\n",
       "      <th>freq</th>\n",
       "      <td>767</td>\n",
       "      <td>4468</td>\n",
       "      <td>824</td>\n",
       "      <td>17754</td>\n",
       "      <td>137</td>\n",
       "      <td>16277</td>\n",
       "      <td>6518</td>\n",
       "      <td>4468</td>\n",
       "      <td>824</td>\n",
       "      <td>6518</td>\n",
       "    </tr>\n",
       "  </tbody>\n",
       "</table>\n",
       "</div>"
      ],
      "text/plain": [
       "       LocationAbbr     Topic  \\\n",
       "count         33681     33681   \n",
       "unique           55        16   \n",
       "top              NY  Diabetes   \n",
       "freq            767      4468   \n",
       "\n",
       "                                                 Question     DataValueType  \\\n",
       "count                                               33681             33681   \n",
       "unique                                                 70                 3   \n",
       "top     Prevalence of sufficient sleep among adults ag...  Crude Prevalence   \n",
       "freq                                                  824             17754   \n",
       "\n",
       "       DataValue StratificationCategory1 Stratification1 TopicID QuestionID  \\\n",
       "count      33681                   33681           33681   33681      33681   \n",
       "unique      1007                       3               8      16         70   \n",
       "top          0.0          Race/Ethnicity         Overall     DIA     OVC8_0   \n",
       "freq         137                   16277            6518    4468        824   \n",
       "\n",
       "       StratificationID1  \n",
       "count              33681  \n",
       "unique                 8  \n",
       "top                  OVR  \n",
       "freq                6518  "
      ]
     },
     "execution_count": 11,
     "metadata": {},
     "output_type": "execute_result"
    }
   ],
   "source": [
    "df.describe()"
   ]
  },
  {
   "cell_type": "markdown",
   "metadata": {},
   "source": [
    "### Plot breakdown"
   ]
  },
  {
   "cell_type": "code",
   "execution_count": 12,
   "metadata": {},
   "outputs": [
    {
     "data": {
      "text/plain": [
       "16"
      ]
     },
     "execution_count": 12,
     "metadata": {},
     "output_type": "execute_result"
    }
   ],
   "source": [
    "#count the number of Topic groups\n",
    "numgroups = len(df.groupby('Topic'))\n",
    "numgroups"
   ]
  },
  {
   "cell_type": "code",
   "execution_count": 13,
   "metadata": {},
   "outputs": [
    {
     "data": {
      "image/png": "[encoded data removed]",
      "text/plain": [
       "<Figure size 1400x500 with 1 Axes>"
      ]
     },
     "metadata": {},
     "output_type": "display_data"
    }
   ],
   "source": [
    "#group by topic and plot rows in the descending order\n",
    "df.groupby('Topic').size().sort_values(ascending=True)\\\n",
    "    .plot(title=\"Number of Records by Topics\", kind='barh',figsize=(14,5))\n",
    "plt.show()"
   ]
  },
  {
   "cell_type": "markdown",
   "metadata": {},
   "source": [
    "### Plot Questions by Number of Records\n",
    "\n",
    "Visualize some of the most common questions in a plot."
   ]
  },
  {
   "cell_type": "code",
   "execution_count": 14,
   "metadata": {},
   "outputs": [
    {
     "data": {
      "image/png": "[encoded data removed]",
      "text/plain": [
       "<Figure size 1000x500 with 1 Axes>"
      ]
     },
     "metadata": {},
     "output_type": "display_data"
    }
   ],
   "source": [
    "#plot counts of top 5 most common questions by number of records\n",
    "df.groupby('Question').size().sort_values(ascending=True).head(5).plot(title=\"Number of Records by Question\",kind='barh',figsize=(10,5))\n",
    "plt.show()"
   ]
  },
  {
   "cell_type": "markdown",
   "metadata": {},
   "source": [
    "#### Q1) How do the stats around preventative measures for Diabetes look in the population"
   ]
  },
  {
   "cell_type": "code",
   "execution_count": 15,
   "metadata": {},
   "outputs": [],
   "source": [
    "#Filter by Crude Prevalence\n",
    "df1 = df[(df.DataValueType == 'Crude Prevalence')]\n",
    "#Filter by topic\n",
    "df1 = df1[(df1.Topic == 'Diabetes')]\n",
    "df1 = df1[(df1.StratificationID1 == 'OVR')]"
   ]
  },
  {
   "cell_type": "code",
   "execution_count": 16,
   "metadata": {},
   "outputs": [
    {
     "data": {
      "text/html": [
       "<div>\n",
       "<style scoped>\n",
       "    .dataframe tbody tr th:only-of-type {\n",
       "        vertical-align: middle;\n",
       "    }\n",
       "\n",
       "    .dataframe tbody tr th {\n",
       "        vertical-align: top;\n",
       "    }\n",
       "\n",
       "    .dataframe thead th {\n",
       "        text-align: right;\n",
       "    }\n",
       "</style>\n",
       "<table border=\"1\" class=\"dataframe\">\n",
       "  <thead>\n",
       "    <tr style=\"text-align: right;\">\n",
       "      <th></th>\n",
       "      <th>LocationAbbr</th>\n",
       "      <th>Topic</th>\n",
       "      <th>Question</th>\n",
       "      <th>DataValueType</th>\n",
       "      <th>DataValue</th>\n",
       "      <th>StratificationCategory1</th>\n",
       "      <th>Stratification1</th>\n",
       "      <th>TopicID</th>\n",
       "      <th>QuestionID</th>\n",
       "      <th>StratificationID1</th>\n",
       "    </tr>\n",
       "  </thead>\n",
       "  <tbody>\n",
       "    <tr>\n",
       "      <th>1007965</th>\n",
       "      <td>NE</td>\n",
       "      <td>Diabetes</td>\n",
       "      <td>Diabetes prevalence among women aged 18-44 years</td>\n",
       "      <td>Crude Prevalence</td>\n",
       "      <td>7.2</td>\n",
       "      <td>Overall</td>\n",
       "      <td>Overall</td>\n",
       "      <td>DIA</td>\n",
       "      <td>DIA2_2</td>\n",
       "      <td>OVR</td>\n",
       "    </tr>\n",
       "    <tr>\n",
       "      <th>1023542</th>\n",
       "      <td>GA</td>\n",
       "      <td>Diabetes</td>\n",
       "      <td>Pneumococcal vaccination among noninstitutiona...</td>\n",
       "      <td>Crude Prevalence</td>\n",
       "      <td>77.1</td>\n",
       "      <td>Overall</td>\n",
       "      <td>Overall</td>\n",
       "      <td>DIA</td>\n",
       "      <td>DIA13_2</td>\n",
       "      <td>OVR</td>\n",
       "    </tr>\n",
       "  </tbody>\n",
       "</table>\n",
       "</div>"
      ],
      "text/plain": [
       "        LocationAbbr     Topic  \\\n",
       "1007965           NE  Diabetes   \n",
       "1023542           GA  Diabetes   \n",
       "\n",
       "                                                  Question     DataValueType  \\\n",
       "1007965   Diabetes prevalence among women aged 18-44 years  Crude Prevalence   \n",
       "1023542  Pneumococcal vaccination among noninstitutiona...  Crude Prevalence   \n",
       "\n",
       "        DataValue StratificationCategory1 Stratification1 TopicID QuestionID  \\\n",
       "1007965       7.2                 Overall         Overall     DIA     DIA2_2   \n",
       "1023542      77.1                 Overall         Overall     DIA    DIA13_2   \n",
       "\n",
       "        StratificationID1  \n",
       "1007965               OVR  \n",
       "1023542               OVR  "
      ]
     },
     "execution_count": 16,
     "metadata": {},
     "output_type": "execute_result"
    }
   ],
   "source": [
    "df1.head(2)"
   ]
  },
  {
   "cell_type": "code",
   "execution_count": 17,
   "metadata": {},
   "outputs": [],
   "source": [
    "#filter questions around vaccination\n",
    "df1 = df1[df1['Question'].str.contains(\"vaccination\")]"
   ]
  },
  {
   "cell_type": "code",
   "execution_count": 18,
   "metadata": {},
   "outputs": [
    {
     "data": {
      "text/plain": [
       "array(['Pneumococcal vaccination among noninstitutionalized adults aged >= 65 years with diagnosed diabetes',\n",
       "       'Influenza vaccination among noninstitutionalized adults aged >= 65 years with diagnosed diabetes',\n",
       "       'Pneumococcal vaccination among noninstitutionalized adults aged 18-64 years with diagnosed diabetes',\n",
       "       'Influenza vaccination among noninstitutionalized adults aged 18-64 years with diagnosed diabetes'],\n",
       "      dtype=object)"
      ]
     },
     "execution_count": 18,
     "metadata": {},
     "output_type": "execute_result"
    }
   ],
   "source": [
    "df1.Question.unique()"
   ]
  },
  {
   "cell_type": "code",
   "execution_count": 19,
   "metadata": {},
   "outputs": [
    {
     "data": {
      "text/plain": [
       "array(['DIA13_2', 'DIA12_2', 'DIA13_1', 'DIA12_1'], dtype=object)"
      ]
     },
     "execution_count": 19,
     "metadata": {},
     "output_type": "execute_result"
    }
   ],
   "source": [
    "df1.QuestionID.unique()"
   ]
  },
  {
   "cell_type": "code",
   "execution_count": 20,
   "metadata": {},
   "outputs": [],
   "source": [
    "#filter questions for a specific age group\n",
    "#df1 = df1[df1.QuestionID.isin(['DIA13_2', 'DIA12_2'])]"
   ]
  },
  {
   "cell_type": "code",
   "execution_count": 21,
   "metadata": {},
   "outputs": [
    {
     "data": {
      "text/html": [
       "<div>\n",
       "<style scoped>\n",
       "    .dataframe tbody tr th:only-of-type {\n",
       "        vertical-align: middle;\n",
       "    }\n",
       "\n",
       "    .dataframe tbody tr th {\n",
       "        vertical-align: top;\n",
       "    }\n",
       "\n",
       "    .dataframe thead th {\n",
       "        text-align: right;\n",
       "    }\n",
       "</style>\n",
       "<table border=\"1\" class=\"dataframe\">\n",
       "  <thead>\n",
       "    <tr style=\"text-align: right;\">\n",
       "      <th></th>\n",
       "      <th>LocationAbbr</th>\n",
       "      <th>QuestionID</th>\n",
       "      <th>DataValue</th>\n",
       "    </tr>\n",
       "  </thead>\n",
       "  <tbody>\n",
       "    <tr>\n",
       "      <th>1023542</th>\n",
       "      <td>GA</td>\n",
       "      <td>DIA13_2</td>\n",
       "      <td>77.1</td>\n",
       "    </tr>\n",
       "    <tr>\n",
       "      <th>1023589</th>\n",
       "      <td>AZ</td>\n",
       "      <td>DIA12_2</td>\n",
       "      <td>65.9</td>\n",
       "    </tr>\n",
       "    <tr>\n",
       "      <th>1023975</th>\n",
       "      <td>DC</td>\n",
       "      <td>DIA13_1</td>\n",
       "      <td>42.8</td>\n",
       "    </tr>\n",
       "    <tr>\n",
       "      <th>1024507</th>\n",
       "      <td>AZ</td>\n",
       "      <td>DIA13_2</td>\n",
       "      <td>73.3</td>\n",
       "    </tr>\n",
       "    <tr>\n",
       "      <th>1024897</th>\n",
       "      <td>AR</td>\n",
       "      <td>DIA12_1</td>\n",
       "      <td>53.7</td>\n",
       "    </tr>\n",
       "  </tbody>\n",
       "</table>\n",
       "</div>"
      ],
      "text/plain": [
       "        LocationAbbr QuestionID DataValue\n",
       "1023542           GA    DIA13_2      77.1\n",
       "1023589           AZ    DIA12_2      65.9\n",
       "1023975           DC    DIA13_1      42.8\n",
       "1024507           AZ    DIA13_2      73.3\n",
       "1024897           AR    DIA12_1      53.7"
      ]
     },
     "execution_count": 21,
     "metadata": {},
     "output_type": "execute_result"
    }
   ],
   "source": [
    "df1= df1[['LocationAbbr','QuestionID','DataValue']]\n",
    "df1.head(5)"
   ]
  },
  {
   "cell_type": "code",
   "execution_count": 22,
   "metadata": {},
   "outputs": [
    {
     "data": {
      "text/html": [
       "<div>\n",
       "<style scoped>\n",
       "    .dataframe tbody tr th:only-of-type {\n",
       "        vertical-align: middle;\n",
       "    }\n",
       "\n",
       "    .dataframe tbody tr th {\n",
       "        vertical-align: top;\n",
       "    }\n",
       "\n",
       "    .dataframe thead tr th {\n",
       "        text-align: left;\n",
       "    }\n",
       "\n",
       "    .dataframe thead tr:last-of-type th {\n",
       "        text-align: right;\n",
       "    }\n",
       "</style>\n",
       "<table border=\"1\" class=\"dataframe\">\n",
       "  <thead>\n",
       "    <tr>\n",
       "      <th></th>\n",
       "      <th colspan=\"4\" halign=\"left\">DataValue</th>\n",
       "    </tr>\n",
       "    <tr>\n",
       "      <th>QuestionID</th>\n",
       "      <th>DIA12_1</th>\n",
       "      <th>DIA12_2</th>\n",
       "      <th>DIA13_1</th>\n",
       "      <th>DIA13_2</th>\n",
       "    </tr>\n",
       "    <tr>\n",
       "      <th>LocationAbbr</th>\n",
       "      <th></th>\n",
       "      <th></th>\n",
       "      <th></th>\n",
       "      <th></th>\n",
       "    </tr>\n",
       "  </thead>\n",
       "  <tbody>\n",
       "    <tr>\n",
       "      <th>AK</th>\n",
       "      <td>53.8</td>\n",
       "      <td>63.1</td>\n",
       "      <td>43.1</td>\n",
       "      <td>71.8</td>\n",
       "    </tr>\n",
       "    <tr>\n",
       "      <th>AL</th>\n",
       "      <td>47.2</td>\n",
       "      <td>72.4</td>\n",
       "      <td>36.5</td>\n",
       "      <td>73.9</td>\n",
       "    </tr>\n",
       "    <tr>\n",
       "      <th>AR</th>\n",
       "      <td>53.7</td>\n",
       "      <td>76.3</td>\n",
       "      <td>48.6</td>\n",
       "      <td>79.1</td>\n",
       "    </tr>\n",
       "    <tr>\n",
       "      <th>AZ</th>\n",
       "      <td>51.2</td>\n",
       "      <td>65.9</td>\n",
       "      <td>35.4</td>\n",
       "      <td>73.3</td>\n",
       "    </tr>\n",
       "    <tr>\n",
       "      <th>CA</th>\n",
       "      <td>53.4</td>\n",
       "      <td>71.1</td>\n",
       "      <td>29.9</td>\n",
       "      <td>70.9</td>\n",
       "    </tr>\n",
       "  </tbody>\n",
       "</table>\n",
       "</div>"
      ],
      "text/plain": [
       "             DataValue                        \n",
       "QuestionID     DIA12_1 DIA12_2 DIA13_1 DIA13_2\n",
       "LocationAbbr                                  \n",
       "AK                53.8    63.1    43.1    71.8\n",
       "AL                47.2    72.4    36.5    73.9\n",
       "AR                53.7    76.3    48.6    79.1\n",
       "AZ                51.2    65.9    35.4    73.3\n",
       "CA                53.4    71.1    29.9    70.9"
      ]
     },
     "execution_count": 22,
     "metadata": {},
     "output_type": "execute_result"
    }
   ],
   "source": [
    "df11 = df1.pivot(index='LocationAbbr',columns=['QuestionID'], values=['DataValue'])\n",
    "df11.head()"
   ]
  },
  {
   "cell_type": "code",
   "execution_count": 23,
   "metadata": {},
   "outputs": [
    {
     "data": {
      "text/html": [
       "<div>\n",
       "<style scoped>\n",
       "    .dataframe tbody tr th:only-of-type {\n",
       "        vertical-align: middle;\n",
       "    }\n",
       "\n",
       "    .dataframe tbody tr th {\n",
       "        vertical-align: top;\n",
       "    }\n",
       "\n",
       "    .dataframe thead th {\n",
       "        text-align: right;\n",
       "    }\n",
       "</style>\n",
       "<table border=\"1\" class=\"dataframe\">\n",
       "  <thead>\n",
       "    <tr style=\"text-align: right;\">\n",
       "      <th>QuestionID</th>\n",
       "      <th>DIA12_1</th>\n",
       "      <th>DIA12_2</th>\n",
       "      <th>DIA13_1</th>\n",
       "      <th>DIA13_2</th>\n",
       "    </tr>\n",
       "    <tr>\n",
       "      <th>LocationAbbr</th>\n",
       "      <th></th>\n",
       "      <th></th>\n",
       "      <th></th>\n",
       "      <th></th>\n",
       "    </tr>\n",
       "  </thead>\n",
       "  <tbody>\n",
       "    <tr>\n",
       "      <th>AK</th>\n",
       "      <td>53.8</td>\n",
       "      <td>63.1</td>\n",
       "      <td>43.1</td>\n",
       "      <td>71.8</td>\n",
       "    </tr>\n",
       "    <tr>\n",
       "      <th>AL</th>\n",
       "      <td>47.2</td>\n",
       "      <td>72.4</td>\n",
       "      <td>36.5</td>\n",
       "      <td>73.9</td>\n",
       "    </tr>\n",
       "    <tr>\n",
       "      <th>AR</th>\n",
       "      <td>53.7</td>\n",
       "      <td>76.3</td>\n",
       "      <td>48.6</td>\n",
       "      <td>79.1</td>\n",
       "    </tr>\n",
       "    <tr>\n",
       "      <th>AZ</th>\n",
       "      <td>51.2</td>\n",
       "      <td>65.9</td>\n",
       "      <td>35.4</td>\n",
       "      <td>73.3</td>\n",
       "    </tr>\n",
       "    <tr>\n",
       "      <th>CA</th>\n",
       "      <td>53.4</td>\n",
       "      <td>71.1</td>\n",
       "      <td>29.9</td>\n",
       "      <td>70.9</td>\n",
       "    </tr>\n",
       "  </tbody>\n",
       "</table>\n",
       "</div>"
      ],
      "text/plain": [
       "QuestionID   DIA12_1 DIA12_2 DIA13_1 DIA13_2\n",
       "LocationAbbr                                \n",
       "AK              53.8    63.1    43.1    71.8\n",
       "AL              47.2    72.4    36.5    73.9\n",
       "AR              53.7    76.3    48.6    79.1\n",
       "AZ              51.2    65.9    35.4    73.3\n",
       "CA              53.4    71.1    29.9    70.9"
      ]
     },
     "execution_count": 23,
     "metadata": {},
     "output_type": "execute_result"
    }
   ],
   "source": [
    "df11.columns = df11.columns.get_level_values(1)\n",
    "df11.head()"
   ]
  },
  {
   "cell_type": "markdown",
   "metadata": {},
   "source": [
    "### Cluster Analysis"
   ]
  },
  {
   "cell_type": "code",
   "execution_count": 24,
   "metadata": {},
   "outputs": [
    {
     "name": "stderr",
     "output_type": "stream",
     "text": [
      "C:\\ProgramData\\Anaconda3\\lib\\site-packages\\sklearn\\cluster\\_kmeans.py:1382: UserWarning: KMeans is known to have a memory leak on Windows with MKL, when there are less chunks than available threads. You can avoid it by setting the environment variable OMP_NUM_THREADS=1.\n",
      "  warnings.warn(\n"
     ]
    },
    {
     "data": {
      "text/plain": [
       "array([0, 0, 1, 0, 0, 1, 1, 1, 1, 0, 0, 2, 0, 1, 1, 0, 1, 1, 1, 0, 1, 1,\n",
       "       1, 1, 1, 1, 0, 1, 1, 1, 1, 1, 0, 1, 0, 0, 1, 1, 1, 1, 2, 1, 0, 1,\n",
       "       0, 0, 1, 1, 1, 1, 1, 1, 1, 1])"
      ]
     },
     "execution_count": 24,
     "metadata": {},
     "output_type": "execute_result"
    }
   ],
   "source": [
    "from sklearn.cluster import KMeans\n",
    "import numpy as np\n",
    "kmeans = KMeans(n_clusters=3, random_state=0, n_init=\"auto\").fit(df11)\n",
    "kmeans.labels_"
   ]
  },
  {
   "cell_type": "code",
   "execution_count": 25,
   "metadata": {},
   "outputs": [
    {
     "data": {
      "text/html": [
       "<div>\n",
       "<style scoped>\n",
       "    .dataframe tbody tr th:only-of-type {\n",
       "        vertical-align: middle;\n",
       "    }\n",
       "\n",
       "    .dataframe tbody tr th {\n",
       "        vertical-align: top;\n",
       "    }\n",
       "\n",
       "    .dataframe thead th {\n",
       "        text-align: right;\n",
       "    }\n",
       "</style>\n",
       "<table border=\"1\" class=\"dataframe\">\n",
       "  <thead>\n",
       "    <tr style=\"text-align: right;\">\n",
       "      <th>QuestionID</th>\n",
       "      <th>DIA12_1</th>\n",
       "      <th>DIA12_2</th>\n",
       "      <th>DIA13_1</th>\n",
       "      <th>DIA13_2</th>\n",
       "      <th>KMeans</th>\n",
       "    </tr>\n",
       "    <tr>\n",
       "      <th>LocationAbbr</th>\n",
       "      <th></th>\n",
       "      <th></th>\n",
       "      <th></th>\n",
       "      <th></th>\n",
       "      <th></th>\n",
       "    </tr>\n",
       "  </thead>\n",
       "  <tbody>\n",
       "    <tr>\n",
       "      <th>AK</th>\n",
       "      <td>53.8</td>\n",
       "      <td>63.1</td>\n",
       "      <td>43.1</td>\n",
       "      <td>71.8</td>\n",
       "      <td>0</td>\n",
       "    </tr>\n",
       "    <tr>\n",
       "      <th>AL</th>\n",
       "      <td>47.2</td>\n",
       "      <td>72.4</td>\n",
       "      <td>36.5</td>\n",
       "      <td>73.9</td>\n",
       "      <td>0</td>\n",
       "    </tr>\n",
       "    <tr>\n",
       "      <th>AR</th>\n",
       "      <td>53.7</td>\n",
       "      <td>76.3</td>\n",
       "      <td>48.6</td>\n",
       "      <td>79.1</td>\n",
       "      <td>1</td>\n",
       "    </tr>\n",
       "    <tr>\n",
       "      <th>AZ</th>\n",
       "      <td>51.2</td>\n",
       "      <td>65.9</td>\n",
       "      <td>35.4</td>\n",
       "      <td>73.3</td>\n",
       "      <td>0</td>\n",
       "    </tr>\n",
       "    <tr>\n",
       "      <th>CA</th>\n",
       "      <td>53.4</td>\n",
       "      <td>71.1</td>\n",
       "      <td>29.9</td>\n",
       "      <td>70.9</td>\n",
       "      <td>0</td>\n",
       "    </tr>\n",
       "  </tbody>\n",
       "</table>\n",
       "</div>"
      ],
      "text/plain": [
       "QuestionID   DIA12_1 DIA12_2 DIA13_1 DIA13_2  KMeans\n",
       "LocationAbbr                                        \n",
       "AK              53.8    63.1    43.1    71.8       0\n",
       "AL              47.2    72.4    36.5    73.9       0\n",
       "AR              53.7    76.3    48.6    79.1       1\n",
       "AZ              51.2    65.9    35.4    73.3       0\n",
       "CA              53.4    71.1    29.9    70.9       0"
      ]
     },
     "execution_count": 25,
     "metadata": {},
     "output_type": "execute_result"
    }
   ],
   "source": [
    "df11['KMeans'] = pd.Series(kmeans.labels_, index=df11.index)\n",
    "df11.head()"
   ]
  },
  {
   "cell_type": "code",
   "execution_count": 26,
   "metadata": {},
   "outputs": [],
   "source": [
    "#remove k-Means\n",
    "df11 = df11.drop(['KMeans'], axis=1)"
   ]
  },
  {
   "cell_type": "code",
   "execution_count": 27,
   "metadata": {},
   "outputs": [
    {
     "data": {
      "text/html": [
       "<div>\n",
       "<style scoped>\n",
       "    .dataframe tbody tr th:only-of-type {\n",
       "        vertical-align: middle;\n",
       "    }\n",
       "\n",
       "    .dataframe tbody tr th {\n",
       "        vertical-align: top;\n",
       "    }\n",
       "\n",
       "    .dataframe thead th {\n",
       "        text-align: right;\n",
       "    }\n",
       "</style>\n",
       "<table border=\"1\" class=\"dataframe\">\n",
       "  <thead>\n",
       "    <tr style=\"text-align: right;\">\n",
       "      <th>QuestionID</th>\n",
       "      <th>DIA12_1</th>\n",
       "      <th>DIA12_2</th>\n",
       "      <th>DIA13_1</th>\n",
       "      <th>DIA13_2</th>\n",
       "    </tr>\n",
       "    <tr>\n",
       "      <th>LocationAbbr</th>\n",
       "      <th></th>\n",
       "      <th></th>\n",
       "      <th></th>\n",
       "      <th></th>\n",
       "    </tr>\n",
       "  </thead>\n",
       "  <tbody>\n",
       "    <tr>\n",
       "      <th>AK</th>\n",
       "      <td>53.8</td>\n",
       "      <td>63.1</td>\n",
       "      <td>43.1</td>\n",
       "      <td>71.8</td>\n",
       "    </tr>\n",
       "    <tr>\n",
       "      <th>AL</th>\n",
       "      <td>47.2</td>\n",
       "      <td>72.4</td>\n",
       "      <td>36.5</td>\n",
       "      <td>73.9</td>\n",
       "    </tr>\n",
       "    <tr>\n",
       "      <th>AR</th>\n",
       "      <td>53.7</td>\n",
       "      <td>76.3</td>\n",
       "      <td>48.6</td>\n",
       "      <td>79.1</td>\n",
       "    </tr>\n",
       "    <tr>\n",
       "      <th>AZ</th>\n",
       "      <td>51.2</td>\n",
       "      <td>65.9</td>\n",
       "      <td>35.4</td>\n",
       "      <td>73.3</td>\n",
       "    </tr>\n",
       "    <tr>\n",
       "      <th>CA</th>\n",
       "      <td>53.4</td>\n",
       "      <td>71.1</td>\n",
       "      <td>29.9</td>\n",
       "      <td>70.9</td>\n",
       "    </tr>\n",
       "  </tbody>\n",
       "</table>\n",
       "</div>"
      ],
      "text/plain": [
       "QuestionID   DIA12_1 DIA12_2 DIA13_1 DIA13_2\n",
       "LocationAbbr                                \n",
       "AK              53.8    63.1    43.1    71.8\n",
       "AL              47.2    72.4    36.5    73.9\n",
       "AR              53.7    76.3    48.6    79.1\n",
       "AZ              51.2    65.9    35.4    73.3\n",
       "CA              53.4    71.1    29.9    70.9"
      ]
     },
     "execution_count": 27,
     "metadata": {},
     "output_type": "execute_result"
    }
   ],
   "source": [
    "df11.head()"
   ]
  },
  {
   "cell_type": "code",
   "execution_count": 28,
   "metadata": {
    "scrolled": true
   },
   "outputs": [
    {
     "data": {
      "text/html": [
       "<div>\n",
       "<style scoped>\n",
       "    .dataframe tbody tr th:only-of-type {\n",
       "        vertical-align: middle;\n",
       "    }\n",
       "\n",
       "    .dataframe tbody tr th {\n",
       "        vertical-align: top;\n",
       "    }\n",
       "\n",
       "    .dataframe thead th {\n",
       "        text-align: right;\n",
       "    }\n",
       "</style>\n",
       "<table border=\"1\" class=\"dataframe\">\n",
       "  <thead>\n",
       "    <tr style=\"text-align: right;\">\n",
       "      <th>QuestionID</th>\n",
       "      <th>LocationAbbr</th>\n",
       "      <th>DIA12_1</th>\n",
       "      <th>DIA12_2</th>\n",
       "      <th>DIA13_1</th>\n",
       "      <th>DIA13_2</th>\n",
       "    </tr>\n",
       "  </thead>\n",
       "  <tbody>\n",
       "    <tr>\n",
       "      <th>0</th>\n",
       "      <td>AK</td>\n",
       "      <td>53.8</td>\n",
       "      <td>63.1</td>\n",
       "      <td>43.1</td>\n",
       "      <td>71.8</td>\n",
       "    </tr>\n",
       "    <tr>\n",
       "      <th>1</th>\n",
       "      <td>AL</td>\n",
       "      <td>47.2</td>\n",
       "      <td>72.4</td>\n",
       "      <td>36.5</td>\n",
       "      <td>73.9</td>\n",
       "    </tr>\n",
       "    <tr>\n",
       "      <th>2</th>\n",
       "      <td>AR</td>\n",
       "      <td>53.7</td>\n",
       "      <td>76.3</td>\n",
       "      <td>48.6</td>\n",
       "      <td>79.1</td>\n",
       "    </tr>\n",
       "    <tr>\n",
       "      <th>3</th>\n",
       "      <td>AZ</td>\n",
       "      <td>51.2</td>\n",
       "      <td>65.9</td>\n",
       "      <td>35.4</td>\n",
       "      <td>73.3</td>\n",
       "    </tr>\n",
       "    <tr>\n",
       "      <th>4</th>\n",
       "      <td>CA</td>\n",
       "      <td>53.4</td>\n",
       "      <td>71.1</td>\n",
       "      <td>29.9</td>\n",
       "      <td>70.9</td>\n",
       "    </tr>\n",
       "  </tbody>\n",
       "</table>\n",
       "</div>"
      ],
      "text/plain": [
       "QuestionID LocationAbbr DIA12_1 DIA12_2 DIA13_1 DIA13_2\n",
       "0                    AK    53.8    63.1    43.1    71.8\n",
       "1                    AL    47.2    72.4    36.5    73.9\n",
       "2                    AR    53.7    76.3    48.6    79.1\n",
       "3                    AZ    51.2    65.9    35.4    73.3\n",
       "4                    CA    53.4    71.1    29.9    70.9"
      ]
     },
     "execution_count": 28,
     "metadata": {},
     "output_type": "execute_result"
    }
   ],
   "source": [
    "df11.reset_index(inplace=True)\n",
    "df11.head()"
   ]
  },
  {
   "cell_type": "code",
   "execution_count": 29,
   "metadata": {},
   "outputs": [
    {
     "data": {
      "image/png": "[encoded data removed]",
      "text/plain": [
       "<Figure size 800x600 with 1 Axes>"
      ]
     },
     "metadata": {},
     "output_type": "display_data"
    }
   ],
   "source": [
    "from scipy.cluster.hierarchy import dendrogram, linkage\n",
    "\n",
    "locations = df11['LocationAbbr']\n",
    "X = df11.drop(['LocationAbbr'],axis=1)\n",
    "Z = linkage(X, 'ward')\n",
    "fig, axes = plt.subplots(1, 1, figsize=(8, 6))\n",
    "dn = dendrogram(Z,labels=locations.tolist(),orientation='right')\n",
    "plt.show()"
   ]
  }
 ],
 "metadata": {
  "kernelspec": {
   "display_name": "Python 3 (ipykernel)",
   "language": "python",
   "name": "python3"
  },
  "language_info": {
   "codemirror_mode": {
    "name": "ipython",
    "version": 3
   },
   "file_extension": ".py",
   "mimetype": "text/x-python",
   "name": "python",
   "nbconvert_exporter": "python",
   "pygments_lexer": "ipython3",
   "version": "3.10.4"
  }
 },
 "nbformat": 4,
 "nbformat_minor": 2
}
