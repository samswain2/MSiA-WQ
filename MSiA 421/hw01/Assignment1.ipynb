{
 "cells": [
  {
   "cell_type": "markdown",
   "id": "4ee2b2af",
   "metadata": {},
   "source": [
    "# Libs / Settings"
   ]
  },
  {
   "cell_type": "markdown",
   "id": "abc2413e",
   "metadata": {},
   "source": [
    "#### Libs"
   ]
  },
  {
   "cell_type": "code",
   "execution_count": 1,
   "id": "e79fd8bb",
   "metadata": {},
   "outputs": [],
   "source": [
    "# Import necessary libraries\n",
    "import numpy as np\n",
    "import pandas as pd\n",
    "import random\n",
    "\n",
    "# Import make_classification, eigh, PCA, StandardScaler from sklearn\n",
    "from sklearn.datasets import make_classification\n",
    "from numpy.linalg import eig\n",
    "from sklearn.decomposition import PCA\n",
    "from sklearn.preprocessing import StandardScaler\n",
    "\n",
    "# Import additional libraries for visualization and analysis\n",
    "from sklearn import datasets, metrics\n",
    "import math\n",
    "import matplotlib.pyplot as plt\n",
    "import seaborn as sns\n",
    "from matplotlib.ticker import MaxNLocator"
   ]
  },
  {
   "cell_type": "markdown",
   "id": "d13c4d6b",
   "metadata": {},
   "source": [
    "#### Settings"
   ]
  },
  {
   "cell_type": "code",
   "execution_count": 33,
   "id": "ed2a5d93",
   "metadata": {},
   "outputs": [],
   "source": [
    "# Set random state of notebook\n",
    "random_state_notebook = 421\n",
    "\n",
    "# Set pandas to display all columns\n",
    "pd.set_option('display.max_columns', None)"
   ]
  },
  {
   "cell_type": "markdown",
   "id": "24ea4479",
   "metadata": {},
   "source": [
    "# Question 2"
   ]
  },
  {
   "cell_type": "code",
   "execution_count": 3,
   "id": "b7b591ab",
   "metadata": {},
   "outputs": [],
   "source": [
    "# Get generated data\n",
    "X_2, _ = make_classification(n_samples=1000, n_features=20, random_state=random_state_notebook)\n",
    "df_2 = pd.DataFrame(X_2, columns=['feature_'+str(i) for i in range(1,21)])\n",
    "\n",
    "# Standardize the data\n",
    "scaler_2 = StandardScaler()\n",
    "df_std_2 = scaler_2.fit_transform(df_2)\n",
    "df_std_2 = pd.DataFrame(df_std_2, columns=df_2.columns)"
   ]
  },
  {
   "cell_type": "code",
   "execution_count": 4,
   "id": "854931a6",
   "metadata": {},
   "outputs": [],
   "source": [
    "# Calculate COV of df\n",
    "covariance_2 = df_std_2.cov()"
   ]
  },
  {
   "cell_type": "code",
   "execution_count": 5,
   "id": "66ee9767",
   "metadata": {},
   "outputs": [],
   "source": [
    "# Calculate Eigenvalues and Eigenvectors\n",
    "values, vectors = eig(covariance_2)"
   ]
  },
  {
   "cell_type": "code",
   "execution_count": 6,
   "id": "7ba5e80e",
   "metadata": {},
   "outputs": [],
   "source": [
    "# Transform data using eigenvectors\n",
    "largest_eigenvector = vectors[:, 0]\n",
    "df_transformed_2 = np.matmul(np.array(df_std_2), largest_eigenvector)\n",
    "custom_pca_2 = pd.DataFrame(data = df_transformed_2, columns = ['PC 1'])"
   ]
  },
  {
   "cell_type": "code",
   "execution_count": 7,
   "id": "96fbda7d",
   "metadata": {},
   "outputs": [],
   "source": [
    "# Get principal component 1 using sklearn\n",
    "n_components_2 = 20\n",
    "pca_2 = PCA(n_components = n_components_2)\n",
    "pca_fit_2 = pca_2.fit_transform(df_std_2)\n",
    "df_pca_2 = pd.DataFrame(data = pca_fit_2, columns = ['PC '+ str(i+1) for i in range(n_components_2)])"
   ]
  },
  {
   "cell_type": "markdown",
   "id": "b024c9f9",
   "metadata": {},
   "source": [
    "Comparing our method to PCA"
   ]
  },
  {
   "cell_type": "code",
   "execution_count": 8,
   "id": "290be7f5",
   "metadata": {},
   "outputs": [
    {
     "data": {
      "text/plain": [
       "0    0.225906\n",
       "1   -0.408838\n",
       "2   -0.166738\n",
       "3    2.482287\n",
       "Name: PC 1, dtype: float64"
      ]
     },
     "execution_count": 8,
     "metadata": {},
     "output_type": "execute_result"
    }
   ],
   "source": [
    "# custom_pca\n",
    "custom_pca_2['PC 1'].head(4)"
   ]
  },
  {
   "cell_type": "code",
   "execution_count": 9,
   "id": "8b77156f",
   "metadata": {},
   "outputs": [
    {
     "data": {
      "text/plain": [
       "0   -0.225906\n",
       "1    0.408838\n",
       "2    0.166738\n",
       "3   -2.482287\n",
       "Name: PC 1, dtype: float64"
      ]
     },
     "execution_count": 9,
     "metadata": {},
     "output_type": "execute_result"
    }
   ],
   "source": [
    "# sklearn's PCA\n",
    "df_pca_2['PC 1'].head(4)"
   ]
  },
  {
   "cell_type": "markdown",
   "id": "3832a90b",
   "metadata": {},
   "source": [
    "As we can see above, our method produces something very similar to PCA. We are only off by a few decimal points. The vector that PCA produces is also -1 times our vector."
   ]
  },
  {
   "cell_type": "code",
   "execution_count": 10,
   "id": "7ac425be",
   "metadata": {},
   "outputs": [
    {
     "name": "stdout",
     "output_type": "stream",
     "text": [
      "Num PCs explaining above 4% of the variation: 18 \n",
      "\n",
      "[1.45333639e-01 6.46958119e-02 6.01884007e-02 5.77379178e-02\n",
      " 5.60726304e-02 5.47729903e-02 5.33463742e-02 5.16572824e-02\n",
      " 4.99262776e-02 4.84876928e-02 4.82370123e-02 4.77177820e-02\n",
      " 4.56132773e-02 4.52937193e-02 4.41340805e-02 4.32776946e-02\n",
      " 4.26339064e-02 4.08735106e-02 2.13786260e-33 1.36803144e-33]\n"
     ]
    }
   ],
   "source": [
    "print(f\"Num PCs explaining above 4% of the variation: {sum(pca_2.explained_variance_ratio_ > 0.04)} \\n\")\n",
    "print(pca_2.explained_variance_ratio_)"
   ]
  },
  {
   "cell_type": "markdown",
   "id": "5cb06419",
   "metadata": {},
   "source": [
    "18 vectors are explaining at least 4% of the variation each. When we look at the 19th and 20th vectors, we can see they each explain 0% of the variance in the data. Therefore, we should select the first 18 principal components."
   ]
  },
  {
   "cell_type": "markdown",
   "id": "c986f325",
   "metadata": {},
   "source": [
    "# Question 3"
   ]
  },
  {
   "cell_type": "code",
   "execution_count": 36,
   "id": "f407b953",
   "metadata": {},
   "outputs": [],
   "source": [
    "# Import data\n",
    "df_3 = pd.read_csv('wdbc.data', header = None)\n",
    "df_3.columns = [i for i in range(1, 33)]\n",
    "df_3 = df_3.rename(columns={1: 'ID', 2: 'Diagnosis'})"
   ]
  },
  {
   "cell_type": "code",
   "execution_count": 37,
   "id": "7181e04e",
   "metadata": {},
   "outputs": [
    {
     "data": {
      "text/html": [
       "<div>\n",
       "<style scoped>\n",
       "    .dataframe tbody tr th:only-of-type {\n",
       "        vertical-align: middle;\n",
       "    }\n",
       "\n",
       "    .dataframe tbody tr th {\n",
       "        vertical-align: top;\n",
       "    }\n",
       "\n",
       "    .dataframe thead th {\n",
       "        text-align: right;\n",
       "    }\n",
       "</style>\n",
       "<table border=\"1\" class=\"dataframe\">\n",
       "  <thead>\n",
       "    <tr style=\"text-align: right;\">\n",
       "      <th></th>\n",
       "      <th>ID</th>\n",
       "      <th>Diagnosis</th>\n",
       "      <th>3</th>\n",
       "      <th>4</th>\n",
       "      <th>5</th>\n",
       "      <th>6</th>\n",
       "      <th>7</th>\n",
       "      <th>8</th>\n",
       "      <th>9</th>\n",
       "      <th>10</th>\n",
       "      <th>11</th>\n",
       "      <th>12</th>\n",
       "      <th>13</th>\n",
       "      <th>14</th>\n",
       "      <th>15</th>\n",
       "      <th>16</th>\n",
       "      <th>17</th>\n",
       "      <th>18</th>\n",
       "      <th>19</th>\n",
       "      <th>20</th>\n",
       "      <th>21</th>\n",
       "      <th>22</th>\n",
       "      <th>23</th>\n",
       "      <th>24</th>\n",
       "      <th>25</th>\n",
       "      <th>26</th>\n",
       "      <th>27</th>\n",
       "      <th>28</th>\n",
       "      <th>29</th>\n",
       "      <th>30</th>\n",
       "      <th>31</th>\n",
       "      <th>32</th>\n",
       "    </tr>\n",
       "  </thead>\n",
       "  <tbody>\n",
       "    <tr>\n",
       "      <th>0</th>\n",
       "      <td>842302</td>\n",
       "      <td>M</td>\n",
       "      <td>17.99</td>\n",
       "      <td>10.38</td>\n",
       "      <td>122.80</td>\n",
       "      <td>1001.0</td>\n",
       "      <td>0.11840</td>\n",
       "      <td>0.27760</td>\n",
       "      <td>0.3001</td>\n",
       "      <td>0.14710</td>\n",
       "      <td>0.2419</td>\n",
       "      <td>0.07871</td>\n",
       "      <td>1.0950</td>\n",
       "      <td>0.9053</td>\n",
       "      <td>8.589</td>\n",
       "      <td>153.40</td>\n",
       "      <td>0.006399</td>\n",
       "      <td>0.04904</td>\n",
       "      <td>0.05373</td>\n",
       "      <td>0.01587</td>\n",
       "      <td>0.03003</td>\n",
       "      <td>0.006193</td>\n",
       "      <td>25.38</td>\n",
       "      <td>17.33</td>\n",
       "      <td>184.60</td>\n",
       "      <td>2019.0</td>\n",
       "      <td>0.1622</td>\n",
       "      <td>0.6656</td>\n",
       "      <td>0.7119</td>\n",
       "      <td>0.2654</td>\n",
       "      <td>0.4601</td>\n",
       "      <td>0.11890</td>\n",
       "    </tr>\n",
       "    <tr>\n",
       "      <th>1</th>\n",
       "      <td>842517</td>\n",
       "      <td>M</td>\n",
       "      <td>20.57</td>\n",
       "      <td>17.77</td>\n",
       "      <td>132.90</td>\n",
       "      <td>1326.0</td>\n",
       "      <td>0.08474</td>\n",
       "      <td>0.07864</td>\n",
       "      <td>0.0869</td>\n",
       "      <td>0.07017</td>\n",
       "      <td>0.1812</td>\n",
       "      <td>0.05667</td>\n",
       "      <td>0.5435</td>\n",
       "      <td>0.7339</td>\n",
       "      <td>3.398</td>\n",
       "      <td>74.08</td>\n",
       "      <td>0.005225</td>\n",
       "      <td>0.01308</td>\n",
       "      <td>0.01860</td>\n",
       "      <td>0.01340</td>\n",
       "      <td>0.01389</td>\n",
       "      <td>0.003532</td>\n",
       "      <td>24.99</td>\n",
       "      <td>23.41</td>\n",
       "      <td>158.80</td>\n",
       "      <td>1956.0</td>\n",
       "      <td>0.1238</td>\n",
       "      <td>0.1866</td>\n",
       "      <td>0.2416</td>\n",
       "      <td>0.1860</td>\n",
       "      <td>0.2750</td>\n",
       "      <td>0.08902</td>\n",
       "    </tr>\n",
       "    <tr>\n",
       "      <th>2</th>\n",
       "      <td>84300903</td>\n",
       "      <td>M</td>\n",
       "      <td>19.69</td>\n",
       "      <td>21.25</td>\n",
       "      <td>130.00</td>\n",
       "      <td>1203.0</td>\n",
       "      <td>0.10960</td>\n",
       "      <td>0.15990</td>\n",
       "      <td>0.1974</td>\n",
       "      <td>0.12790</td>\n",
       "      <td>0.2069</td>\n",
       "      <td>0.05999</td>\n",
       "      <td>0.7456</td>\n",
       "      <td>0.7869</td>\n",
       "      <td>4.585</td>\n",
       "      <td>94.03</td>\n",
       "      <td>0.006150</td>\n",
       "      <td>0.04006</td>\n",
       "      <td>0.03832</td>\n",
       "      <td>0.02058</td>\n",
       "      <td>0.02250</td>\n",
       "      <td>0.004571</td>\n",
       "      <td>23.57</td>\n",
       "      <td>25.53</td>\n",
       "      <td>152.50</td>\n",
       "      <td>1709.0</td>\n",
       "      <td>0.1444</td>\n",
       "      <td>0.4245</td>\n",
       "      <td>0.4504</td>\n",
       "      <td>0.2430</td>\n",
       "      <td>0.3613</td>\n",
       "      <td>0.08758</td>\n",
       "    </tr>\n",
       "    <tr>\n",
       "      <th>3</th>\n",
       "      <td>84348301</td>\n",
       "      <td>M</td>\n",
       "      <td>11.42</td>\n",
       "      <td>20.38</td>\n",
       "      <td>77.58</td>\n",
       "      <td>386.1</td>\n",
       "      <td>0.14250</td>\n",
       "      <td>0.28390</td>\n",
       "      <td>0.2414</td>\n",
       "      <td>0.10520</td>\n",
       "      <td>0.2597</td>\n",
       "      <td>0.09744</td>\n",
       "      <td>0.4956</td>\n",
       "      <td>1.1560</td>\n",
       "      <td>3.445</td>\n",
       "      <td>27.23</td>\n",
       "      <td>0.009110</td>\n",
       "      <td>0.07458</td>\n",
       "      <td>0.05661</td>\n",
       "      <td>0.01867</td>\n",
       "      <td>0.05963</td>\n",
       "      <td>0.009208</td>\n",
       "      <td>14.91</td>\n",
       "      <td>26.50</td>\n",
       "      <td>98.87</td>\n",
       "      <td>567.7</td>\n",
       "      <td>0.2098</td>\n",
       "      <td>0.8663</td>\n",
       "      <td>0.6869</td>\n",
       "      <td>0.2575</td>\n",
       "      <td>0.6638</td>\n",
       "      <td>0.17300</td>\n",
       "    </tr>\n",
       "    <tr>\n",
       "      <th>4</th>\n",
       "      <td>84358402</td>\n",
       "      <td>M</td>\n",
       "      <td>20.29</td>\n",
       "      <td>14.34</td>\n",
       "      <td>135.10</td>\n",
       "      <td>1297.0</td>\n",
       "      <td>0.10030</td>\n",
       "      <td>0.13280</td>\n",
       "      <td>0.1980</td>\n",
       "      <td>0.10430</td>\n",
       "      <td>0.1809</td>\n",
       "      <td>0.05883</td>\n",
       "      <td>0.7572</td>\n",
       "      <td>0.7813</td>\n",
       "      <td>5.438</td>\n",
       "      <td>94.44</td>\n",
       "      <td>0.011490</td>\n",
       "      <td>0.02461</td>\n",
       "      <td>0.05688</td>\n",
       "      <td>0.01885</td>\n",
       "      <td>0.01756</td>\n",
       "      <td>0.005115</td>\n",
       "      <td>22.54</td>\n",
       "      <td>16.67</td>\n",
       "      <td>152.20</td>\n",
       "      <td>1575.0</td>\n",
       "      <td>0.1374</td>\n",
       "      <td>0.2050</td>\n",
       "      <td>0.4000</td>\n",
       "      <td>0.1625</td>\n",
       "      <td>0.2364</td>\n",
       "      <td>0.07678</td>\n",
       "    </tr>\n",
       "  </tbody>\n",
       "</table>\n",
       "</div>"
      ],
      "text/plain": [
       "         ID Diagnosis      3      4       5       6        7        8       9  \\\n",
       "0    842302         M  17.99  10.38  122.80  1001.0  0.11840  0.27760  0.3001   \n",
       "1    842517         M  20.57  17.77  132.90  1326.0  0.08474  0.07864  0.0869   \n",
       "2  84300903         M  19.69  21.25  130.00  1203.0  0.10960  0.15990  0.1974   \n",
       "3  84348301         M  11.42  20.38   77.58   386.1  0.14250  0.28390  0.2414   \n",
       "4  84358402         M  20.29  14.34  135.10  1297.0  0.10030  0.13280  0.1980   \n",
       "\n",
       "        10      11       12      13      14     15      16        17       18  \\\n",
       "0  0.14710  0.2419  0.07871  1.0950  0.9053  8.589  153.40  0.006399  0.04904   \n",
       "1  0.07017  0.1812  0.05667  0.5435  0.7339  3.398   74.08  0.005225  0.01308   \n",
       "2  0.12790  0.2069  0.05999  0.7456  0.7869  4.585   94.03  0.006150  0.04006   \n",
       "3  0.10520  0.2597  0.09744  0.4956  1.1560  3.445   27.23  0.009110  0.07458   \n",
       "4  0.10430  0.1809  0.05883  0.7572  0.7813  5.438   94.44  0.011490  0.02461   \n",
       "\n",
       "        19       20       21        22     23     24      25      26      27  \\\n",
       "0  0.05373  0.01587  0.03003  0.006193  25.38  17.33  184.60  2019.0  0.1622   \n",
       "1  0.01860  0.01340  0.01389  0.003532  24.99  23.41  158.80  1956.0  0.1238   \n",
       "2  0.03832  0.02058  0.02250  0.004571  23.57  25.53  152.50  1709.0  0.1444   \n",
       "3  0.05661  0.01867  0.05963  0.009208  14.91  26.50   98.87   567.7  0.2098   \n",
       "4  0.05688  0.01885  0.01756  0.005115  22.54  16.67  152.20  1575.0  0.1374   \n",
       "\n",
       "       28      29      30      31       32  \n",
       "0  0.6656  0.7119  0.2654  0.4601  0.11890  \n",
       "1  0.1866  0.2416  0.1860  0.2750  0.08902  \n",
       "2  0.4245  0.4504  0.2430  0.3613  0.08758  \n",
       "3  0.8663  0.6869  0.2575  0.6638  0.17300  \n",
       "4  0.2050  0.4000  0.1625  0.2364  0.07678  "
      ]
     },
     "execution_count": 37,
     "metadata": {},
     "output_type": "execute_result"
    }
   ],
   "source": [
    "df_3.head()"
   ]
  }
 ],
 "metadata": {
  "kernelspec": {
   "display_name": "Python 3 (ipykernel)",
   "language": "python",
   "name": "python3"
  },
  "language_info": {
   "codemirror_mode": {
    "name": "ipython",
    "version": 3
   },
   "file_extension": ".py",
   "mimetype": "text/x-python",
   "name": "python",
   "nbconvert_exporter": "python",
   "pygments_lexer": "ipython3",
   "version": "3.10.4"
  }
 },
 "nbformat": 4,
 "nbformat_minor": 5
}
