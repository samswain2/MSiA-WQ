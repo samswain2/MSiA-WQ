{
 "cells": [
  {
   "cell_type": "markdown",
   "id": "5e06b681",
   "metadata": {},
   "source": [
    "# Libraries"
   ]
  },
  {
   "cell_type": "code",
   "execution_count": 1,
   "id": "1ef8b093",
   "metadata": {},
   "outputs": [],
   "source": [
    "import pandas as pd"
   ]
  },
  {
   "cell_type": "markdown",
   "id": "37b91bd4",
   "metadata": {},
   "source": [
    "# Settings"
   ]
  },
  {
   "cell_type": "code",
   "execution_count": 3,
   "id": "a2f9fc93",
   "metadata": {},
   "outputs": [],
   "source": [
    "# Data location\n",
    "folder = 'C:/Users/Sam/Desktop/NW Work/DATA/421/hw03/' # Laptop\n",
    "# folder = 'C:/Users/Sam/Desktop/NW Work/DATA/421/hw03/' # Desktop"
   ]
  },
  {
   "cell_type": "markdown",
   "id": "b34e564e",
   "metadata": {},
   "source": [
    "# Data"
   ]
  },
  {
   "cell_type": "code",
   "execution_count": 4,
   "id": "9fac85ba",
   "metadata": {},
   "outputs": [],
   "source": [
    "df_products = pd.read_csv(folder+'Products.csv')\n",
    "df_customers = pd.read_csv(folder+'customers.csv')\n",
    "df_orders = pd.read_csv(folder+'orders.csv')"
   ]
  },
  {
   "cell_type": "code",
   "execution_count": 7,
   "id": "caaeafb6",
   "metadata": {},
   "outputs": [
    {
     "data": {
      "text/html": [
       "<div>\n",
       "<style scoped>\n",
       "    .dataframe tbody tr th:only-of-type {\n",
       "        vertical-align: middle;\n",
       "    }\n",
       "\n",
       "    .dataframe tbody tr th {\n",
       "        vertical-align: top;\n",
       "    }\n",
       "\n",
       "    .dataframe thead th {\n",
       "        text-align: right;\n",
       "    }\n",
       "</style>\n",
       "<table border=\"1\" class=\"dataframe\">\n",
       "  <thead>\n",
       "    <tr style=\"text-align: right;\">\n",
       "      <th></th>\n",
       "      <th>Date</th>\n",
       "      <th>CustomerId</th>\n",
       "      <th>ProductId</th>\n",
       "      <th>Quantity</th>\n",
       "      <th>Rating</th>\n",
       "    </tr>\n",
       "  </thead>\n",
       "  <tbody>\n",
       "    <tr>\n",
       "      <th>0</th>\n",
       "      <td>1/1/2021</td>\n",
       "      <td>C925</td>\n",
       "      <td>P117</td>\n",
       "      <td>5</td>\n",
       "      <td>3.0</td>\n",
       "    </tr>\n",
       "    <tr>\n",
       "      <th>1</th>\n",
       "      <td>1/1/2021</td>\n",
       "      <td>C847</td>\n",
       "      <td>P35</td>\n",
       "      <td>4</td>\n",
       "      <td>5.0</td>\n",
       "    </tr>\n",
       "    <tr>\n",
       "      <th>2</th>\n",
       "      <td>1/1/2021</td>\n",
       "      <td>C399</td>\n",
       "      <td>P8</td>\n",
       "      <td>5</td>\n",
       "      <td>3.0</td>\n",
       "    </tr>\n",
       "    <tr>\n",
       "      <th>3</th>\n",
       "      <td>1/1/2021</td>\n",
       "      <td>C1231</td>\n",
       "      <td>P53</td>\n",
       "      <td>6</td>\n",
       "      <td>3.0</td>\n",
       "    </tr>\n",
       "    <tr>\n",
       "      <th>4</th>\n",
       "      <td>1/1/2021</td>\n",
       "      <td>C369</td>\n",
       "      <td>P44</td>\n",
       "      <td>8</td>\n",
       "      <td>4.0</td>\n",
       "    </tr>\n",
       "    <tr>\n",
       "      <th>...</th>\n",
       "      <td>...</td>\n",
       "      <td>...</td>\n",
       "      <td>...</td>\n",
       "      <td>...</td>\n",
       "      <td>...</td>\n",
       "    </tr>\n",
       "    <tr>\n",
       "      <th>74995</th>\n",
       "      <td>1/31/2022</td>\n",
       "      <td>C601</td>\n",
       "      <td>P71</td>\n",
       "      <td>3</td>\n",
       "      <td>2.0</td>\n",
       "    </tr>\n",
       "    <tr>\n",
       "      <th>74996</th>\n",
       "      <td>1/31/2022</td>\n",
       "      <td>C1297</td>\n",
       "      <td>P68</td>\n",
       "      <td>2</td>\n",
       "      <td>5.0</td>\n",
       "    </tr>\n",
       "    <tr>\n",
       "      <th>74997</th>\n",
       "      <td>1/31/2022</td>\n",
       "      <td>C760</td>\n",
       "      <td>P70</td>\n",
       "      <td>7</td>\n",
       "      <td>1.0</td>\n",
       "    </tr>\n",
       "    <tr>\n",
       "      <th>74998</th>\n",
       "      <td>1/31/2022</td>\n",
       "      <td>C1361</td>\n",
       "      <td>P9</td>\n",
       "      <td>8</td>\n",
       "      <td>4.0</td>\n",
       "    </tr>\n",
       "    <tr>\n",
       "      <th>74999</th>\n",
       "      <td>1/31/2022</td>\n",
       "      <td>C1138</td>\n",
       "      <td>P116</td>\n",
       "      <td>6</td>\n",
       "      <td>1.0</td>\n",
       "    </tr>\n",
       "  </tbody>\n",
       "</table>\n",
       "<p>75000 rows × 5 columns</p>\n",
       "</div>"
      ],
      "text/plain": [
       "            Date CustomerId ProductId  Quantity  Rating\n",
       "0       1/1/2021       C925      P117         5     3.0\n",
       "1       1/1/2021       C847       P35         4     5.0\n",
       "2       1/1/2021       C399        P8         5     3.0\n",
       "3       1/1/2021      C1231       P53         6     3.0\n",
       "4       1/1/2021       C369       P44         8     4.0\n",
       "...          ...        ...       ...       ...     ...\n",
       "74995  1/31/2022       C601       P71         3     2.0\n",
       "74996  1/31/2022      C1297       P68         2     5.0\n",
       "74997  1/31/2022       C760       P70         7     1.0\n",
       "74998  1/31/2022      C1361        P9         8     4.0\n",
       "74999  1/31/2022      C1138      P116         6     1.0\n",
       "\n",
       "[75000 rows x 5 columns]"
      ]
     },
     "execution_count": 7,
     "metadata": {},
     "output_type": "execute_result"
    }
   ],
   "source": [
    "df_orders"
   ]
  }
 ],
 "metadata": {
  "kernelspec": {
   "display_name": "Python 3 (ipykernel)",
   "language": "python",
   "name": "python3"
  },
  "language_info": {
   "codemirror_mode": {
    "name": "ipython",
    "version": 3
   },
   "file_extension": ".py",
   "mimetype": "text/x-python",
   "name": "python",
   "nbconvert_exporter": "python",
   "pygments_lexer": "ipython3",
   "version": "3.9.13"
  }
 },
 "nbformat": 4,
 "nbformat_minor": 5
}
