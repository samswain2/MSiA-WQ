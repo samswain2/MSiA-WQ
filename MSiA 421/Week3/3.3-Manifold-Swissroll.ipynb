{
 "cells": [
  {
   "cell_type": "markdown",
   "id": "1e8a66dc",
   "metadata": {},
   "source": [
    "## Manifold Learning - Swissroll\n",
    "\n",
    "Create several points in 2d, and then map them to 3d with some smooth function, and then visualize multiple Manifold Learning algorithms when they map the points back to 2d\n",
    "\n",
    "Reference: https://scikit-learn.org/stable/auto_examples/manifold/plot_swissroll.html"
   ]
  },
  {
   "cell_type": "code",
   "execution_count": null,
   "id": "36770245",
   "metadata": {},
   "outputs": [],
   "source": [
    "import pandas as pd\n",
    "import matplotlib.pyplot as plt\n",
    "import numpy as np\n",
    "\n",
    "from sklearn.datasets import make_swiss_roll\n",
    "from sklearn.manifold import MDS, TSNE, locally_linear_embedding, Isomap"
   ]
  },
  {
   "cell_type": "markdown",
   "id": "f9be8c87",
   "metadata": {},
   "source": [
    "<img src=\"https://www.theflavorbender.com/wp-content/uploads/2020/11/Choc-Swiss-Roll-2855-2.jpg\" width=\"20%\">"
   ]
  },
  {
   "cell_type": "code",
   "execution_count": null,
   "id": "b29b309c",
   "metadata": {},
   "outputs": [],
   "source": [
    "sr_points, sr_color = make_swiss_roll(n_samples=1500, random_state=0)"
   ]
  },
  {
   "cell_type": "code",
   "execution_count": null,
   "id": "4c30acb8",
   "metadata": {},
   "outputs": [],
   "source": [
    "fig = plt.figure(figsize=(10, 6))\n",
    "ax = fig.add_subplot(111, projection=\"3d\")\n",
    "fig.add_axes(ax)\n",
    "ax.scatter(\n",
    "    sr_points[:, 0], sr_points[:, 1], sr_points[:, 2], c=sr_color, s=50, alpha=0.8\n",
    ")\n",
    "ax.set_title(\"Swiss Roll in Ambient Space\")\n",
    "ax.view_init(azim=-66, elev=12)\n",
    "_ = ax.text2D(0.8, 0.05, s=\"n_samples=1500\", transform=ax.transAxes)"
   ]
  },
  {
   "cell_type": "markdown",
   "id": "f5311c10",
   "metadata": {},
   "source": [
    "### Manifold Learning Models"
   ]
  },
  {
   "cell_type": "code",
   "execution_count": null,
   "id": "b939be6c",
   "metadata": {},
   "outputs": [],
   "source": [
    "#Multidimensional Scaling\n",
    "sr_mds = MDS(n_components=2).fit_transform(sr_points)\n",
    "\n",
    "#Isomap\n",
    "sr_iso = Isomap(n_components=2).fit_transform(sr_points)\n",
    "\n",
    "#Locally Linear Embedding (LLE)\n",
    "sr_lle, sr_err = locally_linear_embedding(\n",
    "    sr_points, n_neighbors=12, n_components=2\n",
    ")\n",
    "\n",
    "#t-SNE\n",
    "sr_tsne = TSNE(n_components=2, perplexity=40, random_state=0).fit_transform(\n",
    "    sr_points\n",
    ")"
   ]
  },
  {
   "cell_type": "code",
   "execution_count": null,
   "id": "46c7a243",
   "metadata": {},
   "outputs": [],
   "source": [
    "fig, axs = plt.subplots(figsize=(8, 14), nrows=4)\n",
    "\n",
    "axs[0].scatter(sr_mds[:, 0], sr_mds[:, 1], c=sr_color)\n",
    "axs[0].set_title(\"MDS Embedding of Swiss Roll\")\n",
    "\n",
    "axs[1].scatter(sr_iso[:, 0], sr_iso[:, 1], c=sr_color)\n",
    "axs[1].set_title(\"Isomap Embedding of Swiss Roll\")\n",
    "\n",
    "axs[2].scatter(sr_lle[:, 0], sr_lle[:, 1], c=sr_color)\n",
    "axs[2].set_title(\"LLE Embedding of Swiss Roll\")\n",
    "\n",
    "axs[3].scatter(sr_tsne[:, 0], sr_tsne[:, 1], c=sr_color)\n",
    "axs[3].set_title(\"t-SNE Embedding of Swiss Roll\")"
   ]
  }
 ],
 "metadata": {
  "kernelspec": {
   "display_name": "Python 3 (ipykernel)",
   "language": "python",
   "name": "python3"
  },
  "language_info": {
   "codemirror_mode": {
    "name": "ipython",
    "version": 3
   },
   "file_extension": ".py",
   "mimetype": "text/x-python",
   "name": "python",
   "nbconvert_exporter": "python",
   "pygments_lexer": "ipython3",
   "version": "3.9.12"
  }
 },
 "nbformat": 4,
 "nbformat_minor": 5
}
