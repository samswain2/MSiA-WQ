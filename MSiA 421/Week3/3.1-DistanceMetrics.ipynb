{
 "cells": [
  {
   "cell_type": "markdown",
   "id": "9e90ab23",
   "metadata": {},
   "source": [
    "# Distance Metrics"
   ]
  },
  {
   "cell_type": "code",
   "execution_count": null,
   "id": "7d8e6528",
   "metadata": {},
   "outputs": [],
   "source": [
    "# importing the library\n",
    "from scipy.spatial import distance\n",
    "import matplotlib.pyplot as plt\n",
    "from mpl_toolkits.mplot3d import Axes3D"
   ]
  },
  {
   "cell_type": "code",
   "execution_count": null,
   "id": "dee7cfbf",
   "metadata": {},
   "outputs": [],
   "source": [
    "#define points\n",
    "a = (1, 2, 3)\n",
    "b = (4, 5, 6)\n",
    "\n",
    "a, b"
   ]
  },
  {
   "cell_type": "code",
   "execution_count": null,
   "id": "d9161395",
   "metadata": {},
   "outputs": [],
   "source": [
    "# plot points\n",
    "fig = plt.figure(figsize=(4,4))\n",
    "\n",
    "ax = fig.add_subplot(111, projection='3d')\n",
    "\n",
    "ax.scatter(1,2,3)\n",
    "ax.scatter(4,5,6)\n",
    "\n",
    "plt.show()"
   ]
  },
  {
   "cell_type": "code",
   "execution_count": null,
   "id": "e49ef112",
   "metadata": {},
   "outputs": [],
   "source": [
    "# euclidean distance\n",
    "euclidean_distance = distance.euclidean(a, b)\n",
    "print('Euclidean Distance b/w', a, 'and', b, 'is: ', euclidean_distance)"
   ]
  },
  {
   "cell_type": "code",
   "execution_count": null,
   "id": "24002c94",
   "metadata": {},
   "outputs": [],
   "source": [
    "# manhattan distance\n",
    "manhattan_distance = distance.cityblock(a, b)\n",
    "print('Manhattan Distance b/w', a, 'and', b, 'is: ', manhattan_distance)"
   ]
  },
  {
   "cell_type": "code",
   "execution_count": null,
   "id": "424c08d2",
   "metadata": {},
   "outputs": [],
   "source": [
    "# minkowski distance\n",
    "minkowski_distance = distance.minkowski(a, b, p=3)\n",
    "print('Minkowski Distance b/w', a, 'and', b, 'is: ', minkowski_distance)"
   ]
  },
  {
   "cell_type": "code",
   "execution_count": null,
   "id": "90cb14b9",
   "metadata": {},
   "outputs": [],
   "source": [
    "# minkowski and manhattan distance\n",
    "minkowski_distance_order_1 = distance.minkowski(a, b, p=1)\n",
    "print('Minkowski Distance of order 1:',minkowski_distance_order_1, '\\nManhattan Distance: ',manhattan_distance)"
   ]
  },
  {
   "cell_type": "code",
   "execution_count": null,
   "id": "8f793b38",
   "metadata": {},
   "outputs": [],
   "source": [
    "# minkowski and euclidean distance\n",
    "minkowski_distance_order_2 = distance.minkowski(a, b, p=2)\n",
    "print('Minkowski Distance of order 1:',minkowski_distance_order_2, '\\nManhattan Distance: ',euclidean_distance)"
   ]
  },
  {
   "cell_type": "code",
   "execution_count": null,
   "id": "57af3b2d",
   "metadata": {},
   "outputs": [],
   "source": [
    "# define strings\n",
    "s1 = 'euclidean'\n",
    "s2 = 'manhattan'\n",
    "\n",
    "# hamming distance\n",
    "hamming_distance = distance.hamming(list(s1), list(s2))*len(s1)\n",
    "print('Hamming Distance b/w', s1, 'and', s2, 'is: ', hamming_distance)"
   ]
  },
  {
   "cell_type": "code",
   "execution_count": null,
   "id": "0b29d9b1",
   "metadata": {
    "scrolled": true
   },
   "outputs": [],
   "source": [
    "# define strings\n",
    "s1 = 'data'\n",
    "s2 = 'science'\n",
    "\n",
    "# hamming distance\n",
    "#hamming_distance = distance.hamming(list(s1), list(s2))*len(string_1)\n",
    "#print('Hamming Distance b/w', s1, 'and', s2, 'is: ', hamming_distance)"
   ]
  },
  {
   "cell_type": "markdown",
   "id": "4deda3f1",
   "metadata": {},
   "source": [
    "### Haversine formula \n",
    "\n",
    "The Haversine formula calculates the great-circle distance between any two locations on a sphere using their longitudes and latitudes.\n"
   ]
  },
  {
   "cell_type": "code",
   "execution_count": null,
   "id": "774b72e8",
   "metadata": {},
   "outputs": [],
   "source": [
    "from math import radians, cos, sin, asin, sqrt\n",
    "\n",
    "#geodesic distance\n",
    "def geodesic_distance(LaA, LaB, LoA, LoB):\n",
    "    LoA = radians(LoA)  \n",
    "    LoB = radians(LoB)  \n",
    "    LaA= radians(LaA)  \n",
    "    LaB = radians(LaB) \n",
    "    \n",
    "    # Haversine formula\n",
    "    D_Lo = LoB - LoA \n",
    "    D_La = LaB - LaA \n",
    "    P = sin(D_La / 2)**2 + cos(LaA) * cos(LaB) * sin(D_Lo / 2)**2  \n",
    "   \n",
    "    Q = 2 * asin(sqrt(P))   \n",
    "    # The earth's radius in kilometers.\n",
    "    R_km = 6371  \n",
    "    \n",
    "    # Then we'll compute the outcome.\n",
    "    return(Q * R_km)\n"
   ]
  },
  {
   "cell_type": "code",
   "execution_count": null,
   "id": "c938246c",
   "metadata": {},
   "outputs": [],
   "source": [
    "Chicago=(41.8781 , -87.6298)\n",
    "Delhi=(28.7041 , 77.1025)\n",
    "\n",
    "LaA = 41.8781\n",
    "LaB = -87.6298\n",
    "LoA = 28.7041\n",
    "LoB = 77.1025"
   ]
  },
  {
   "cell_type": "code",
   "execution_count": null,
   "id": "9e519317",
   "metadata": {},
   "outputs": [],
   "source": [
    "print (\"The distance between Chicago and Delhi is: \", distance_d(LaA, LaB, LoA, LoB), \"K.M\")  "
   ]
  },
  {
   "cell_type": "code",
   "execution_count": null,
   "id": "6e249a21",
   "metadata": {},
   "outputs": [],
   "source": [
    "!pip install geopy\n",
    "\n",
    "from geopy.distance import great_circle as GRC\n",
    "\n",
    "# Finally print the distance between the two points in km\n",
    "print(\"The distance between Chicago and Delhi is:\", GRC(Chicago,Delhi).km) "
   ]
  }
 ],
 "metadata": {
  "kernelspec": {
   "display_name": "Python 3 (ipykernel)",
   "language": "python",
   "name": "python3"
  },
  "language_info": {
   "codemirror_mode": {
    "name": "ipython",
    "version": 3
   },
   "file_extension": ".py",
   "mimetype": "text/x-python",
   "name": "python",
   "nbconvert_exporter": "python",
   "pygments_lexer": "ipython3",
   "version": "3.9.12"
  }
 },
 "nbformat": 4,
 "nbformat_minor": 5
}
