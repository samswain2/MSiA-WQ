{
 "cells": [
  {
   "cell_type": "markdown",
   "id": "502555c1",
   "metadata": {},
   "source": [
    "# U-Map"
   ]
  },
  {
   "cell_type": "code",
   "execution_count": 1,
   "id": "9ab2037a",
   "metadata": {},
   "outputs": [
    {
     "name": "stdout",
     "output_type": "stream",
     "text": [
      "Collecting umap-learn\n",
      "  Downloading umap-learn-0.5.3.tar.gz (88 kB)\n",
      "     ---------------------------------------- 88.2/88.2 kB 4.9 MB/s eta 0:00:00\n",
      "  Preparing metadata (setup.py): started\n",
      "  Preparing metadata (setup.py): finished with status 'done'\n",
      "Requirement already satisfied: numpy>=1.17 in c:\\users\\nuke2\\miniconda3\\lib\\site-packages (from umap-learn) (1.22.4)\n",
      "Requirement already satisfied: scikit-learn>=0.22 in c:\\users\\nuke2\\miniconda3\\lib\\site-packages (from umap-learn) (1.1.1)\n",
      "Requirement already satisfied: scipy>=1.0 in c:\\users\\nuke2\\miniconda3\\lib\\site-packages (from umap-learn) (1.7.3)\n",
      "Collecting numba>=0.49\n",
      "  Downloading numba-0.56.4-cp310-cp310-win_amd64.whl (2.5 MB)\n",
      "     ---------------------------------------- 2.5/2.5 MB 11.3 MB/s eta 0:00:00\n",
      "Collecting pynndescent>=0.5\n",
      "  Downloading pynndescent-0.5.8.tar.gz (1.1 MB)\n",
      "     ---------------------------------------- 1.1/1.1 MB 10.3 MB/s eta 0:00:00\n",
      "  Preparing metadata (setup.py): started\n",
      "  Preparing metadata (setup.py): finished with status 'done'\n",
      "Requirement already satisfied: tqdm in c:\\users\\nuke2\\miniconda3\\lib\\site-packages (from umap-learn) (4.64.0)\n",
      "Collecting llvmlite<0.40,>=0.39.0dev0\n",
      "  Downloading llvmlite-0.39.1-cp310-cp310-win_amd64.whl (23.2 MB)\n",
      "     ---------------------------------------- 23.2/23.2 MB 9.0 MB/s eta 0:00:00\n",
      "Requirement already satisfied: setuptools in c:\\users\\nuke2\\miniconda3\\lib\\site-packages (from numba>=0.49->umap-learn) (63.4.1)\n",
      "Requirement already satisfied: joblib>=0.11 in c:\\users\\nuke2\\miniconda3\\lib\\site-packages (from pynndescent>=0.5->umap-learn) (1.1.0)\n",
      "Requirement already satisfied: threadpoolctl>=2.0.0 in c:\\users\\nuke2\\miniconda3\\lib\\site-packages (from scikit-learn>=0.22->umap-learn) (2.2.0)\n",
      "Requirement already satisfied: colorama in c:\\users\\nuke2\\appdata\\roaming\\python\\python310\\site-packages (from tqdm->umap-learn) (0.4.6)\n",
      "Building wheels for collected packages: umap-learn, pynndescent\n",
      "  Building wheel for umap-learn (setup.py): started\n",
      "  Building wheel for umap-learn (setup.py): finished with status 'done'\n",
      "  Created wheel for umap-learn: filename=umap_learn-0.5.3-py3-none-any.whl size=82814 sha256=5b787da1388de3161860fbec377680e2bea270ed3c09c23e01df13d577d0e61d\n",
      "  Stored in directory: c:\\users\\nuke2\\appdata\\local\\pip\\cache\\wheels\\a0\\e8\\c6\\a37ea663620bd5200ea1ba0907ab3c217042c1d035ef606acc\n",
      "  Building wheel for pynndescent (setup.py): started\n",
      "  Building wheel for pynndescent (setup.py): finished with status 'done'\n",
      "  Created wheel for pynndescent: filename=pynndescent-0.5.8-py3-none-any.whl size=55496 sha256=4d612c0ba86d3dd49c1e3357bcb81a218743850b307459a437ad70b3a36d7fed\n",
      "  Stored in directory: c:\\users\\nuke2\\appdata\\local\\pip\\cache\\wheels\\f8\\5c\\b4\\a06301605095861524c1c7268a0d445b3a4c50292ce3bec24c\n",
      "Successfully built umap-learn pynndescent\n",
      "Installing collected packages: llvmlite, numba, pynndescent, umap-learn\n",
      "Successfully installed llvmlite-0.39.1 numba-0.56.4 pynndescent-0.5.8 umap-learn-0.5.3\n"
     ]
    }
   ],
   "source": [
    "!pip install umap-learn"
   ]
  },
  {
   "cell_type": "code",
   "execution_count": null,
   "id": "520f0c10",
   "metadata": {},
   "outputs": [],
   "source": [
    "from umap import UMAP\n",
    "import plotly.express as px"
   ]
  },
  {
   "cell_type": "markdown",
   "id": "c35b1012",
   "metadata": {},
   "source": [
    "### Dataset"
   ]
  },
  {
   "cell_type": "code",
   "execution_count": null,
   "id": "b9a61b81",
   "metadata": {},
   "outputs": [],
   "source": [
    "df = px.data.iris()\n",
    "df.head()"
   ]
  },
  {
   "cell_type": "markdown",
   "id": "b6df7c5c",
   "metadata": {},
   "source": [
    "### UMap Projections"
   ]
  },
  {
   "cell_type": "code",
   "execution_count": null,
   "id": "ae079503",
   "metadata": {},
   "outputs": [],
   "source": [
    "features = df.loc[:, :'petal_width']\n",
    "\n",
    "umap_2d = UMAP(n_components=2, init='random', random_state=0)\n",
    "umap_3d = UMAP(n_components=3, init='random', random_state=0)\n",
    "\n",
    "proj_2d = umap_2d.fit_transform(features)\n",
    "proj_3d = umap_3d.fit_transform(features)"
   ]
  },
  {
   "cell_type": "code",
   "execution_count": null,
   "id": "b51d7915",
   "metadata": {},
   "outputs": [],
   "source": [
    "proj_2d"
   ]
  },
  {
   "cell_type": "markdown",
   "id": "a2fb54b5",
   "metadata": {},
   "source": [
    "### Plot"
   ]
  },
  {
   "cell_type": "code",
   "execution_count": null,
   "id": "8cda02d3",
   "metadata": {},
   "outputs": [],
   "source": [
    "fig_2d = px.scatter(\n",
    "    proj_2d, x=0, y=1,\n",
    "    color=df.species, labels={'color': 'species'}\n",
    ")\n",
    "\n",
    "fig_3d = px.scatter_3d(\n",
    "    proj_3d, x=0, y=1, z=2,\n",
    "    color=df.species, labels={'color': 'species'}\n",
    ")\n",
    "fig_3d.update_traces(marker_size=5)\n",
    "\n",
    "fig_2d.show()\n",
    "fig_3d.show()"
   ]
  }
 ],
 "metadata": {
  "kernelspec": {
   "display_name": "Python 3 (ipykernel)",
   "language": "python",
   "name": "python3"
  },
  "language_info": {
   "codemirror_mode": {
    "name": "ipython",
    "version": 3
   },
   "file_extension": ".py",
   "mimetype": "text/x-python",
   "name": "python",
   "nbconvert_exporter": "python",
   "pygments_lexer": "ipython3",
   "version": "3.10.4"
  }
 },
 "nbformat": 4,
 "nbformat_minor": 5
}
