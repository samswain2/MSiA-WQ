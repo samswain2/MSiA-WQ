{
 "cells": [
  {
   "cell_type": "markdown",
   "id": "f0c66633",
   "metadata": {},
   "source": [
    "# Manifold Learning \n",
    "\n",
    "### MNIST dataset\n",
    "\n",
    "Reference: https://scikit-learn.org/stable/auto_examples/manifold/plot_lle_digits.html"
   ]
  },
  {
   "cell_type": "code",
   "execution_count": 1,
   "id": "8a7e8c6c",
   "metadata": {},
   "outputs": [],
   "source": [
    "from sklearn.datasets import load_digits\n",
    "\n",
    "digits = load_digits(n_class=6)\n",
    "X, y = digits.data, digits.target\n",
    "n_samples, n_features = X.shape\n",
    "n_neighbors = 30"
   ]
  },
  {
   "cell_type": "code",
   "execution_count": 2,
   "id": "d59540af",
   "metadata": {},
   "outputs": [
    {
     "data": {
      "image/png": "[encoded data removed]",
      "text/plain": [
       "<Figure size 600x600 with 100 Axes>"
      ]
     },
     "metadata": {},
     "output_type": "display_data"
    }
   ],
   "source": [
    "import matplotlib.pyplot as plt\n",
    "\n",
    "fig, axs = plt.subplots(nrows=10, ncols=10, figsize=(6, 6))\n",
    "for idx, ax in enumerate(axs.ravel()):\n",
    "    ax.imshow(X[idx].reshape((8, 8)), cmap=plt.cm.binary)\n",
    "    ax.axis(\"off\")\n",
    "_ = fig.suptitle(\"A selection from the 64-dimensional digits dataset\", fontsize=16)"
   ]
  },
  {
   "cell_type": "code",
   "execution_count": 3,
   "id": "888b0922",
   "metadata": {},
   "outputs": [],
   "source": [
    "import numpy as np\n",
    "from matplotlib import offsetbox\n",
    "from sklearn.preprocessing import MinMaxScaler\n",
    "\n",
    "\n",
    "def plot_embedding(X, title):\n",
    "    _, ax = plt.subplots()\n",
    "    X = MinMaxScaler().fit_transform(X)\n",
    "\n",
    "    for digit in digits.target_names:\n",
    "        ax.scatter(\n",
    "            *X[y == digit].T,\n",
    "            marker=f\"${digit}$\",\n",
    "            s=60,\n",
    "            color=plt.cm.Dark2(digit),\n",
    "            alpha=0.425,\n",
    "            zorder=2,\n",
    "        )\n",
    "    shown_images = np.array([[1.0, 1.0]])  # just something big\n",
    "    for i in range(X.shape[0]):\n",
    "        # plot every digit on the embedding\n",
    "        # show an annotation box for a group of digits\n",
    "        dist = np.sum((X[i] - shown_images) ** 2, 1)\n",
    "        if np.min(dist) < 4e-3:\n",
    "            # don't show points that are too close\n",
    "            continue\n",
    "        shown_images = np.concatenate([shown_images, [X[i]]], axis=0)\n",
    "        imagebox = offsetbox.AnnotationBbox(\n",
    "            offsetbox.OffsetImage(digits.images[i], cmap=plt.cm.gray_r), X[i]\n",
    "        )\n",
    "        imagebox.set(zorder=1)\n",
    "        ax.add_artist(imagebox)\n",
    "\n",
    "    ax.set_title(title)\n",
    "    ax.axis(\"off\")"
   ]
  },
  {
   "cell_type": "code",
   "execution_count": 4,
   "id": "b9abd1a0",
   "metadata": {},
   "outputs": [],
   "source": [
    "from sklearn.decomposition import TruncatedSVD\n",
    "from sklearn.discriminant_analysis import LinearDiscriminantAnalysis\n",
    "from sklearn.ensemble import RandomTreesEmbedding\n",
    "from sklearn.manifold import (\n",
    "    Isomap,\n",
    "    LocallyLinearEmbedding,\n",
    "    MDS,\n",
    "    SpectralEmbedding,\n",
    "    TSNE,\n",
    ")\n",
    "from sklearn.neighbors import NeighborhoodComponentsAnalysis\n",
    "from sklearn.pipeline import make_pipeline\n",
    "from sklearn.random_projection import SparseRandomProjection\n",
    "\n",
    "embeddings = {\n",
    "    \"Random projection embedding\": SparseRandomProjection(\n",
    "        n_components=2, random_state=42\n",
    "    ),\n",
    "    \"Truncated SVD embedding\": TruncatedSVD(n_components=2),\n",
    "    \"Linear Discriminant Analysis embedding\": LinearDiscriminantAnalysis(\n",
    "        n_components=2\n",
    "    ),\n",
    "    \"Isomap embedding\": Isomap(n_neighbors=n_neighbors, n_components=2),\n",
    "    \"Standard LLE embedding\": LocallyLinearEmbedding(\n",
    "        n_neighbors=n_neighbors, n_components=2, method=\"standard\"\n",
    "    ),\n",
    "    \"Modified LLE embedding\": LocallyLinearEmbedding(\n",
    "        n_neighbors=n_neighbors, n_components=2, method=\"modified\"\n",
    "    ),\n",
    "    \"Hessian LLE embedding\": LocallyLinearEmbedding(\n",
    "        n_neighbors=n_neighbors, n_components=2, method=\"hessian\"\n",
    "    ),\n",
    "    \"LTSA LLE embedding\": LocallyLinearEmbedding(\n",
    "        n_neighbors=n_neighbors, n_components=2, method=\"ltsa\"\n",
    "    ),\n",
    "    \"MDS embedding\": MDS(\n",
    "        n_components=2, n_init=1, max_iter=120, n_jobs=2, normalized_stress=\"auto\"\n",
    "    ),\n",
    "    \"Random Trees embedding\": make_pipeline(\n",
    "        RandomTreesEmbedding(n_estimators=200, max_depth=5, random_state=0),\n",
    "        TruncatedSVD(n_components=2),\n",
    "    ),\n",
    "    \"Spectral embedding\": SpectralEmbedding(\n",
    "        n_components=2, random_state=0, eigen_solver=\"arpack\"\n",
    "    ),\n",
    "    \"t-SNE embeedding\": TSNE(\n",
    "        n_components=2,\n",
    "        n_iter=500,\n",
    "        n_iter_without_progress=150,\n",
    "        n_jobs=2,\n",
    "        random_state=0,\n",
    "    ),\n",
    "    \"NCA embedding\": NeighborhoodComponentsAnalysis(\n",
    "        n_components=2, init=\"pca\", random_state=0\n",
    "    ),\n",
    "}"
   ]
  },
  {
   "cell_type": "code",
   "execution_count": 5,
   "id": "2d4c2a0b",
   "metadata": {},
   "outputs": [
    {
     "name": "stdout",
     "output_type": "stream",
     "text": [
      "Computing Random projection embedding...\n",
      "Computing Truncated SVD embedding...\n",
      "Computing Linear Discriminant Analysis embedding...\n",
      "Computing Isomap embedding...\n",
      "Computing Standard LLE embedding...\n",
      "Computing Modified LLE embedding...\n",
      "Computing Hessian LLE embedding...\n",
      "Computing LTSA LLE embedding...\n",
      "Computing MDS embedding...\n",
      "Computing Random Trees embedding...\n",
      "Computing Spectral embedding...\n",
      "Computing t-SNE embeedding...\n",
      "Computing NCA embedding...\n"
     ]
    }
   ],
   "source": [
    "from time import time\n",
    "\n",
    "projections, timing = {}, {}\n",
    "for name, transformer in embeddings.items():\n",
    "    if name.startswith(\"Linear Discriminant Analysis\"):\n",
    "        data = X.copy()\n",
    "        data.flat[:: X.shape[1] + 1] += 0.01  # Make X invertible\n",
    "    else:\n",
    "        data = X\n",
    "\n",
    "    print(f\"Computing {name}...\")\n",
    "    start_time = time()\n",
    "    projections[name] = transformer.fit_transform(data, y)\n",
    "    timing[name] = time() - start_time"
   ]
  }
 ],
 "metadata": {
  "kernelspec": {
   "display_name": "Python 3 (ipykernel)",
   "language": "python",
   "name": "python3"
  },
  "language_info": {
   "codemirror_mode": {
    "name": "ipython",
    "version": 3
   },
   "file_extension": ".py",
   "mimetype": "text/x-python",
   "name": "python",
   "nbconvert_exporter": "python",
   "pygments_lexer": "ipython3",
   "version": "3.9.12"
  }
 },
 "nbformat": 4,
 "nbformat_minor": 5
}
