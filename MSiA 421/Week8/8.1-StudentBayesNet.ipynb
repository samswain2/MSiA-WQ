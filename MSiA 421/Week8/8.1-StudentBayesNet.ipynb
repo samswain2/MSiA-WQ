{
 "cells": [
  {
   "cell_type": "markdown",
   "metadata": {},
   "source": [
    "# Student Bayes Net\n",
    "\n",
    "Bayesian Belief Network or Bayesian Network or Belief Network is a Probabilistic Graphical Model (PGM) that represents conditional dependencies between random variables through a Directed Acyclic Graph (DAG).Bayesian Networks are applied in many fields. For example, disease diagnosis, optimized web search, spam filtering, gene regulatory networks, etc.\n",
    "\n",
    "We will build a Students Bayes network.\n",
    "\n",
    "<img src=\"student_net.png\" width=50% />"
   ]
  },
  {
   "cell_type": "code",
   "execution_count": 2,
   "metadata": {},
   "outputs": [],
   "source": [
    "# !pip install pgmpy\n",
    "# !pip install daft"
   ]
  },
  {
   "cell_type": "code",
   "execution_count": 4,
   "metadata": {},
   "outputs": [
    {
     "ename": "OSError",
     "evalue": "[WinError 126] The specified module could not be found. Error loading \"C:\\Users\\nuke2\\miniconda3\\lib\\site-packages\\torch\\lib\\torch_python.dll\" or one of its dependencies.",
     "output_type": "error",
     "traceback": [
      "\u001b[1;31m---------------------------------------------------------------------------\u001b[0m",
      "\u001b[1;31mOSError\u001b[0m                                   Traceback (most recent call last)",
      "Cell \u001b[1;32mIn [4], line 2\u001b[0m\n\u001b[0;32m      1\u001b[0m \u001b[38;5;28;01mimport\u001b[39;00m \u001b[38;5;21;01mpylab\u001b[39;00m \u001b[38;5;28;01mas\u001b[39;00m \u001b[38;5;21;01mplt\u001b[39;00m\n\u001b[1;32m----> 2\u001b[0m \u001b[38;5;28;01mfrom\u001b[39;00m \u001b[38;5;21;01mpgmpy\u001b[39;00m\u001b[38;5;21;01m.\u001b[39;00m\u001b[38;5;21;01mmodels\u001b[39;00m \u001b[38;5;28;01mimport\u001b[39;00m BayesianNetwork\n\u001b[0;32m      3\u001b[0m \u001b[38;5;28;01mfrom\u001b[39;00m \u001b[38;5;21;01mpgmpy\u001b[39;00m\u001b[38;5;21;01m.\u001b[39;00m\u001b[38;5;21;01minference\u001b[39;00m \u001b[38;5;28;01mimport\u001b[39;00m VariableElimination\n\u001b[0;32m      4\u001b[0m \u001b[38;5;28;01mfrom\u001b[39;00m \u001b[38;5;21;01mpgmpy\u001b[39;00m\u001b[38;5;21;01m.\u001b[39;00m\u001b[38;5;21;01mfactors\u001b[39;00m\u001b[38;5;21;01m.\u001b[39;00m\u001b[38;5;21;01mdiscrete\u001b[39;00m \u001b[38;5;28;01mimport\u001b[39;00m TabularCPD\n",
      "File \u001b[1;32m~\\miniconda3\\lib\\site-packages\\pgmpy\\__init__.py:1\u001b[0m\n\u001b[1;32m----> 1\u001b[0m \u001b[38;5;28;01mfrom\u001b[39;00m \u001b[38;5;21;01m.\u001b[39;00m\u001b[38;5;21;01mglobal_vars\u001b[39;00m \u001b[38;5;28;01mimport\u001b[39;00m HAS_PANDAS, device, no_progress\n\u001b[0;32m      3\u001b[0m __all__ \u001b[38;5;241m=\u001b[39m [\u001b[38;5;124m\"\u001b[39m\u001b[38;5;124mHAS_PANDAS\u001b[39m\u001b[38;5;124m\"\u001b[39m, \u001b[38;5;124m\"\u001b[39m\u001b[38;5;124mdevice\u001b[39m\u001b[38;5;124m\"\u001b[39m]\n\u001b[0;32m      4\u001b[0m __version__ \u001b[38;5;241m=\u001b[39m \u001b[38;5;124m\"\u001b[39m\u001b[38;5;124m0.1.21\u001b[39m\u001b[38;5;124m\"\u001b[39m\n",
      "File \u001b[1;32m~\\miniconda3\\lib\\site-packages\\pgmpy\\global_vars.py:5\u001b[0m\n\u001b[0;32m      1\u001b[0m \u001b[38;5;66;03m# TODO: This variables being set in this file should move to setup.py\u001b[39;00m\n\u001b[0;32m      4\u001b[0m \u001b[38;5;28;01mtry\u001b[39;00m:\n\u001b[1;32m----> 5\u001b[0m     \u001b[38;5;28;01mimport\u001b[39;00m \u001b[38;5;21;01mtorch\u001b[39;00m\n\u001b[0;32m      7\u001b[0m     \u001b[38;5;66;03m# Check if GPU is available\u001b[39;00m\n\u001b[0;32m      8\u001b[0m     \u001b[38;5;28;01mif\u001b[39;00m torch\u001b[38;5;241m.\u001b[39mcuda\u001b[38;5;241m.\u001b[39mis_available():\n",
      "File \u001b[1;32m~\\miniconda3\\lib\\site-packages\\torch\\__init__.py:128\u001b[0m\n\u001b[0;32m    126\u001b[0m                 err \u001b[38;5;241m=\u001b[39m ctypes\u001b[38;5;241m.\u001b[39mWinError(ctypes\u001b[38;5;241m.\u001b[39mget_last_error())\n\u001b[0;32m    127\u001b[0m                 err\u001b[38;5;241m.\u001b[39mstrerror \u001b[38;5;241m+\u001b[39m\u001b[38;5;241m=\u001b[39m \u001b[38;5;124mf\u001b[39m\u001b[38;5;124m'\u001b[39m\u001b[38;5;124m Error loading \u001b[39m\u001b[38;5;124m\"\u001b[39m\u001b[38;5;132;01m{\u001b[39;00mdll\u001b[38;5;132;01m}\u001b[39;00m\u001b[38;5;124m\"\u001b[39m\u001b[38;5;124m or one of its dependencies.\u001b[39m\u001b[38;5;124m'\u001b[39m\n\u001b[1;32m--> 128\u001b[0m                 \u001b[38;5;28;01mraise\u001b[39;00m err\n\u001b[0;32m    130\u001b[0m     kernel32\u001b[38;5;241m.\u001b[39mSetErrorMode(prev_error_mode)\n\u001b[0;32m    133\u001b[0m \u001b[38;5;66;03m# See Note [Global dependencies]\u001b[39;00m\n",
      "\u001b[1;31mOSError\u001b[0m: [WinError 126] The specified module could not be found. Error loading \"C:\\Users\\nuke2\\miniconda3\\lib\\site-packages\\torch\\lib\\torch_python.dll\" or one of its dependencies."
     ]
    }
   ],
   "source": [
    "import pylab as plt\n",
    "from pgmpy.models import BayesianNetwork\n",
    "from pgmpy.inference import VariableElimination\n",
    "from pgmpy.factors.discrete import TabularCPD"
   ]
  },
  {
   "cell_type": "markdown",
   "metadata": {},
   "source": [
    "## A - Set up the model\n",
    "\n",
    "### 1. Set the structure"
   ]
  },
  {
   "cell_type": "code",
   "execution_count": 3,
   "metadata": {},
   "outputs": [],
   "source": [
    "# Defining the model structure. We can define the network by just passing a list of edges.\n",
    "model = BayesianNetwork([('D', 'G'), ('I', 'G'), ('G', 'L'), ('I', 'S')])"
   ]
  },
  {
   "cell_type": "code",
   "execution_count": 40,
   "metadata": {},
   "outputs": [
    {
     "data": {
      "text/plain": [
       "<Axes:>"
      ]
     },
     "execution_count": 40,
     "metadata": {},
     "output_type": "execute_result"
    },
    {
     "data": {
      "image/png": "[encoded data removed]",
      "text/plain": [
       "<Figure size 276.656x287.651 with 1 Axes>"
      ]
     },
     "metadata": {},
     "output_type": "display_data"
    }
   ],
   "source": [
    "model.to_daft('circular',latex=False,pgm_params={'grid_unit': 3, 'node_unit':1}).render()"
   ]
  },
  {
   "cell_type": "markdown",
   "metadata": {},
   "source": [
    "###  2.Set up the relationships (the CPDs)"
   ]
  },
  {
   "cell_type": "code",
   "execution_count": 5,
   "metadata": {},
   "outputs": [],
   "source": [
    "# Defining individual CPDs.\n",
    "cpd_d = TabularCPD(variable='D', variable_card=2, values=[[0.6], [0.4]], state_names={'D': ['Easy', 'Hard']})\n",
    "cpd_i = TabularCPD(variable='I', variable_card=2, values=[[0.7], [0.3]], state_names={'I': ['Dumb', 'Intelligent']})"
   ]
  },
  {
   "cell_type": "code",
   "execution_count": 6,
   "metadata": {},
   "outputs": [
    {
     "name": "stdout",
     "output_type": "stream",
     "text": [
      "+---------+-----+\n",
      "| D(Easy) | 0.6 |\n",
      "+---------+-----+\n",
      "| D(Hard) | 0.4 |\n",
      "+---------+-----+\n"
     ]
    }
   ],
   "source": [
    "print(cpd_d)"
   ]
  },
  {
   "cell_type": "code",
   "execution_count": 7,
   "metadata": {},
   "outputs": [
    {
     "name": "stdout",
     "output_type": "stream",
     "text": [
      "+----------------+-----+\n",
      "| I(Dumb)        | 0.7 |\n",
      "+----------------+-----+\n",
      "| I(Intelligent) | 0.3 |\n",
      "+----------------+-----+\n"
     ]
    }
   ],
   "source": [
    "print(cpd_i)"
   ]
  },
  {
   "cell_type": "code",
   "execution_count": 8,
   "metadata": {},
   "outputs": [],
   "source": [
    "# The representation of CPD in pgmpy is a bit different than the CPD shown in the above picture. In pgmpy the colums\n",
    "# are the evidences and rows are the states of the variable. So the grade CPD is represented like this:\n",
    "#\n",
    "#    +---------+---------+---------+---------+---------+\n",
    "#    | diff    | intel_0 | intel_0 | intel_1 | intel_1 |\n",
    "#    +---------+---------+---------+---------+---------+\n",
    "#    | intel   | diff_0  | diff_1  | diff_0  | diff_1  |\n",
    "#    +---------+---------+---------+---------+---------+\n",
    "#    | grade_0 | 0.3     | 0.05    | 0.9     | 0.5     |\n",
    "#    +---------+---------+---------+---------+---------+\n",
    "#    | grade_1 | 0.4     | 0.25    | 0.08    | 0.3     |\n",
    "#    +---------+---------+---------+---------+---------+\n",
    "#    | grade_2 | 0.3     | 0.7     | 0.02    | 0.2     |\n",
    "#    +---------+---------+---------+---------+---------+"
   ]
  },
  {
   "cell_type": "code",
   "execution_count": 9,
   "metadata": {},
   "outputs": [],
   "source": [
    "cpd_g = TabularCPD(variable='G', variable_card=3, \n",
    "                   values=[[0.3, 0.05, 0.9,  0.5],\n",
    "                           [0.4, 0.25, 0.08, 0.3],\n",
    "                           [0.3, 0.7,  0.02, 0.2]],\n",
    "                  evidence=['I', 'D'],\n",
    "                  evidence_card=[2, 2],\n",
    "                  state_names={'G': ['A', 'B', 'C'],\n",
    "                               'I': ['Dumb', 'Intelligent'],\n",
    "                               'D': ['Easy', 'Hard']})\n",
    "\n",
    "\n",
    "cpd_l = TabularCPD(variable='L', variable_card=2, \n",
    "                   values=[[0.1, 0.4, 0.99],\n",
    "                           [0.9, 0.6, 0.01]],\n",
    "                   evidence=['G'],\n",
    "                   evidence_card=[3],\n",
    "                   state_names={'L': ['Bad', 'Good'],\n",
    "                                'G': ['A', 'B', 'C']})\n",
    "\n",
    "cpd_s = TabularCPD(variable='S', variable_card=2,\n",
    "                   values=[[0.95, 0.2],\n",
    "                           [0.05, 0.8]],\n",
    "                   evidence=['I'],\n",
    "                   evidence_card=[2],\n",
    "                   state_names={'S': ['Bad', 'Good'],\n",
    "                                'I': ['Dumb', 'Intelligent']})"
   ]
  },
  {
   "cell_type": "code",
   "execution_count": 10,
   "metadata": {},
   "outputs": [
    {
     "name": "stdout",
     "output_type": "stream",
     "text": [
      "+---------+------+------+------+\n",
      "| G       | G(A) | G(B) | G(C) |\n",
      "+---------+------+------+------+\n",
      "| L(Bad)  | 0.1  | 0.4  | 0.99 |\n",
      "+---------+------+------+------+\n",
      "| L(Good) | 0.9  | 0.6  | 0.01 |\n",
      "+---------+------+------+------+\n"
     ]
    }
   ],
   "source": [
    "print(cpd_l)"
   ]
  },
  {
   "cell_type": "code",
   "execution_count": 11,
   "metadata": {},
   "outputs": [
    {
     "name": "stdout",
     "output_type": "stream",
     "text": [
      "+---------+---------+----------------+\n",
      "| I       | I(Dumb) | I(Intelligent) |\n",
      "+---------+---------+----------------+\n",
      "| S(Bad)  | 0.95    | 0.2            |\n",
      "+---------+---------+----------------+\n",
      "| S(Good) | 0.05    | 0.8            |\n",
      "+---------+---------+----------------+\n"
     ]
    }
   ],
   "source": [
    "print(cpd_s)"
   ]
  },
  {
   "cell_type": "code",
   "execution_count": 12,
   "metadata": {},
   "outputs": [
    {
     "name": "stdout",
     "output_type": "stream",
     "text": [
      "+------+---------+---------+----------------+----------------+\n",
      "| I    | I(Dumb) | I(Dumb) | I(Intelligent) | I(Intelligent) |\n",
      "+------+---------+---------+----------------+----------------+\n",
      "| D    | D(Easy) | D(Hard) | D(Easy)        | D(Hard)        |\n",
      "+------+---------+---------+----------------+----------------+\n",
      "| G(A) | 0.3     | 0.05    | 0.9            | 0.5            |\n",
      "+------+---------+---------+----------------+----------------+\n",
      "| G(B) | 0.4     | 0.25    | 0.08           | 0.3            |\n",
      "+------+---------+---------+----------------+----------------+\n",
      "| G(C) | 0.3     | 0.7     | 0.02           | 0.2            |\n",
      "+------+---------+---------+----------------+----------------+\n"
     ]
    }
   ],
   "source": [
    "print(cpd_g)"
   ]
  },
  {
   "cell_type": "code",
   "execution_count": 13,
   "metadata": {
    "scrolled": true
   },
   "outputs": [
    {
     "data": {
      "text/plain": [
       "True"
      ]
     },
     "execution_count": 13,
     "metadata": {},
     "output_type": "execute_result"
    }
   ],
   "source": [
    "# Associating the CPDs with the network\n",
    "model.add_cpds(cpd_d, cpd_i, cpd_g, cpd_l, cpd_s)\n",
    "\n",
    "# check_model checks for the network structure and CPDs and verifies that the CPDs are correctly \n",
    "# defined and sum to 1.\n",
    "model.check_model()"
   ]
  },
  {
   "cell_type": "markdown",
   "metadata": {},
   "source": [
    "### 3. Add relationships to the model"
   ]
  },
  {
   "cell_type": "code",
   "execution_count": 14,
   "metadata": {},
   "outputs": [],
   "source": [
    "model.add_cpds(cpd_d,cpd_i,cpd_g, cpd_s, cpd_l)"
   ]
  },
  {
   "cell_type": "markdown",
   "metadata": {},
   "source": [
    "### 4. Examine the structure of your graph"
   ]
  },
  {
   "cell_type": "code",
   "execution_count": 15,
   "metadata": {},
   "outputs": [
    {
     "data": {
      "text/plain": [
       "3"
      ]
     },
     "execution_count": 15,
     "metadata": {},
     "output_type": "execute_result"
    }
   ],
   "source": [
    "model.get_cardinality('G')"
   ]
  },
  {
   "cell_type": "code",
   "execution_count": 16,
   "metadata": {},
   "outputs": [
    {
     "data": {
      "text/plain": [
       "2"
      ]
     },
     "execution_count": 16,
     "metadata": {},
     "output_type": "execute_result"
    }
   ],
   "source": [
    "model.get_cardinality('L')"
   ]
  },
  {
   "cell_type": "code",
   "execution_count": 17,
   "metadata": {},
   "outputs": [
    {
     "data": {
      "text/plain": [
       "2"
      ]
     },
     "execution_count": 17,
     "metadata": {},
     "output_type": "execute_result"
    }
   ],
   "source": [
    "model.get_cardinality('S')"
   ]
  },
  {
   "cell_type": "code",
   "execution_count": 18,
   "metadata": {},
   "outputs": [
    {
     "data": {
      "text/plain": [
       "[<TabularCPD representing P(D:2) at 0x1d39106d490>,\n",
       " <TabularCPD representing P(I:2) at 0x1d39106d520>,\n",
       " <TabularCPD representing P(G:3 | I:2, D:2) at 0x1d3bd080040>,\n",
       " <TabularCPD representing P(L:2 | G:3) at 0x1d3bd080b80>,\n",
       " <TabularCPD representing P(S:2 | I:2) at 0x1d3bd080e50>]"
      ]
     },
     "execution_count": 18,
     "metadata": {},
     "output_type": "execute_result"
    }
   ],
   "source": [
    "model.get_cpds()"
   ]
  },
  {
   "cell_type": "markdown",
   "metadata": {},
   "source": [
    "### 5. Find active trail nodes\n",
    "\n",
    "Two nodes (variables) in a Bayes net are on an active trail if a change in one node affects the other. This includes cases where the two nodes have a causal relationship, an evidential relationship, or have some common cause."
   ]
  },
  {
   "cell_type": "code",
   "execution_count": 19,
   "metadata": {},
   "outputs": [
    {
     "data": {
      "text/plain": [
       "{'G': {'D', 'G', 'I', 'L', 'S'}}"
      ]
     },
     "execution_count": 19,
     "metadata": {},
     "output_type": "execute_result"
    }
   ],
   "source": [
    "#path of influence\n",
    "model.active_trail_nodes('G')"
   ]
  },
  {
   "cell_type": "code",
   "execution_count": 20,
   "metadata": {},
   "outputs": [
    {
     "data": {
      "text/plain": [
       "{'I': {'G', 'I', 'L', 'S'}}"
      ]
     },
     "execution_count": 20,
     "metadata": {},
     "output_type": "execute_result"
    }
   ],
   "source": [
    "model.active_trail_nodes('I')"
   ]
  },
  {
   "cell_type": "code",
   "execution_count": 21,
   "metadata": {},
   "outputs": [
    {
     "data": {
      "text/plain": [
       "{'D': {'D', 'G', 'L'}}"
      ]
     },
     "execution_count": 21,
     "metadata": {},
     "output_type": "execute_result"
    }
   ],
   "source": [
    "model.active_trail_nodes('D')"
   ]
  },
  {
   "cell_type": "code",
   "execution_count": 22,
   "metadata": {},
   "outputs": [
    {
     "data": {
      "text/plain": [
       "{'D': {'D', 'I', 'S'}}"
      ]
     },
     "execution_count": 22,
     "metadata": {},
     "output_type": "execute_result"
    }
   ],
   "source": [
    "model.active_trail_nodes('D', observed='G')"
   ]
  },
  {
   "cell_type": "markdown",
   "metadata": {},
   "source": [
    "### 6. Find local independencies"
   ]
  },
  {
   "cell_type": "code",
   "execution_count": 23,
   "metadata": {},
   "outputs": [
    {
     "data": {
      "text/plain": [
       "(G ⟂ S | D, I)"
      ]
     },
     "execution_count": 23,
     "metadata": {},
     "output_type": "execute_result"
    }
   ],
   "source": [
    "model.local_independencies('G')"
   ]
  },
  {
   "cell_type": "code",
   "execution_count": 24,
   "metadata": {},
   "outputs": [
    {
     "data": {
      "text/plain": [
       "(I ⟂ D)"
      ]
     },
     "execution_count": 24,
     "metadata": {},
     "output_type": "execute_result"
    }
   ],
   "source": [
    "model.local_independencies('I')"
   ]
  },
  {
   "cell_type": "markdown",
   "metadata": {},
   "source": [
    "### 7. Get all independencies"
   ]
  },
  {
   "cell_type": "code",
   "execution_count": 25,
   "metadata": {},
   "outputs": [
    {
     "data": {
      "text/plain": [
       "(D ⟂ S, I)\n",
       "(D ⟂ I | S)\n",
       "(D ⟂ S | I)\n",
       "(D ⟂ L | G)\n",
       "(D ⟂ L | S, G)\n",
       "(D ⟂ S | L, I)\n",
       "(D ⟂ S, L | G, I)\n",
       "(D ⟂ L | S, I, G)\n",
       "(D ⟂ S | L, I, G)\n",
       "(S ⟂ D)\n",
       "(S ⟂ D, L, G | I)\n",
       "(S ⟂ L | G)\n",
       "(S ⟂ L, G | D, I)\n",
       "(S ⟂ L | D, G)\n",
       "(S ⟂ D, G | L, I)\n",
       "(S ⟂ D, L | G, I)\n",
       "(S ⟂ G | D, L, I)\n",
       "(S ⟂ L | D, G, I)\n",
       "(S ⟂ D | L, I, G)\n",
       "(I ⟂ D)\n",
       "(I ⟂ D | S)\n",
       "(I ⟂ L | G)\n",
       "(I ⟂ L | S, G)\n",
       "(I ⟂ L | D, G)\n",
       "(I ⟂ L | D, S, G)\n",
       "(G ⟂ S | I)\n",
       "(G ⟂ S | D, I)\n",
       "(G ⟂ S | L, I)\n",
       "(G ⟂ S | D, L, I)\n",
       "(L ⟂ D, S, I | G)\n",
       "(L ⟂ S | I)\n",
       "(L ⟂ D, I | S, G)\n",
       "(L ⟂ S, I | D, G)\n",
       "(L ⟂ S | D, I)\n",
       "(L ⟂ D, S | G, I)\n",
       "(L ⟂ I | D, S, G)\n",
       "(L ⟂ D | S, I, G)\n",
       "(L ⟂ S | D, G, I)"
      ]
     },
     "execution_count": 25,
     "metadata": {},
     "output_type": "execute_result"
    }
   ],
   "source": [
    "model.get_independencies()"
   ]
  },
  {
   "cell_type": "markdown",
   "metadata": {},
   "source": [
    "## B - Making inferences"
   ]
  },
  {
   "cell_type": "markdown",
   "metadata": {},
   "source": [
    "### 1. Marginal Inference \n",
    "\n",
    "Finding the probability distribution of a specific variable. \n",
    "\n",
    "For instance, given a graph with variables A, B, C, and D, where A takes values 1, 2, and 3, find p(A=1), p(A=2) and p(A=3)."
   ]
  },
  {
   "cell_type": "code",
   "execution_count": 26,
   "metadata": {},
   "outputs": [],
   "source": [
    "infer = VariableElimination(model)"
   ]
  },
  {
   "cell_type": "code",
   "execution_count": 27,
   "metadata": {},
   "outputs": [
    {
     "name": "stdout",
     "output_type": "stream",
     "text": [
      "+---------+----------+\n",
      "| L       |   phi(L) |\n",
      "+=========+==========+\n",
      "| L(Bad)  |   0.4977 |\n",
      "+---------+----------+\n",
      "| L(Good) |   0.5023 |\n",
      "+---------+----------+\n"
     ]
    }
   ],
   "source": [
    "prob_letter = infer.query(variables = ['L'])\n",
    "print(prob_letter)"
   ]
  },
  {
   "cell_type": "code",
   "execution_count": 28,
   "metadata": {},
   "outputs": [
    {
     "name": "stdout",
     "output_type": "stream",
     "text": [
      "+------+----------+\n",
      "| G    |   phi(G) |\n",
      "+======+==========+\n",
      "| G(A) |   0.3620 |\n",
      "+------+----------+\n",
      "| G(B) |   0.2884 |\n",
      "+------+----------+\n",
      "| G(C) |   0.3496 |\n",
      "+------+----------+\n"
     ]
    }
   ],
   "source": [
    "g_dist = infer.query(['G'])\n",
    "print(g_dist)"
   ]
  },
  {
   "cell_type": "markdown",
   "metadata": {},
   "source": [
    "## Posterior inference: \n",
    "\n",
    "Given some observed variables $v_E$ (E for evidence) that take values e, finding the posterior distribution $p(v_H | v_E=e)$ for some hidden variables $v_H$.\n",
    "\n",
    "\n",
    "### Probability Queries\n",
    "\n",
    "We could use a joint probability distribution over multiple random variables to answer queries of interest. Perhaps the most common query probability query type is the probability query. Such a query consists ofwo parts:\n",
    "\n",
    "* evidence :  a subset $E$ of random variables in the model, and an instantiation $e$ to these\n",
    "* the query variables: a subset $Y$ of random variables in the network.\n",
    "\n",
    "Our task is to compute\n",
    "$P(Y| E = e)$\n",
    "that is, the posterior probability distribution over the values $y$ of $Y$ , conditioned on the fact that\n",
    "distribution $E = e$. This expression can also be viewed as the marginal over $Y$ , in the distribution we\n",
    "obtain by conditioning on $e$."
   ]
  },
  {
   "cell_type": "markdown",
   "metadata": {},
   "source": [
    "### 2a. Causal Reasoning"
   ]
  },
  {
   "cell_type": "code",
   "execution_count": 29,
   "metadata": {},
   "outputs": [
    {
     "name": "stdout",
     "output_type": "stream",
     "text": [
      "+---------+----------+\n",
      "| L       |   phi(L) |\n",
      "+=========+==========+\n",
      "| L(Bad)  |   0.1000 |\n",
      "+---------+----------+\n",
      "| L(Good) |   0.9000 |\n",
      "+---------+----------+\n"
     ]
    }
   ],
   "source": [
    "prob_letter_good_grade = infer.query(variables = ['L'], evidence = {'G':'A'})\n",
    "print(prob_letter_good_grade)"
   ]
  },
  {
   "cell_type": "code",
   "execution_count": 30,
   "metadata": {},
   "outputs": [
    {
     "name": "stdout",
     "output_type": "stream",
     "text": [
      "+------+----------+\n",
      "| G    |   phi(G) |\n",
      "+======+==========+\n",
      "| G(A) |   0.9000 |\n",
      "+------+----------+\n",
      "| G(B) |   0.0800 |\n",
      "+------+----------+\n",
      "| G(C) |   0.0200 |\n",
      "+------+----------+\n"
     ]
    }
   ],
   "source": [
    "prob_grade_high_intelligence = infer.query(variables = ['G'], \n",
    "                evidence={'D': 'Easy', 'I': 'Intelligent'})\n",
    "print(prob_grade_high_intelligence)"
   ]
  },
  {
   "cell_type": "code",
   "execution_count": 31,
   "metadata": {},
   "outputs": [
    {
     "name": "stdout",
     "output_type": "stream",
     "text": [
      "+---------+----------+\n",
      "| L       |   phi(L) |\n",
      "+=========+==========+\n",
      "| L(Bad)  |   0.1000 |\n",
      "+---------+----------+\n",
      "| L(Good) |   0.9000 |\n",
      "+---------+----------+\n"
     ]
    }
   ],
   "source": [
    "prob_letter_good_grade_bad_sat = infer.query(\n",
    "                                        variables = ['L'], \n",
    "                                        evidence = {'G':'A', 'S':'Bad'})\n",
    "print(prob_letter_good_grade_bad_sat)"
   ]
  },
  {
   "cell_type": "markdown",
   "metadata": {},
   "source": [
    "### 2b. Evidential Reasoning\n",
    "\n",
    "#### What can evidence can tell us  about the  probabilities of causal variables."
   ]
  },
  {
   "cell_type": "code",
   "execution_count": 32,
   "metadata": {},
   "outputs": [
    {
     "name": "stdout",
     "output_type": "stream",
     "text": [
      "+----------------+----------+\n",
      "| I              |   phi(I) |\n",
      "+================+==========+\n",
      "| I(Dumb)        |   0.5415 |\n",
      "+----------------+----------+\n",
      "| I(Intelligent) |   0.4585 |\n",
      "+----------------+----------+\n"
     ]
    }
   ],
   "source": [
    "prob_high_intel_if_strong_letter  = infer.query(\n",
    "                                        variables = ['I'], \n",
    "                                        evidence = {'L':'Good'})\n",
    "print(prob_high_intel_if_strong_letter)"
   ]
  },
  {
   "cell_type": "code",
   "execution_count": 33,
   "metadata": {},
   "outputs": [
    {
     "name": "stdout",
     "output_type": "stream",
     "text": [
      "+----------------+----------+\n",
      "| I              |   phi(I) |\n",
      "+================+==========+\n",
      "| I(Dumb)        |   0.5415 |\n",
      "+----------------+----------+\n",
      "| I(Intelligent) |   0.4585 |\n",
      "+----------------+----------+\n"
     ]
    }
   ],
   "source": [
    "prob_high_intel_if_strong_letter_diff_class  = infer.query(\n",
    "                                        variables = ['I'], \n",
    "                                        evidence = {'L':'Good', 'D' : 'Hard'})\n",
    "print(prob_high_intel_if_strong_letter)"
   ]
  },
  {
   "cell_type": "markdown",
   "metadata": {},
   "source": [
    "## Map Queries\n",
    "\n",
    "Finding a high-probability joint assignment to some subset of variables. \n",
    "\n",
    "Maximum-a-posteriori (MAP) inference: \n",
    "\n",
    "Given some observed variables $v_E$ that take values $e$, finding the setting of other variables $v_H$ that have the highest probability.\n",
    "\n",
    "The simplest variant of this type of task is the MAP query (also called MAP assignment most probable explanation (MPE)), whose aim is to find the MAP assignment — the most likely assignment to all of the (non-evidence) variables. \n",
    "\n",
    "More precisely, if we let $W = X - E$, our task is to find the most likely assignment to the variables in W given the evidence $E = e$\n",
    "\n",
    "$$MAP(W | e) = arg max_w P(w, e)$$\n",
    "\n",
    "where, in general, $argmax_x f(x)$ represents the value of $x$ for which $f(x)$ is maximal. \n",
    "\n",
    "Note that there might be more than one assignment that has the highest posterior probability. In this case, we can either decide that the MAP task is to return the set of possible assignments, or to return an arbitrary member of that set.It is important to understand the difference\n",
    "\n",
    "#### We can find out the most probable state for a variable"
   ]
  },
  {
   "cell_type": "code",
   "execution_count": 34,
   "metadata": {},
   "outputs": [
    {
     "data": {
      "application/vnd.jupyter.widget-view+json": {
       "model_id": "bd0a437cb8364b4cb73b5ef99f52c8fa",
       "version_major": 2,
       "version_minor": 0
      },
      "text/plain": [
       "  0%|          | 0/3 [00:00<?, ?it/s]"
      ]
     },
     "metadata": {},
     "output_type": "display_data"
    },
    {
     "data": {
      "application/vnd.jupyter.widget-view+json": {
       "model_id": "7bc5efcf61ee4afaaf47c182e68b26f2",
       "version_major": 2,
       "version_minor": 0
      },
      "text/plain": [
       "  0%|          | 0/3 [00:00<?, ?it/s]"
      ]
     },
     "metadata": {},
     "output_type": "display_data"
    },
    {
     "data": {
      "text/plain": [
       "{'L': 'Good'}"
      ]
     },
     "execution_count": 34,
     "metadata": {},
     "output_type": "execute_result"
    }
   ],
   "source": [
    "infer.map_query(variables = ['L'])"
   ]
  },
  {
   "cell_type": "code",
   "execution_count": 35,
   "metadata": {},
   "outputs": [
    {
     "data": {
      "application/vnd.jupyter.widget-view+json": {
       "model_id": "974d1d8716054d82a900afd96bafa9ab",
       "version_major": 2,
       "version_minor": 0
      },
      "text/plain": [
       "  0%|          | 0/2 [00:00<?, ?it/s]"
      ]
     },
     "metadata": {},
     "output_type": "display_data"
    },
    {
     "data": {
      "application/vnd.jupyter.widget-view+json": {
       "model_id": "64fd5d6de1664978a67231ebb46175ea",
       "version_major": 2,
       "version_minor": 0
      },
      "text/plain": [
       "  0%|          | 0/2 [00:00<?, ?it/s]"
      ]
     },
     "metadata": {},
     "output_type": "display_data"
    },
    {
     "data": {
      "text/plain": [
       "{'G': 'A'}"
      ]
     },
     "execution_count": 35,
     "metadata": {},
     "output_type": "execute_result"
    }
   ],
   "source": [
    "infer.map_query(variables = ['G'])"
   ]
  },
  {
   "cell_type": "code",
   "execution_count": 36,
   "metadata": {},
   "outputs": [
    {
     "data": {
      "application/vnd.jupyter.widget-view+json": {
       "model_id": "b6dd48aee4da4d41a491e2706eb9f1b3",
       "version_major": 2,
       "version_minor": 0
      },
      "text/plain": [
       "  0%|          | 0/1 [00:00<?, ?it/s]"
      ]
     },
     "metadata": {},
     "output_type": "display_data"
    },
    {
     "data": {
      "application/vnd.jupyter.widget-view+json": {
       "model_id": "230a4335233d48be9e14765c6d51edc6",
       "version_major": 2,
       "version_minor": 0
      },
      "text/plain": [
       "  0%|          | 0/1 [00:00<?, ?it/s]"
      ]
     },
     "metadata": {},
     "output_type": "display_data"
    },
    {
     "data": {
      "text/plain": [
       "{'S': 'Good', 'G': 'A'}"
      ]
     },
     "execution_count": 36,
     "metadata": {},
     "output_type": "execute_result"
    }
   ],
   "source": [
    "infer.map_query(variables = ['S','G'], evidence = {'I' :'Intelligent'})"
   ]
  }
 ],
 "metadata": {
  "kernelspec": {
   "display_name": "Python 3 (ipykernel)",
   "language": "python",
   "name": "python3"
  },
  "language_info": {
   "codemirror_mode": {
    "name": "ipython",
    "version": 3
   },
   "file_extension": ".py",
   "mimetype": "text/x-python",
   "name": "python",
   "nbconvert_exporter": "python",
   "pygments_lexer": "ipython3",
   "version": "3.10.4"
  },
  "widgets": {
   "state": {},
   "version": "1.1.1"
  }
 },
 "nbformat": 4,
 "nbformat_minor": 1
}
