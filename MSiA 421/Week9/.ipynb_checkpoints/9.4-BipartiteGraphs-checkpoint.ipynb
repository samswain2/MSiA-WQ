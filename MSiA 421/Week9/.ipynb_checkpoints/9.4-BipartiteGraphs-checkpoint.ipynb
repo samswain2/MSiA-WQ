{
 "cells": [
  {
   "cell_type": "markdown",
   "id": "46c1549b",
   "metadata": {},
   "source": [
    "## Bipartite Graphs\n",
    "\n",
    "### Problem\n",
    "\n",
    "Given a set of users and their ratings of movies, find users who have similar tastes in movies.\n",
    "\n",
    "### Solution \n",
    "\n",
    "We can model this problem as a bipartite graph, where the users and movies are two separate sets of nodes, and the edges connect users to the movies they have rated. We can then use NetworkX to find the nodes that are most similar based on their ratings.\n",
    "\n",
    "In this example, we define the user ratings of the movies as a dictionary, where each key is a user and the value is another dictionary representing the movies they have rated and the corresponding ratings. We then create a bipartite graph and add the nodes and edges based on the ratings. We draw the bipartite graph to visualize it, and then use the overlap_weighted_cocitation function to calculate the similarity between nodes based on their ratings.\n",
    "\n",
    "This is just another example of how graphs can be used to solve real-world problems. With NetworkX, we can model and analyze complex networks of all kinds, from social networks to biological networks to transportation networks, and much more."
   ]
  },
  {
   "cell_type": "code",
   "execution_count": null,
   "id": "f1f5f77c",
   "metadata": {},
   "outputs": [],
   "source": [
    "import networkx as nx\n",
    "import matplotlib.pyplot as plt"
   ]
  },
  {
   "cell_type": "code",
   "execution_count": null,
   "id": "7bcd1203",
   "metadata": {},
   "outputs": [],
   "source": [
    "# Define the user ratings of the movies\n",
    "ratings = {\n",
    "    'User1': {\n",
    "        'Movie1': 4,\n",
    "        'Movie2': 3,\n",
    "        'Movie3': 5\n",
    "    },\n",
    "    'User2': {\n",
    "        'Movie1': 3,\n",
    "        'Movie3': 4,\n",
    "        'Movie4': 2\n",
    "    },\n",
    "    'User3': {\n",
    "        'Movie2': 5,\n",
    "        'Movie3': 4,\n",
    "        'Movie5': 3\n",
    "    },\n",
    "    'User4': {\n",
    "        'Movie1': 2,\n",
    "        'Movie2': 3,\n",
    "        'Movie5': 4\n",
    "    }\n",
    "}"
   ]
  },
  {
   "cell_type": "code",
   "execution_count": null,
   "id": "43ef7b6a",
   "metadata": {},
   "outputs": [],
   "source": [
    "# Create a bipartite graph and add the nodes and edges\n",
    "B = nx.Graph()\n",
    "B.add_nodes_from(ratings.keys(), bipartite=0)\n",
    "B.add_nodes_from([m for u in ratings for m in ratings[u]], bipartite=1)\n",
    "B.add_edges_from([(u, m, {'weight': r}) for u in ratings for m, r in ratings[u].items()])"
   ]
  },
  {
   "cell_type": "code",
   "execution_count": null,
   "id": "75c55495",
   "metadata": {},
   "outputs": [],
   "source": [
    "# Draw the bipartite graph\n",
    "pos = nx.bipartite_layout(B, [n for n, d in B.nodes(data=True) if d['bipartite']==0])\n",
    "nx.draw_networkx_nodes(B, pos, node_size=500, node_color='r', nodelist=[n for n, d in B.nodes(data=True) if d['bipartite']==0])\n",
    "nx.draw_networkx_nodes(B, pos, node_size=500, node_color='b', nodelist=[n for n, d in B.nodes(data=True) if d['bipartite']==1])\n",
    "nx.draw_networkx_labels(B, pos)\n",
    "nx.draw_networkx_edges(B, pos)\n",
    "nx.draw_networkx_edge_labels(B, pos, edge_labels={(u, m): r['weight'] for u, m, r in B.edges(data=True)})\n",
    "plt.axis('off')\n",
    "plt.show()"
   ]
  },
  {
   "cell_type": "code",
   "execution_count": null,
   "id": "d131e0e7",
   "metadata": {},
   "outputs": [],
   "source": [
    "# Calculate the similarity between nodes based on their ratings\n",
    "similarity = nx.bipartite.overlap_weighted_cocitation(B)\n",
    "\n",
    "# Print the most similar pairs of nodes\n",
    "for u, v, s in sorted(similarity, key=lambda x: x[2], reverse=True):\n",
    "    if B.nodes[u]['bipartite'] == 0 and B.nodes[v]['bipartite'] == 0:\n",
    "        print(u, v, s)"
   ]
  }
 ],
 "metadata": {
  "kernelspec": {
   "display_name": "Python 3 (ipykernel)",
   "language": "python",
   "name": "python3"
  },
  "language_info": {
   "codemirror_mode": {
    "name": "ipython",
    "version": 3
   },
   "file_extension": ".py",
   "mimetype": "text/x-python",
   "name": "python",
   "nbconvert_exporter": "python",
   "pygments_lexer": "ipython3",
   "version": "3.9.13"
  }
 },
 "nbformat": 4,
 "nbformat_minor": 5
}
