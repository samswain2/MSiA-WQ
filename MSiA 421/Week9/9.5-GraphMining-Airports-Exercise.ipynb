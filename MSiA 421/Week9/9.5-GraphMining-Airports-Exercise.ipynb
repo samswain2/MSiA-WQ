{
 "cells": [
  {
   "cell_type": "markdown",
   "metadata": {},
   "source": [
    "# Airports Graph\n",
    "\n",
    "#### Open Flights Dataset\n",
    "\n",
    "https://openflights.org/data.html"
   ]
  },
  {
   "cell_type": "code",
   "execution_count": 1,
   "metadata": {},
   "outputs": [],
   "source": [
    "import pandas as pd\n",
    "import networkx as nx\n",
    "import matplotlib.pyplot as plt\n",
    "import os\n",
    "import operator\n",
    "import warnings\n",
    "warnings.filterwarnings('ignore')"
   ]
  },
  {
   "cell_type": "markdown",
   "metadata": {},
   "source": [
    "## Dataset\n",
    "\n",
    "Read the airlines data"
   ]
  },
  {
   "cell_type": "code",
   "execution_count": 2,
   "metadata": {},
   "outputs": [
    {
     "data": {
      "text/html": [
       "<div>\n",
       "<style scoped>\n",
       "    .dataframe tbody tr th:only-of-type {\n",
       "        vertical-align: middle;\n",
       "    }\n",
       "\n",
       "    .dataframe tbody tr th {\n",
       "        vertical-align: top;\n",
       "    }\n",
       "\n",
       "    .dataframe thead th {\n",
       "        text-align: right;\n",
       "    }\n",
       "</style>\n",
       "<table border=\"1\" class=\"dataframe\">\n",
       "  <thead>\n",
       "    <tr style=\"text-align: right;\">\n",
       "      <th></th>\n",
       "      <th>Id</th>\n",
       "      <th>Name</th>\n",
       "      <th>City</th>\n",
       "      <th>Country</th>\n",
       "      <th>IATA</th>\n",
       "      <th>ICAO</th>\n",
       "      <th>Latitude</th>\n",
       "      <th>Longitude</th>\n",
       "      <th>Altitude</th>\n",
       "      <th>Timezone</th>\n",
       "      <th>DST</th>\n",
       "      <th>Type</th>\n",
       "      <th>Source</th>\n",
       "      <th></th>\n",
       "    </tr>\n",
       "  </thead>\n",
       "  <tbody>\n",
       "    <tr>\n",
       "      <th>0</th>\n",
       "      <td>1</td>\n",
       "      <td>Goroka Airport</td>\n",
       "      <td>Goroka</td>\n",
       "      <td>Papua New Guinea</td>\n",
       "      <td>GKA</td>\n",
       "      <td>AYGA</td>\n",
       "      <td>-6.081690</td>\n",
       "      <td>145.391998</td>\n",
       "      <td>5282</td>\n",
       "      <td>10</td>\n",
       "      <td>U</td>\n",
       "      <td>Pacific/Port_Moresby</td>\n",
       "      <td>airport</td>\n",
       "      <td>OurAirports</td>\n",
       "    </tr>\n",
       "    <tr>\n",
       "      <th>1</th>\n",
       "      <td>2</td>\n",
       "      <td>Madang Airport</td>\n",
       "      <td>Madang</td>\n",
       "      <td>Papua New Guinea</td>\n",
       "      <td>MAG</td>\n",
       "      <td>AYMD</td>\n",
       "      <td>-5.207080</td>\n",
       "      <td>145.789001</td>\n",
       "      <td>20</td>\n",
       "      <td>10</td>\n",
       "      <td>U</td>\n",
       "      <td>Pacific/Port_Moresby</td>\n",
       "      <td>airport</td>\n",
       "      <td>OurAirports</td>\n",
       "    </tr>\n",
       "    <tr>\n",
       "      <th>2</th>\n",
       "      <td>3</td>\n",
       "      <td>Mount Hagen Kagamuga Airport</td>\n",
       "      <td>Mount Hagen</td>\n",
       "      <td>Papua New Guinea</td>\n",
       "      <td>HGU</td>\n",
       "      <td>AYMH</td>\n",
       "      <td>-5.826790</td>\n",
       "      <td>144.296005</td>\n",
       "      <td>5388</td>\n",
       "      <td>10</td>\n",
       "      <td>U</td>\n",
       "      <td>Pacific/Port_Moresby</td>\n",
       "      <td>airport</td>\n",
       "      <td>OurAirports</td>\n",
       "    </tr>\n",
       "    <tr>\n",
       "      <th>3</th>\n",
       "      <td>4</td>\n",
       "      <td>Nadzab Airport</td>\n",
       "      <td>Nadzab</td>\n",
       "      <td>Papua New Guinea</td>\n",
       "      <td>LAE</td>\n",
       "      <td>AYNZ</td>\n",
       "      <td>-6.569803</td>\n",
       "      <td>146.725977</td>\n",
       "      <td>239</td>\n",
       "      <td>10</td>\n",
       "      <td>U</td>\n",
       "      <td>Pacific/Port_Moresby</td>\n",
       "      <td>airport</td>\n",
       "      <td>OurAirports</td>\n",
       "    </tr>\n",
       "    <tr>\n",
       "      <th>4</th>\n",
       "      <td>5</td>\n",
       "      <td>Port Moresby Jacksons International Airport</td>\n",
       "      <td>Port Moresby</td>\n",
       "      <td>Papua New Guinea</td>\n",
       "      <td>POM</td>\n",
       "      <td>AYPY</td>\n",
       "      <td>-9.443380</td>\n",
       "      <td>147.220001</td>\n",
       "      <td>146</td>\n",
       "      <td>10</td>\n",
       "      <td>U</td>\n",
       "      <td>Pacific/Port_Moresby</td>\n",
       "      <td>airport</td>\n",
       "      <td>OurAirports</td>\n",
       "    </tr>\n",
       "  </tbody>\n",
       "</table>\n",
       "</div>"
      ],
      "text/plain": [
       "   Id                                         Name          City  \\\n",
       "0   1                               Goroka Airport        Goroka   \n",
       "1   2                               Madang Airport        Madang   \n",
       "2   3                 Mount Hagen Kagamuga Airport   Mount Hagen   \n",
       "3   4                               Nadzab Airport        Nadzab   \n",
       "4   5  Port Moresby Jacksons International Airport  Port Moresby   \n",
       "\n",
       "            Country IATA  ICAO  Latitude   Longitude  Altitude Timezone DST  \\\n",
       "0  Papua New Guinea  GKA  AYGA -6.081690  145.391998      5282       10   U   \n",
       "1  Papua New Guinea  MAG  AYMD -5.207080  145.789001        20       10   U   \n",
       "2  Papua New Guinea  HGU  AYMH -5.826790  144.296005      5388       10   U   \n",
       "3  Papua New Guinea  LAE  AYNZ -6.569803  146.725977       239       10   U   \n",
       "4  Papua New Guinea  POM  AYPY -9.443380  147.220001       146       10   U   \n",
       "\n",
       "                   Type   Source               \n",
       "0  Pacific/Port_Moresby  airport  OurAirports  \n",
       "1  Pacific/Port_Moresby  airport  OurAirports  \n",
       "2  Pacific/Port_Moresby  airport  OurAirports  \n",
       "3  Pacific/Port_Moresby  airport  OurAirports  \n",
       "4  Pacific/Port_Moresby  airport  OurAirports  "
      ]
     },
     "execution_count": 2,
     "metadata": {},
     "output_type": "execute_result"
    }
   ],
   "source": [
    "names=[\"Id\", \"Name\", \"City\", \"Country\",\"IATA\",\"ICAO\",\"Latitude\",\"Longitude\",\"Altitude\",\"Timezone\",\"DST\",\"Type\",\"Source\",\"\"]\n",
    "airports = pd.read_csv('data/airports.csv', names=names)\n",
    "airports.head(5)"
   ]
  },
  {
   "cell_type": "code",
   "execution_count": 3,
   "metadata": {},
   "outputs": [
    {
     "data": {
      "text/plain": [
       "Country\n",
       "Afghanistan       22\n",
       "Albania            5\n",
       "Algeria           44\n",
       "American Samoa     2\n",
       "Angola            25\n",
       "                  ..\n",
       "West Bank          1\n",
       "Western Sahara     3\n",
       "Yemen             11\n",
       "Zambia            13\n",
       "Zimbabwe          16\n",
       "Length: 237, dtype: int64"
      ]
     },
     "execution_count": 3,
     "metadata": {},
     "output_type": "execute_result"
    }
   ],
   "source": [
    "airports.groupby('Country').size()"
   ]
  },
  {
   "cell_type": "code",
   "execution_count": 4,
   "metadata": {},
   "outputs": [
    {
     "data": {
      "text/plain": [
       "237"
      ]
     },
     "execution_count": 4,
     "metadata": {},
     "output_type": "execute_result"
    }
   ],
   "source": [
    "airports.Country.unique().size"
   ]
  },
  {
   "cell_type": "code",
   "execution_count": 5,
   "metadata": {},
   "outputs": [
    {
     "data": {
      "text/html": [
       "<div>\n",
       "<style scoped>\n",
       "    .dataframe tbody tr th:only-of-type {\n",
       "        vertical-align: middle;\n",
       "    }\n",
       "\n",
       "    .dataframe tbody tr th {\n",
       "        vertical-align: top;\n",
       "    }\n",
       "\n",
       "    .dataframe thead th {\n",
       "        text-align: right;\n",
       "    }\n",
       "</style>\n",
       "<table border=\"1\" class=\"dataframe\">\n",
       "  <thead>\n",
       "    <tr style=\"text-align: right;\">\n",
       "      <th></th>\n",
       "      <th>Airline</th>\n",
       "      <th>AirlineID</th>\n",
       "      <th>Source</th>\n",
       "      <th>SourceId</th>\n",
       "      <th>Destination</th>\n",
       "      <th>DestinationId</th>\n",
       "      <th>Codeshare</th>\n",
       "      <th>Stops</th>\n",
       "      <th>Equipment</th>\n",
       "    </tr>\n",
       "  </thead>\n",
       "  <tbody>\n",
       "    <tr>\n",
       "      <th>0</th>\n",
       "      <td>2B</td>\n",
       "      <td>410</td>\n",
       "      <td>AER</td>\n",
       "      <td>2965</td>\n",
       "      <td>KZN</td>\n",
       "      <td>2990</td>\n",
       "      <td>NaN</td>\n",
       "      <td>0</td>\n",
       "      <td>CR2</td>\n",
       "    </tr>\n",
       "    <tr>\n",
       "      <th>1</th>\n",
       "      <td>2B</td>\n",
       "      <td>410</td>\n",
       "      <td>ASF</td>\n",
       "      <td>2966</td>\n",
       "      <td>KZN</td>\n",
       "      <td>2990</td>\n",
       "      <td>NaN</td>\n",
       "      <td>0</td>\n",
       "      <td>CR2</td>\n",
       "    </tr>\n",
       "    <tr>\n",
       "      <th>2</th>\n",
       "      <td>2B</td>\n",
       "      <td>410</td>\n",
       "      <td>ASF</td>\n",
       "      <td>2966</td>\n",
       "      <td>MRV</td>\n",
       "      <td>2962</td>\n",
       "      <td>NaN</td>\n",
       "      <td>0</td>\n",
       "      <td>CR2</td>\n",
       "    </tr>\n",
       "    <tr>\n",
       "      <th>3</th>\n",
       "      <td>2B</td>\n",
       "      <td>410</td>\n",
       "      <td>CEK</td>\n",
       "      <td>2968</td>\n",
       "      <td>KZN</td>\n",
       "      <td>2990</td>\n",
       "      <td>NaN</td>\n",
       "      <td>0</td>\n",
       "      <td>CR2</td>\n",
       "    </tr>\n",
       "    <tr>\n",
       "      <th>4</th>\n",
       "      <td>2B</td>\n",
       "      <td>410</td>\n",
       "      <td>CEK</td>\n",
       "      <td>2968</td>\n",
       "      <td>OVB</td>\n",
       "      <td>4078</td>\n",
       "      <td>NaN</td>\n",
       "      <td>0</td>\n",
       "      <td>CR2</td>\n",
       "    </tr>\n",
       "  </tbody>\n",
       "</table>\n",
       "</div>"
      ],
      "text/plain": [
       "  Airline AirlineID Source SourceId Destination DestinationId Codeshare  \\\n",
       "0      2B       410    AER     2965         KZN          2990       NaN   \n",
       "1      2B       410    ASF     2966         KZN          2990       NaN   \n",
       "2      2B       410    ASF     2966         MRV          2962       NaN   \n",
       "3      2B       410    CEK     2968         KZN          2990       NaN   \n",
       "4      2B       410    CEK     2968         OVB          4078       NaN   \n",
       "\n",
       "   Stops Equipment  \n",
       "0      0       CR2  \n",
       "1      0       CR2  \n",
       "2      0       CR2  \n",
       "3      0       CR2  \n",
       "4      0       CR2  "
      ]
     },
     "execution_count": 5,
     "metadata": {},
     "output_type": "execute_result"
    }
   ],
   "source": [
    "routes = pd.read_csv('data/routes.csv', \n",
    "                     names=[\"Airline\",\"AirlineID\",\n",
    "                            \"Source\",\"SourceId\",\"Destination\",\"DestinationId\",\n",
    "                            \"Codeshare\",\"Stops\",\"Equipment\"])\n",
    "routes.head(5)"
   ]
  },
  {
   "cell_type": "code",
   "execution_count": 6,
   "metadata": {},
   "outputs": [
    {
     "data": {
      "text/html": [
       "<div>\n",
       "<style scoped>\n",
       "    .dataframe tbody tr th:only-of-type {\n",
       "        vertical-align: middle;\n",
       "    }\n",
       "\n",
       "    .dataframe tbody tr th {\n",
       "        vertical-align: top;\n",
       "    }\n",
       "\n",
       "    .dataframe thead th {\n",
       "        text-align: right;\n",
       "    }\n",
       "</style>\n",
       "<table border=\"1\" class=\"dataframe\">\n",
       "  <thead>\n",
       "    <tr style=\"text-align: right;\">\n",
       "      <th></th>\n",
       "      <th>Source</th>\n",
       "      <th>Destination</th>\n",
       "      <th>Airline</th>\n",
       "    </tr>\n",
       "  </thead>\n",
       "  <tbody>\n",
       "    <tr>\n",
       "      <th>0</th>\n",
       "      <td>AER</td>\n",
       "      <td>KZN</td>\n",
       "      <td>2B</td>\n",
       "    </tr>\n",
       "    <tr>\n",
       "      <th>1</th>\n",
       "      <td>ASF</td>\n",
       "      <td>KZN</td>\n",
       "      <td>2B</td>\n",
       "    </tr>\n",
       "    <tr>\n",
       "      <th>2</th>\n",
       "      <td>ASF</td>\n",
       "      <td>MRV</td>\n",
       "      <td>2B</td>\n",
       "    </tr>\n",
       "    <tr>\n",
       "      <th>3</th>\n",
       "      <td>CEK</td>\n",
       "      <td>KZN</td>\n",
       "      <td>2B</td>\n",
       "    </tr>\n",
       "    <tr>\n",
       "      <th>4</th>\n",
       "      <td>CEK</td>\n",
       "      <td>OVB</td>\n",
       "      <td>2B</td>\n",
       "    </tr>\n",
       "  </tbody>\n",
       "</table>\n",
       "</div>"
      ],
      "text/plain": [
       "  Source Destination Airline\n",
       "0    AER         KZN      2B\n",
       "1    ASF         KZN      2B\n",
       "2    ASF         MRV      2B\n",
       "3    CEK         KZN      2B\n",
       "4    CEK         OVB      2B"
      ]
     },
     "execution_count": 6,
     "metadata": {},
     "output_type": "execute_result"
    }
   ],
   "source": [
    "routes = routes[[\"Source\",\"Destination\",\"Airline\"]]\n",
    "routes.head(5)"
   ]
  },
  {
   "cell_type": "code",
   "execution_count": 7,
   "metadata": {},
   "outputs": [],
   "source": [
    "#filter down to US airports"
   ]
  },
  {
   "cell_type": "code",
   "execution_count": 8,
   "metadata": {},
   "outputs": [
    {
     "data": {
      "text/html": [
       "<div>\n",
       "<style scoped>\n",
       "    .dataframe tbody tr th:only-of-type {\n",
       "        vertical-align: middle;\n",
       "    }\n",
       "\n",
       "    .dataframe tbody tr th {\n",
       "        vertical-align: top;\n",
       "    }\n",
       "\n",
       "    .dataframe thead th {\n",
       "        text-align: right;\n",
       "    }\n",
       "</style>\n",
       "<table border=\"1\" class=\"dataframe\">\n",
       "  <thead>\n",
       "    <tr style=\"text-align: right;\">\n",
       "      <th></th>\n",
       "      <th>Id</th>\n",
       "      <th>Name</th>\n",
       "      <th>City</th>\n",
       "      <th>Country</th>\n",
       "      <th>IATA</th>\n",
       "      <th>ICAO</th>\n",
       "      <th>Latitude</th>\n",
       "      <th>Longitude</th>\n",
       "      <th>Altitude</th>\n",
       "      <th>Timezone</th>\n",
       "      <th>DST</th>\n",
       "      <th>Type</th>\n",
       "      <th>Source</th>\n",
       "      <th></th>\n",
       "    </tr>\n",
       "  </thead>\n",
       "  <tbody>\n",
       "    <tr>\n",
       "      <th>3212</th>\n",
       "      <td>3411</td>\n",
       "      <td>Barter Island LRRS Airport</td>\n",
       "      <td>Barter Island</td>\n",
       "      <td>United States</td>\n",
       "      <td>BTI</td>\n",
       "      <td>PABA</td>\n",
       "      <td>70.134003</td>\n",
       "      <td>-143.582001</td>\n",
       "      <td>2</td>\n",
       "      <td>-9</td>\n",
       "      <td>A</td>\n",
       "      <td>America/Anchorage</td>\n",
       "      <td>airport</td>\n",
       "      <td>OurAirports</td>\n",
       "    </tr>\n",
       "    <tr>\n",
       "      <th>3213</th>\n",
       "      <td>3412</td>\n",
       "      <td>Wainwright Air Station</td>\n",
       "      <td>Fort Wainwright</td>\n",
       "      <td>United States</td>\n",
       "      <td>\\N</td>\n",
       "      <td>PAWT</td>\n",
       "      <td>70.613403</td>\n",
       "      <td>-159.860001</td>\n",
       "      <td>35</td>\n",
       "      <td>-9</td>\n",
       "      <td>A</td>\n",
       "      <td>America/Anchorage</td>\n",
       "      <td>airport</td>\n",
       "      <td>OurAirports</td>\n",
       "    </tr>\n",
       "    <tr>\n",
       "      <th>3214</th>\n",
       "      <td>3413</td>\n",
       "      <td>Cape Lisburne LRRS Airport</td>\n",
       "      <td>Cape Lisburne</td>\n",
       "      <td>United States</td>\n",
       "      <td>LUR</td>\n",
       "      <td>PALU</td>\n",
       "      <td>68.875099</td>\n",
       "      <td>-166.110001</td>\n",
       "      <td>16</td>\n",
       "      <td>-9</td>\n",
       "      <td>A</td>\n",
       "      <td>America/Anchorage</td>\n",
       "      <td>airport</td>\n",
       "      <td>OurAirports</td>\n",
       "    </tr>\n",
       "    <tr>\n",
       "      <th>3215</th>\n",
       "      <td>3414</td>\n",
       "      <td>Point Lay LRRS Airport</td>\n",
       "      <td>Point Lay</td>\n",
       "      <td>United States</td>\n",
       "      <td>PIZ</td>\n",
       "      <td>PPIZ</td>\n",
       "      <td>69.732903</td>\n",
       "      <td>-163.005005</td>\n",
       "      <td>22</td>\n",
       "      <td>-9</td>\n",
       "      <td>A</td>\n",
       "      <td>America/Anchorage</td>\n",
       "      <td>airport</td>\n",
       "      <td>OurAirports</td>\n",
       "    </tr>\n",
       "    <tr>\n",
       "      <th>3216</th>\n",
       "      <td>3415</td>\n",
       "      <td>Hilo International Airport</td>\n",
       "      <td>Hilo</td>\n",
       "      <td>United States</td>\n",
       "      <td>ITO</td>\n",
       "      <td>PHTO</td>\n",
       "      <td>19.721399</td>\n",
       "      <td>-155.048004</td>\n",
       "      <td>38</td>\n",
       "      <td>-10</td>\n",
       "      <td>N</td>\n",
       "      <td>Pacific/Honolulu</td>\n",
       "      <td>airport</td>\n",
       "      <td>OurAirports</td>\n",
       "    </tr>\n",
       "  </tbody>\n",
       "</table>\n",
       "</div>"
      ],
      "text/plain": [
       "        Id                        Name             City        Country IATA  \\\n",
       "3212  3411  Barter Island LRRS Airport    Barter Island  United States  BTI   \n",
       "3213  3412      Wainwright Air Station  Fort Wainwright  United States   \\N   \n",
       "3214  3413  Cape Lisburne LRRS Airport    Cape Lisburne  United States  LUR   \n",
       "3215  3414      Point Lay LRRS Airport        Point Lay  United States  PIZ   \n",
       "3216  3415  Hilo International Airport             Hilo  United States  ITO   \n",
       "\n",
       "      ICAO   Latitude   Longitude  Altitude Timezone DST               Type  \\\n",
       "3212  PABA  70.134003 -143.582001         2       -9   A  America/Anchorage   \n",
       "3213  PAWT  70.613403 -159.860001        35       -9   A  America/Anchorage   \n",
       "3214  PALU  68.875099 -166.110001        16       -9   A  America/Anchorage   \n",
       "3215  PPIZ  69.732903 -163.005005        22       -9   A  America/Anchorage   \n",
       "3216  PHTO  19.721399 -155.048004        38      -10   N   Pacific/Honolulu   \n",
       "\n",
       "       Source               \n",
       "3212  airport  OurAirports  \n",
       "3213  airport  OurAirports  \n",
       "3214  airport  OurAirports  \n",
       "3215  airport  OurAirports  \n",
       "3216  airport  OurAirports  "
      ]
     },
     "execution_count": 8,
     "metadata": {},
     "output_type": "execute_result"
    }
   ],
   "source": [
    "airports = airports[airports['Country'] =='United States']\n",
    "airports.head()"
   ]
  },
  {
   "cell_type": "code",
   "execution_count": 9,
   "metadata": {},
   "outputs": [
    {
     "data": {
      "text/html": [
       "<div>\n",
       "<style scoped>\n",
       "    .dataframe tbody tr th:only-of-type {\n",
       "        vertical-align: middle;\n",
       "    }\n",
       "\n",
       "    .dataframe tbody tr th {\n",
       "        vertical-align: top;\n",
       "    }\n",
       "\n",
       "    .dataframe thead th {\n",
       "        text-align: right;\n",
       "    }\n",
       "</style>\n",
       "<table border=\"1\" class=\"dataframe\">\n",
       "  <thead>\n",
       "    <tr style=\"text-align: right;\">\n",
       "      <th></th>\n",
       "      <th>Source</th>\n",
       "      <th>Destination</th>\n",
       "      <th>Airline</th>\n",
       "    </tr>\n",
       "  </thead>\n",
       "  <tbody>\n",
       "    <tr>\n",
       "      <th>172</th>\n",
       "      <td>ADQ</td>\n",
       "      <td>KLN</td>\n",
       "      <td>2O</td>\n",
       "    </tr>\n",
       "    <tr>\n",
       "      <th>177</th>\n",
       "      <td>KLN</td>\n",
       "      <td>KYK</td>\n",
       "      <td>2O</td>\n",
       "    </tr>\n",
       "    <tr>\n",
       "      <th>260</th>\n",
       "      <td>BRL</td>\n",
       "      <td>ORD</td>\n",
       "      <td>3E</td>\n",
       "    </tr>\n",
       "    <tr>\n",
       "      <th>261</th>\n",
       "      <td>BRL</td>\n",
       "      <td>STL</td>\n",
       "      <td>3E</td>\n",
       "    </tr>\n",
       "    <tr>\n",
       "      <th>262</th>\n",
       "      <td>DEC</td>\n",
       "      <td>ORD</td>\n",
       "      <td>3E</td>\n",
       "    </tr>\n",
       "    <tr>\n",
       "      <th>...</th>\n",
       "      <td>...</td>\n",
       "      <td>...</td>\n",
       "      <td>...</td>\n",
       "    </tr>\n",
       "    <tr>\n",
       "      <th>67565</th>\n",
       "      <td>SHR</td>\n",
       "      <td>DEN</td>\n",
       "      <td>ZK</td>\n",
       "    </tr>\n",
       "    <tr>\n",
       "      <th>67566</th>\n",
       "      <td>SOW</td>\n",
       "      <td>FMN</td>\n",
       "      <td>ZK</td>\n",
       "    </tr>\n",
       "    <tr>\n",
       "      <th>67567</th>\n",
       "      <td>SOW</td>\n",
       "      <td>PHX</td>\n",
       "      <td>ZK</td>\n",
       "    </tr>\n",
       "    <tr>\n",
       "      <th>67569</th>\n",
       "      <td>VIS</td>\n",
       "      <td>LAX</td>\n",
       "      <td>ZK</td>\n",
       "    </tr>\n",
       "    <tr>\n",
       "      <th>67570</th>\n",
       "      <td>WRL</td>\n",
       "      <td>CYS</td>\n",
       "      <td>ZK</td>\n",
       "    </tr>\n",
       "  </tbody>\n",
       "</table>\n",
       "<p>10518 rows × 3 columns</p>\n",
       "</div>"
      ],
      "text/plain": [
       "      Source Destination Airline\n",
       "172      ADQ         KLN      2O\n",
       "177      KLN         KYK      2O\n",
       "260      BRL         ORD      3E\n",
       "261      BRL         STL      3E\n",
       "262      DEC         ORD      3E\n",
       "...      ...         ...     ...\n",
       "67565    SHR         DEN      ZK\n",
       "67566    SOW         FMN      ZK\n",
       "67567    SOW         PHX      ZK\n",
       "67569    VIS         LAX      ZK\n",
       "67570    WRL         CYS      ZK\n",
       "\n",
       "[10518 rows x 3 columns]"
      ]
     },
     "execution_count": 9,
     "metadata": {},
     "output_type": "execute_result"
    }
   ],
   "source": [
    "routes = routes[\n",
    "    routes['Source'].isin(airports.IATA) &\n",
    "    routes['Destination'].isin(airports.IATA)]\n",
    "routes"
   ]
  },
  {
   "cell_type": "markdown",
   "metadata": {},
   "source": [
    "## Build Graph"
   ]
  },
  {
   "cell_type": "code",
   "execution_count": 10,
   "metadata": {},
   "outputs": [
    {
     "data": {
      "text/plain": [
       "array([['ADQ', 'KLN'],\n",
       "       ['KLN', 'KYK'],\n",
       "       ['BRL', 'ORD'],\n",
       "       ...,\n",
       "       ['SOW', 'PHX'],\n",
       "       ['VIS', 'LAX'],\n",
       "       ['WRL', 'CYS']], dtype=object)"
      ]
     },
     "execution_count": 10,
     "metadata": {},
     "output_type": "execute_result"
    }
   ],
   "source": [
    "edges = routes[['Source', 'Destination']].values\n",
    "edges"
   ]
  },
  {
   "cell_type": "code",
   "execution_count": 11,
   "metadata": {},
   "outputs": [],
   "source": [
    "#build graph from edges\n",
    "g = nx.from_edgelist(edges, create_using=nx.DiGraph())"
   ]
  },
  {
   "cell_type": "code",
   "execution_count": 14,
   "metadata": {},
   "outputs": [
    {
     "data": {
      "text/plain": [
       "549"
      ]
     },
     "execution_count": 14,
     "metadata": {},
     "output_type": "execute_result"
    }
   ],
   "source": [
    "#number of nodes in the graph\n",
    "g.number_of_nodes()"
   ]
  },
  {
   "cell_type": "code",
   "execution_count": 18,
   "metadata": {},
   "outputs": [
    {
     "data": {
      "text/plain": [
       "(549, 5450)"
      ]
     },
     "execution_count": 18,
     "metadata": {},
     "output_type": "execute_result"
    }
   ],
   "source": [
    "#number of nodes and edges\n",
    "(g.number_of_nodes(), g.number_of_edges())"
   ]
  },
  {
   "cell_type": "code",
   "execution_count": 20,
   "metadata": {},
   "outputs": [
    {
     "data": {
      "image/png": "[encoded data removed]",
      "text/plain": [
       "<Figure size 640x480 with 1 Axes>"
      ]
     },
     "metadata": {},
     "output_type": "display_data"
    }
   ],
   "source": [
    "#plot the graph\n",
    "nx.draw(g, pos=nx.spring_layout(g), with_labels=True, alpha=0.4)"
   ]
  },
  {
   "cell_type": "markdown",
   "metadata": {},
   "source": [
    "## Graph Mining"
   ]
  },
  {
   "cell_type": "code",
   "execution_count": 23,
   "metadata": {},
   "outputs": [
    {
     "data": {
      "text/plain": [
       "[('ATL', 305),\n",
       " ('ORD', 295),\n",
       " ('DEN', 295),\n",
       " ('DFW', 274),\n",
       " ('MSP', 232),\n",
       " ('DTW', 227),\n",
       " ('LAS', 226),\n",
       " ('CLT', 218),\n",
       " ('IAH', 201),\n",
       " ('PHL', 173)]"
      ]
     },
     "execution_count": 23,
     "metadata": {},
     "output_type": "execute_result"
    }
   ],
   "source": [
    "#nodes with the highest degrees\n",
    "sorted(g.degree(), key=lambda x: x[1], reverse=True)[:10]"
   ]
  },
  {
   "cell_type": "code",
   "execution_count": 29,
   "metadata": {},
   "outputs": [
    {
     "data": {
      "text/plain": [
       "(False, False)"
      ]
     },
     "execution_count": 29,
     "metadata": {},
     "output_type": "execute_result"
    }
   ],
   "source": [
    "#does a route exist between every two airports? \n",
    "#is every airport reachable from every other airport?\n",
    "\n",
    "nx.is_strongly_connected(g), nx.is_connected(g.to_undirected())"
   ]
  },
  {
   "cell_type": "markdown",
   "metadata": {},
   "source": [
    "### Connected components"
   ]
  },
  {
   "cell_type": "code",
   "execution_count": 30,
   "metadata": {},
   "outputs": [
    {
     "data": {
      "text/plain": [
       "0.018115219443447277"
      ]
     },
     "execution_count": 30,
     "metadata": {},
     "output_type": "execute_result"
    }
   ],
   "source": [
    "#graph density\n",
    "nx.density(g)"
   ]
  },
  {
   "cell_type": "code",
   "execution_count": 31,
   "metadata": {},
   "outputs": [
    {
     "data": {
      "text/plain": [
       "0.018082282680822827"
      ]
     },
     "execution_count": 31,
     "metadata": {},
     "output_type": "execute_result"
    }
   ],
   "source": [
    "#Connected Components\n",
    "len(g.edges())/(len(g.nodes())*len(g.nodes())-1)"
   ]
  },
  {
   "cell_type": "code",
   "execution_count": 32,
   "metadata": {},
   "outputs": [
    {
     "name": "stdout",
     "output_type": "stream",
     "text": [
      "{'SNA', 'ANI', 'AZA', 'ACV', 'SHG', 'OGD', 'HYA', 'OWB', 'YAK', 'LGA', 'IRC', 'DIK', 'MUE', 'IAD', 'RIC', 'PIH', 'MEI', 'NIB', 'ATY', 'DFW', 'SBA', 'CID', 'LEB', 'RAP', 'SFB', 'TTN', 'RNO', 'OGG', 'WRG', 'BFL', 'CIC', 'RDD', 'RST', 'GRK', 'ELD', 'HRO', 'HPB', 'IRK', 'PHX', 'GJT', 'CRW', 'GSO', 'YUM', 'LEX', 'IGG', 'MIA', 'EMK', 'EWR', 'TUL', 'JLN', 'SEA', 'ORV', 'ISN', 'JFK', 'MOT', 'AKP', 'SBP', 'SMF', 'KTS', 'WMO', 'PRC', 'CLE', 'BTI', 'LNY', 'GRI', 'TUS', 'CAK', 'GAM', 'MWA', 'DEC', 'SRQ', 'BIS', 'ABE', 'SBN', 'PIA', 'LMA', 'WLK', 'SAF', 'ECP', 'EEK', 'FAI', 'OTZ', 'UIN', 'LYH', 'MBL', 'MKL', 'SJT', 'VPS', 'RKS', 'ANC', 'LAM', 'CYS', 'ABR', 'STC', 'KAL', 'JHW', 'LUR', 'CEZ', 'PLN', 'COD', 'BQK', 'DLG', 'SNP', 'APN', 'JST', 'ABY', 'JNU', 'SVA', 'BHB', 'CLL', 'KYK', 'CSG', 'LBF', 'ELV', 'TRI', 'ALO', 'GTF', 'BDL', 'MHT', 'KSM', 'OME', 'CGI', 'EAU', 'MLU', 'FLG', 'BGR', 'KVL', 'INL', 'CMX', 'WNA', 'IPL', 'DDC', 'DRO', 'HNL', 'AUS', 'HNH', 'HOB', 'SOW', 'SAV', 'HNM', 'BNA', 'PTU', 'AVL', 'ENA', 'CMH', 'PSP', 'MKE', 'BKW', 'RHI', 'SGY', 'AEX', 'MCI', 'MOB', 'SHD', 'RUT', 'SJC', 'TOL', 'AGS', 'LCK', 'HSL', 'MSL', 'DHN', 'CHO', 'ILM', 'CDR', 'STS', 'NUL', 'SDY', 'OMA', 'PGD', 'LRD', 'LGB', 'CAE', 'MCK', 'MSN', 'OLF', 'PGA', 'CNM', 'MSS', 'PVD', 'CLD', 'SUX', 'MLB', 'LAR', 'MMH', 'OOK', 'FAY', 'HGR', 'BZN', 'CYF', 'KVC', 'JAN', 'LNK', 'PIZ', 'OAJ', 'SHV', 'CHA', 'FLL', 'LWS', 'BHM', 'BFF', 'TUP', 'CPR', 'YNG', 'MDT', 'WBQ', 'MOU', 'OBU', 'ELI', 'SHR', 'COU', 'EGE', 'ADQ', 'MTM', 'MGM', 'CVG', 'IMT', 'MYU', 'ORD', 'CDC', 'FCA', 'ATL', 'TLH', 'OTH', 'TNC', 'BTV', 'AZO', 'HSV', 'MMU', 'SLK', 'UST', 'ALB', 'GRR', 'VEE', 'MFE', 'BET', 'SHH', 'DAL', 'ASE', 'HUS', 'AMA', 'YKM', 'SMX', 'RBY', 'FOE', 'SPI', 'ALS', 'WTK', 'FWA', 'BPT', 'GGG', 'ACY', 'JHM', 'SAN', 'SHX', 'OAK', 'LIT', 'SCK', 'GCK', 'IDA', 'IAG', 'WSN', 'KPN', 'PKA', 'LBE', 'TLA', 'BMI', 'ACK', 'LCH', 'VIS', 'TYR', 'CEM', 'FSM', 'WRL', 'SYR', 'CLT', 'PSG', 'PWM', 'PKB', 'MCG', 'MSO', 'KOA', 'SKK', 'DAB', 'ISP', 'RSH', 'SGU', 'CMI', 'LWB', 'RDU', 'SDP', 'BLI', 'SLQ', 'IPT', 'ROC', 'MGW', 'DTW', 'LBB', 'OKC', 'RSW', 'CIK', 'FKL', 'GFK', 'ARC', 'PDT', 'IAH', 'KLW', 'GRB', 'ANV', 'EGX', 'KWT', 'ATK', 'ART', 'BKG', 'SPS', 'TVC', 'BRD', 'KLN', 'BRL', 'AKK', 'MCE', 'LAX', 'MTJ', 'MEM', 'GNV', 'AHN', 'CNY', 'DEN', 'FNT', 'RFD', 'MLL', 'KKA', 'TPA', 'BTT', 'FMN', 'KWN', 'ERI', 'LSE', 'PIR', 'SGF', 'ABQ', 'HTS', 'DRG', 'KTN', 'GDV', 'CWA', 'KWK', 'BUR', 'PBI', 'GEG', 'GTR', 'XNA', 'ELM', 'BFD', 'CHS', 'TOG', 'PIT', 'MKK', 'NME', 'SLN', 'RIW', 'AUK', 'MRY', 'EYW', 'CDB', 'STL', 'BRW', 'GUC', 'BWI', 'APF', 'STG', 'IND', 'ONT', 'TVF', 'KPV', 'TWF', 'CKB', 'BJI', 'SCC', 'HOM', 'DLH', 'MLY', 'AGN', 'GLH', 'RDM', 'LAS', 'SFO', 'MKG', 'HOU', 'HRL', 'ORH', 'PIB', 'LMT', 'FSD', 'CEC', 'BKC', 'HLN', 'ESC', 'VLD', 'AIN', 'NLG', 'BTM', 'PNS', 'ICT', 'KKH', 'SMK', 'MLI', 'AET', 'LIH', 'CHU', 'LUK', 'GPT', 'VAK', 'ITH', 'EWN', 'EAT', 'PVU', 'HYG', 'HVR', 'LAW', 'PDX', 'NUI', 'VEL', 'PSC', 'GAL', 'EVV', 'SIT', 'AVP', 'FAT', 'EUG', 'MSP', 'ABL', 'OGS', 'SCM', 'MOD', 'ILI', 'PBG', 'TXK', 'ILG', 'BRO', 'BOI', 'BUF', 'GCN', 'AKN', 'PUB', 'GLV', 'HPN', 'UNK', 'LBL', 'PSM', 'PVC', 'JBR', 'ALW', 'HCR', 'HDN', 'KYU', 'MDW', 'MAF', 'TBN', 'TEB', 'MYR', 'GCC', 'HON', 'FAR', 'MVY', 'ATW', 'PTH', 'ELP', 'ABI', 'JAX', 'AIA', 'HIB', 'ROA', 'BLV', 'PQI', 'SCE', 'HNS', 'PUW', 'HHH', 'AOO', 'SDF', 'IAN', 'MCN', 'DSM', 'KOT', 'CIU', 'MCO', 'SAT', 'BOS', 'PHL', 'ADK', 'KUK', 'LFT', 'COS', 'PIE', 'ACT', 'GSP', 'TYS', 'BIL', 'PHF', 'DCA', 'CRP', 'AUG', 'FYU', 'MBS', 'GGW', 'JAC', 'MQT', 'PGV', 'BTR', 'PAH', 'ORF', 'ITO', 'ROW', 'MFR', 'LNS', 'DAY', 'BGM', 'GST', 'VDZ', 'CDV', 'SLC', 'FLO', 'DUJ', 'EWB', 'SBY', 'PIP', 'WAA', 'MHK', 'KLG', 'DBQ', 'RKD', 'SWF', 'EKO', 'HVN', 'MSY', 'HOT', 'TLJ', 'VCT', 'LAN', 'KFP'}\n",
      "{'AKB', 'KQA', 'DUT', 'IKO'}\n",
      "{'BFI', 'ESD', 'FRD', 'CLM'}\n"
     ]
    }
   ],
   "source": [
    "#How many nodes are in the largest (in terms of nodes) weakly connected component?\n",
    "comps=nx.connected_components(g.to_undirected())\n",
    "for com in comps:\n",
    "    print(com)"
   ]
  },
  {
   "cell_type": "code",
   "execution_count": 34,
   "metadata": {},
   "outputs": [
    {
     "name": "stdout",
     "output_type": "stream",
     "text": [
      "541\n",
      "0.9854280510018215\n"
     ]
    }
   ],
   "source": [
    "#How many nodes are in the largest (in terms of nodes) strongly connected component?\n",
    "wccs = nx.weakly_connected_components(g)\n",
    "x=len(max(wccs, key=len))\n",
    "print(x)\n",
    "print(x/len(g.nodes()))"
   ]
  },
  {
   "cell_type": "markdown",
   "metadata": {},
   "source": [
    "### Path Finding"
   ]
  },
  {
   "cell_type": "code",
   "execution_count": 35,
   "metadata": {},
   "outputs": [
    {
     "data": {
      "text/plain": [
       "True"
      ]
     },
     "execution_count": 35,
     "metadata": {},
     "output_type": "execute_result"
    }
   ],
   "source": [
    "#Is there route between Chicago and San Franscisco\n",
    "nx.has_path(g, \"ORD\", \"SFO\")"
   ]
  },
  {
   "cell_type": "code",
   "execution_count": 36,
   "metadata": {},
   "outputs": [
    {
     "data": {
      "text/plain": [
       "True"
      ]
     },
     "execution_count": 36,
     "metadata": {},
     "output_type": "execute_result"
    }
   ],
   "source": [
    "#is there route from Chicago and Friday Harbor Airport (FRD)\n",
    "nx.has_path(g, \"ORD\", \"CPR\")"
   ]
  },
  {
   "cell_type": "code",
   "execution_count": 37,
   "metadata": {},
   "outputs": [
    {
     "data": {
      "text/plain": [
       "['ORD', 'SFO']"
      ]
     },
     "execution_count": 37,
     "metadata": {},
     "output_type": "execute_result"
    }
   ],
   "source": [
    "#what is the shortest route between Chicago and San Franscisco\n",
    "nx.shortest_path(g, \"ORD\", \"SFO\")"
   ]
  },
  {
   "cell_type": "code",
   "execution_count": 38,
   "metadata": {},
   "outputs": [
    {
     "data": {
      "text/plain": [
       "['ORD', 'SLC', 'CPR']"
      ]
     },
     "execution_count": 38,
     "metadata": {},
     "output_type": "execute_result"
    }
   ],
   "source": [
    "#what is the shortest route between Chicago and Casper-Natrona County International Airport(CPR)\n",
    "nx.shortest_path(g, \"ORD\", \"CPR\")"
   ]
  },
  {
   "cell_type": "markdown",
   "metadata": {},
   "source": [
    "### Degree"
   ]
  },
  {
   "cell_type": "code",
   "execution_count": 39,
   "metadata": {},
   "outputs": [
    {
     "data": {
      "text/plain": [
       "[('ATL', 152),\n",
       " ('DEN', 147),\n",
       " ('ORD', 146),\n",
       " ('DFW', 136),\n",
       " ('MSP', 116),\n",
       " ('LAS', 113),\n",
       " ('DTW', 113),\n",
       " ('CLT', 108),\n",
       " ('IAH', 100),\n",
       " ('PHL', 86)]"
      ]
     },
     "execution_count": 39,
     "metadata": {},
     "output_type": "execute_result"
    }
   ],
   "source": [
    "#Top airports with the most incoming flights\n",
    "#nodes with the highest in-degrees\n",
    "\n",
    "sorted(g.in_degree(), key=lambda x: x[1], reverse=True)[:10]"
   ]
  },
  {
   "cell_type": "code",
   "execution_count": 40,
   "metadata": {},
   "outputs": [
    {
     "data": {
      "text/plain": [
       "[('ATL', 153),\n",
       " ('ORD', 149),\n",
       " ('DEN', 148),\n",
       " ('DFW', 138),\n",
       " ('MSP', 116),\n",
       " ('DTW', 114),\n",
       " ('LAS', 113),\n",
       " ('CLT', 110),\n",
       " ('IAH', 101),\n",
       " ('PHL', 87)]"
      ]
     },
     "execution_count": 40,
     "metadata": {},
     "output_type": "execute_result"
    }
   ],
   "source": [
    "#Top airports with the most outgoing flights\n",
    "#nodes with the highest out-degrees\n",
    "\n",
    "sorted(g.out_degree(), key=lambda x: x[1], reverse=True)[:10]"
   ]
  },
  {
   "cell_type": "code",
   "execution_count": 41,
   "metadata": {},
   "outputs": [],
   "source": [
    "#plot degree histogram\n",
    "degrees = dict(g.degree())\n",
    "degree_values = sorted(set(degrees.values()))\n",
    "histogram = [list(degrees.values()).count(i)/float(nx.number_of_nodes(g)) for i in degree_values]"
   ]
  },
  {
   "cell_type": "code",
   "execution_count": 42,
   "metadata": {},
   "outputs": [
    {
     "data": {
      "text/plain": [
       "[<matplotlib.lines.Line2D at 0x2355435f7f0>]"
      ]
     },
     "execution_count": 42,
     "metadata": {},
     "output_type": "execute_result"
    },
    {
     "data": {
      "image/png": "[encoded data removed]",
      "text/plain": [
       "<Figure size 640x480 with 1 Axes>"
      ]
     },
     "metadata": {},
     "output_type": "display_data"
    }
   ],
   "source": [
    "plt.plot(histogram)"
   ]
  },
  {
   "cell_type": "markdown",
   "metadata": {},
   "source": [
    "## Centrality"
   ]
  },
  {
   "cell_type": "markdown",
   "metadata": {},
   "source": [
    "### PageRank"
   ]
  },
  {
   "cell_type": "code",
   "execution_count": 52,
   "metadata": {},
   "outputs": [
    {
     "data": {
      "text/plain": [
       "[('DEN', 0.02461240076267908),\n",
       " ('ATL', 0.02237874655417366),\n",
       " ('ORD', 0.02119369603517595),\n",
       " ('DFW', 0.020580191819304535),\n",
       " ('MSP', 0.01706830450620091)]"
      ]
     },
     "execution_count": 52,
     "metadata": {},
     "output_type": "execute_result"
    }
   ],
   "source": [
    "#Top 5 airports by pagerank\n",
    "sorted(nx.pagerank(g).items(), key=lambda x: x[1], reverse=True)[:5]"
   ]
  },
  {
   "cell_type": "code",
   "execution_count": 55,
   "metadata": {},
   "outputs": [
    {
     "data": {
      "text/plain": [
       "[('ATL', 0.2773722627737226),\n",
       " ('DEN', 0.26824817518248173),\n",
       " ('ORD', 0.2664233576642336),\n",
       " ('DFW', 0.24817518248175183),\n",
       " ('MSP', 0.2116788321167883)]"
      ]
     },
     "execution_count": 55,
     "metadata": {},
     "output_type": "execute_result"
    }
   ],
   "source": [
    "#Top 5 airports by in_degree_centrality\n",
    "sorted(nx.in_degree_centrality(g).items(), key=lambda x: x[1], reverse=True)[:5]"
   ]
  },
  {
   "cell_type": "code",
   "execution_count": 56,
   "metadata": {},
   "outputs": [
    {
     "data": {
      "text/plain": [
       "[('ATL', 0.27919708029197077),\n",
       " ('ORD', 0.2718978102189781),\n",
       " ('DEN', 0.27007299270072993),\n",
       " ('DFW', 0.25182481751824815),\n",
       " ('MSP', 0.2116788321167883)]"
      ]
     },
     "execution_count": 56,
     "metadata": {},
     "output_type": "execute_result"
    }
   ],
   "source": [
    "#Top 5 airports by out_degree_centrality\n",
    "sorted(nx.out_degree_centrality(g).items(), key=lambda x: x[1], reverse=True)[:5]"
   ]
  },
  {
   "cell_type": "markdown",
   "metadata": {},
   "source": [
    "### Closeness Centrality"
   ]
  },
  {
   "cell_type": "code",
   "execution_count": 58,
   "metadata": {},
   "outputs": [
    {
     "data": {
      "text/plain": [
       "[('DEN', 0.49281216916476295),\n",
       " ('ORD', 0.48954232538831427),\n",
       " ('LAS', 0.4764457133622431),\n",
       " ('MSP', 0.4760065928890982),\n",
       " ('SEA', 0.46781445043901404)]"
      ]
     },
     "execution_count": 58,
     "metadata": {},
     "output_type": "execute_result"
    }
   ],
   "source": [
    "#Which airports will allow you to reach all other airports with the lowest average number of airports in between?\n",
    "sorted(nx.closeness_centrality(g).items(), key=lambda x: x[1], reverse=True)[:5]"
   ]
  },
  {
   "cell_type": "code",
   "execution_count": 60,
   "metadata": {},
   "outputs": [
    {
     "data": {
      "text/plain": [
       "[('DEN', 0.49281216916476295),\n",
       " ('ORD', 0.48954232538831427),\n",
       " ('LAS', 0.4764457133622431),\n",
       " ('MSP', 0.4760065928890982),\n",
       " ('SEA', 0.46781445043901404)]"
      ]
     },
     "execution_count": 60,
     "metadata": {},
     "output_type": "execute_result"
    }
   ],
   "source": [
    "#Which airports will make you reach all other airports with the highest average number of airports in between?\n",
    "sorted(nx.closeness_centrality(g).items(), key=lambda x: x[1], reverse=True)[:5]"
   ]
  },
  {
   "cell_type": "markdown",
   "metadata": {},
   "source": [
    "### Betweenness Centrality"
   ]
  },
  {
   "cell_type": "code",
   "execution_count": 64,
   "metadata": {},
   "outputs": [
    {
     "data": {
      "text/plain": [
       "[('ANC', 0.29744738700248224),\n",
       " ('DEN', 0.14913832033656055),\n",
       " ('ORD', 0.12021012374703847),\n",
       " ('SEA', 0.11554567578910815),\n",
       " ('ATL', 0.0881872607172383)]"
      ]
     },
     "execution_count": 64,
     "metadata": {},
     "output_type": "execute_result"
    }
   ],
   "source": [
    "# Which airports often act as bridges between other pairs of airports?\n",
    "sorted(nx.betweenness_centrality(g, normalized=True).items(), key=lambda x: x[1], reverse=True)[:5]"
   ]
  },
  {
   "cell_type": "code",
   "execution_count": 65,
   "metadata": {},
   "outputs": [
    {
     "data": {
      "text/plain": [
       "[('KYK', 0.0), ('BRL', 0.0), ('DEC', 0.0), ('JBR', 0.0), ('MTM', 0.0)]"
      ]
     },
     "execution_count": 65,
     "metadata": {},
     "output_type": "execute_result"
    }
   ],
   "source": [
    "# Which airports least often act as bridges between other pairs of airports?\n",
    "sorted(nx.betweenness_centrality(g, normalized=True).items(), key=lambda x: x[1], reverse=False)[:5]"
   ]
  },
  {
   "cell_type": "markdown",
   "metadata": {},
   "source": [
    "### Transitivity"
   ]
  },
  {
   "cell_type": "code",
   "execution_count": 8,
   "metadata": {},
   "outputs": [],
   "source": [
    "# what is the transitivity and the average clustering coefficient of this graph"
   ]
  }
 ],
 "metadata": {
  "kernelspec": {
   "display_name": "Python 3 (ipykernel)",
   "language": "python",
   "name": "python3"
  },
  "language_info": {
   "codemirror_mode": {
    "name": "ipython",
    "version": 3
   },
   "file_extension": ".py",
   "mimetype": "text/x-python",
   "name": "python",
   "nbconvert_exporter": "python",
   "pygments_lexer": "ipython3",
   "version": "3.9.13"
  }
 },
 "nbformat": 4,
 "nbformat_minor": 4
}
