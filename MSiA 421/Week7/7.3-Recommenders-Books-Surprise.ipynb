{
 "cells": [
  {
   "cell_type": "markdown",
   "id": "bd178d1e",
   "metadata": {},
   "source": [
    "# Books Recommender \n",
    "\n",
    "Surprise is a scikit-based like libraries to develop recommender systems using explicit rating data. \n",
    "\n",
    "Surprise provides several algorithms to develop collaborative filtering recommender systems, starting from memory-based method (i.e. K-Nearest Neighbors or KNN) to model-based method (i.e. Singular Value Decomposition or SVD)."
   ]
  },
  {
   "cell_type": "code",
   "execution_count": null,
   "id": "af87cbc5",
   "metadata": {},
   "outputs": [],
   "source": [
    "#!pip install scikit-surprise"
   ]
  },
  {
   "cell_type": "code",
   "execution_count": null,
   "id": "d6d85072",
   "metadata": {},
   "outputs": [],
   "source": [
    "import pandas as pd\n",
    "import numpy as np\n",
    "import matplotlib.pyplot as plt\n",
    "from surprise import Dataset\n",
    "from surprise import Reader\n",
    "from surprise import SVD\n",
    "from surprise.model_selection import cross_validate\n",
    "from surprise import SVD\n",
    "from surprise.model_selection import GridSearchCV\n",
    "from surprise.model_selection import train_test_split"
   ]
  },
  {
   "cell_type": "code",
   "execution_count": null,
   "id": "733b37bc",
   "metadata": {},
   "outputs": [],
   "source": [
    "books = pd.read_csv('data/books/listing.csv', encoding = 'latin-1')\n",
    "descriptions = pd.read_csv('data/books/description.csv', encoding = 'latin-1')\n",
    "ratings = pd.read_csv('data/books/ratings.csv', encoding = 'latin-1')"
   ]
  },
  {
   "cell_type": "code",
   "execution_count": null,
   "id": "b5f20c08",
   "metadata": {},
   "outputs": [],
   "source": [
    "# Get minimum and maximum rating from the dataset\n",
    "min_rating = ratings['user_rating'].min()\n",
    "max_rating = ratings['user_rating'].max()\n",
    " \n",
    "reader = Reader(rating_scale=(min_rating, max_rating))\n",
    "data = Dataset.load_from_df(ratings[['user_id', 'book_id', 'user_rating']], reader)"
   ]
  },
  {
   "cell_type": "markdown",
   "id": "61b4a8c4",
   "metadata": {},
   "source": [
    "### Matrix Factorization\n"
   ]
  },
  {
   "cell_type": "code",
   "execution_count": null,
   "id": "03cf7a2c",
   "metadata": {},
   "outputs": [],
   "source": [
    "svd = SVD(n_epochs=10)\n",
    "results = cross_validate(svd, data, measures=['RMSE', 'MAE'], cv=10, verbose=True)"
   ]
  },
  {
   "cell_type": "code",
   "execution_count": null,
   "id": "884eaaec",
   "metadata": {},
   "outputs": [],
   "source": [
    "print(\"Average MAE: \", np.average(results[\"test_mae\"]))\n",
    "print(\"Average RMSE: \", np.average(results[\"test_rmse\"]))"
   ]
  },
  {
   "cell_type": "markdown",
   "id": "0e4b6316",
   "metadata": {},
   "source": [
    "### Hyperparameter Tuning\n",
    "\n",
    "Additionally, we can also conduct hyperparameter tuning to obtain the best hyperparameters for our model. In this case, we use grid search cross-validation in hyperparameter tuning."
   ]
  },
  {
   "cell_type": "code",
   "execution_count": null,
   "id": "303fc0b6",
   "metadata": {},
   "outputs": [],
   "source": [
    "param_grid = {\n",
    "  'n_factors': [20, 50, 100],\n",
    "  'n_epochs': [5, 10, 20]\n",
    "}\n",
    " \n",
    "gs = GridSearchCV(SVD, param_grid, measures=['rmse', 'mae'], cv=10)\n",
    "gs.fit(data)\n",
    " \n",
    "print(gs.best_score['rmse'])\n",
    "print(gs.best_params['rmse'])"
   ]
  },
  {
   "cell_type": "markdown",
   "id": "7c2e4f6b",
   "metadata": {},
   "source": [
    "### Model Retraining\n",
    "\n",
    "After the best hyperparameters are obtained, we can retrain the model using these hyperparameter."
   ]
  },
  {
   "cell_type": "code",
   "execution_count": null,
   "id": "631a0ba8",
   "metadata": {},
   "outputs": [],
   "source": [
    "# best hyperparameters\n",
    "best_factor = gs.best_params['rmse']['n_factors']\n",
    "best_epoch = gs.best_params['rmse']['n_epochs']\n",
    " \n",
    "# sample random trainset and testset\n",
    "# test set is made of 20% of the ratings.\n",
    "trainset, testset = train_test_split(data, test_size=.20)\n",
    " \n",
    "# We'll use the famous SVD algorithm.\n",
    "svd = SVD(n_factors=best_factor, n_epochs=best_epoch)\n",
    " \n",
    "# Train the algorithm on the trainset\n",
    "svd.fit(trainset)"
   ]
  },
  {
   "cell_type": "markdown",
   "id": "35c5ac0d",
   "metadata": {},
   "source": [
    "### Recommendation"
   ]
  },
  {
   "cell_type": "code",
   "execution_count": null,
   "id": "65469b81",
   "metadata": {},
   "outputs": [],
   "source": [
    "def generate_recommendation(model, user_id, ratings_df, books_df, n_items):\n",
    "    \n",
    "    # Get a list of all items from dataset\n",
    "    book_ids = ratings_df[\"book_id\"].unique()\n",
    " \n",
    "    # Get a list of all items that have been rated by user\n",
    "    book_ids_user = ratings_df.loc[ratings_df[\"user_id\"] == user_id, \"book_id\"]\n",
    "    \n",
    "    # Get a list off all items that that have not been not rated by user\n",
    "    book_ids_to_pred = np.setdiff1d(book_ids, book_ids_user)\n",
    " \n",
    "    # Apply a rating of 4 to all interactions (only to match the Surprise dataset format)\n",
    "    test_set = [[user_id, book_id, 4] for book_id in book_ids_to_pred]\n",
    " \n",
    "    # Predict the ratings and generate recommendations\n",
    "    predictions = model.test(test_set)\n",
    "    pred_ratings = np.array([pred.est for pred in predictions])\n",
    "    print(\"Top {0} item recommendations for user {1}:\\n\".format(n_items, user_id))\n",
    "    \n",
    "    # Rank top-n items based on the predicted ratings\n",
    "    index_max = (-pred_ratings).argsort()[:n_items]\n",
    "    for i in index_max:\n",
    "        book_id = book_ids_to_pred[i]\n",
    "        print(books_df[books_df[\"book_id\"]==book_id][\"name\"].values[0], pred_ratings[i])\n",
    " "
   ]
  },
  {
   "cell_type": "markdown",
   "id": "f12111b0",
   "metadata": {},
   "source": [
    "### Recommendations"
   ]
  },
  {
   "cell_type": "code",
   "execution_count": null,
   "id": "fd1c3a85",
   "metadata": {},
   "outputs": [],
   "source": [
    "# define which user ID that we want to give recommendation\n",
    "user_id = 3472\n",
    "\n",
    "# define how many top-n movies that we want to recommend\n",
    "n_items = 10\n",
    "\n",
    "# generate recommendation using the model that we have trained\n",
    "generate_recommendation(svd,user_id,ratings,books,n_items)"
   ]
  }
 ],
 "metadata": {
  "kernelspec": {
   "display_name": "Python 3 (ipykernel)",
   "language": "python",
   "name": "python3"
  },
  "language_info": {
   "codemirror_mode": {
    "name": "ipython",
    "version": 3
   },
   "file_extension": ".py",
   "mimetype": "text/x-python",
   "name": "python",
   "nbconvert_exporter": "python",
   "pygments_lexer": "ipython3",
   "version": "3.9.12"
  }
 },
 "nbformat": 4,
 "nbformat_minor": 5
}
