{
 "cells": [
  {
   "cell_type": "markdown",
   "id": "725265c9",
   "metadata": {},
   "source": [
    "# Hybrid Recommender\n",
    "\n",
    "A simple weighted hybrid recommendation system using the [Movielens](https://grouplens.org/datasets/movielens/100k/)  dataset\n",
    "\n",
    "    Model 1 - Content-based model with XGBoost \n",
    "    Model 2 - Item-based Collaborative Filtering "
   ]
  },
  {
   "cell_type": "code",
   "execution_count": null,
   "id": "9ea57eb4",
   "metadata": {},
   "outputs": [],
   "source": [
    "#! pip install xgboost"
   ]
  },
  {
   "cell_type": "code",
   "execution_count": null,
   "id": "9c5b7980",
   "metadata": {},
   "outputs": [],
   "source": [
    "import pandas as pd\n",
    "import numpy as np\n",
    "from scipy.sparse import csr_matrix\n",
    "from scipy.spatial.distance import pdist, squareform\n",
    "from sklearn import preprocessing\n",
    "from sklearn.neighbors import NearestNeighbors\n",
    "import xgboost as xgb\n",
    "import seaborn as sns\n",
    "import matplotlib.pyplot as plt"
   ]
  },
  {
   "cell_type": "markdown",
   "id": "81592f94",
   "metadata": {},
   "source": [
    "### Dataset\n",
    "\n",
    "The MovieLens dataset is hosted by the [GroupLens](https://grouplens.org/datasets/movielens/) website. Several versions are available. We will use the MovieLens 100K dataset :cite:`Herlocker.Konstan.Borchers.ea.1999`.  This dataset is comprised of 100k ratings, ranging from 1 to 5 stars, from 943 users on 1682 movies. \n",
    "\n",
    "It has been cleaned up so that each user has rated at least 20 movies. Some simple demographic information such as age, gender, genres for the users and items are also available.  We can download the [ml-100k.zip](http://files.grouplens.org/datasets/movielens/ml-100k.zip) and extract the `u.data` file, which contains all the 100k ratings in the csv format. There are many other files in the folder, a detailed description for each file can be found in the [README](http://files.grouplens.org/datasets/movielens/ml-100k-README.txt) file of the dataset."
   ]
  },
  {
   "cell_type": "code",
   "execution_count": null,
   "id": "554fa79e",
   "metadata": {},
   "outputs": [],
   "source": [
    "# load data\n",
    "data_path = 'data/ml-100k/'\n",
    "train_path = data_path + 'u1.base'\n",
    "test_path = data_path + 'u1.test'\n",
    "\n",
    "# load train and test data\n",
    "ratings_train = pd.read_csv(train_path, delimiter = '\\t', names = ['userid', 'itemid', 'rating', 'timestamp'])\n",
    "ratings_test = pd.read_csv(test_path, delimiter = '\\t', names = ['userid', 'itemid', 'rating', 'timestamp'])"
   ]
  },
  {
   "cell_type": "code",
   "execution_count": null,
   "id": "d61cf65a",
   "metadata": {},
   "outputs": [],
   "source": [
    "ratings_train.head()"
   ]
  },
  {
   "cell_type": "code",
   "execution_count": null,
   "id": "400cb039",
   "metadata": {},
   "outputs": [],
   "source": [
    "ratings_train.describe()"
   ]
  },
  {
   "cell_type": "code",
   "execution_count": null,
   "id": "5da684e0",
   "metadata": {},
   "outputs": [],
   "source": [
    "temp_df = ratings_train.groupby(['rating']).size()\n",
    "plt.figure(figsize=(3, 3))\n",
    "plt.bar(x=temp_df.index, height=temp_df.values, label=\"Ratings\")\n",
    "plt.title('Ratings')\n",
    "plt.xlabel('Ratings')\n",
    "plt.ylabel('Count')\n",
    "plt.show()"
   ]
  },
  {
   "cell_type": "code",
   "execution_count": null,
   "id": "5d522524",
   "metadata": {},
   "outputs": [],
   "source": [
    "# load user and genre data\n",
    "user = pd.read_csv(data_path+'u.user', delimiter = '|', names = ['id', 'age', 'gender', 'occupation', 'zip'])[['id', 'age', 'gender', 'occupation']]\n",
    "genre = pd.read_csv(data_path+'u.genre', delimiter = '|', names = ['genre', 'id']).genre.to_list()"
   ]
  },
  {
   "cell_type": "code",
   "execution_count": null,
   "id": "39a8e47f",
   "metadata": {},
   "outputs": [],
   "source": [
    "user.info()"
   ]
  },
  {
   "cell_type": "code",
   "execution_count": null,
   "id": "76ba3dae",
   "metadata": {},
   "outputs": [],
   "source": [
    "user.head()"
   ]
  },
  {
   "cell_type": "code",
   "execution_count": null,
   "id": "d0e460d5",
   "metadata": {},
   "outputs": [],
   "source": [
    "genre"
   ]
  },
  {
   "cell_type": "code",
   "execution_count": null,
   "id": "6e9a83cc",
   "metadata": {
    "scrolled": true
   },
   "outputs": [],
   "source": [
    "# load the movie data\n",
    "item_col_names = ['movie_id','movie_title','release_date','video_release_date','imdb_url'] + genre\n",
    "item = pd.read_csv(data_path+'u.item', delimiter = '|', names = item_col_names, encoding = 'latin-1')\n",
    "item.head()"
   ]
  },
  {
   "cell_type": "code",
   "execution_count": null,
   "id": "ae3699fa",
   "metadata": {},
   "outputs": [],
   "source": [
    "item.info()"
   ]
  },
  {
   "cell_type": "code",
   "execution_count": null,
   "id": "d6493343",
   "metadata": {},
   "outputs": [],
   "source": [
    "plt.figure(figsize=(10,4))\n",
    "genere_counts = item.loc[:,genre].sum().sort_values(ascending=False)\n",
    "sns.barplot(x=genere_counts.index, y=genere_counts.values)\n",
    "plt.xticks(rotation=60)\n",
    "plt.show()"
   ]
  },
  {
   "cell_type": "markdown",
   "id": "9d2cf1fb",
   "metadata": {},
   "source": [
    "## Data Transformation "
   ]
  },
  {
   "cell_type": "code",
   "execution_count": null,
   "id": "46c30ecd",
   "metadata": {},
   "outputs": [],
   "source": [
    "occupation_col_names =  pd.read_csv(data_path+'u.occupation', delimiter = '|', names = ['occupation'])['occupation'].to_list()\n",
    "\n",
    "# perform one-hot encoding on the user's occupation column\n",
    "user[occupation_col_names] = preprocessing.OneHotEncoder(sparse_output = False).fit_transform(user.occupation.to_numpy().reshape(-1,1))\n",
    "\n",
    "# label encoding on the gender column\n",
    "user['gender'] = preprocessing.LabelEncoder().fit_transform(user.gender)\n",
    "user = user.drop(['occupation'], axis = 1)"
   ]
  },
  {
   "cell_type": "code",
   "execution_count": null,
   "id": "220e06aa",
   "metadata": {},
   "outputs": [],
   "source": [
    "x_train = ratings_train[['userid', 'itemid']]\n",
    "y_train = ratings_train[['rating']]\n",
    "x_test = ratings_test[['userid', 'itemid']]\n",
    "y_test = ratings_test['rating']"
   ]
  },
  {
   "cell_type": "code",
   "execution_count": null,
   "id": "9f61836d",
   "metadata": {
    "scrolled": true
   },
   "outputs": [],
   "source": [
    "#retain only genre information\n",
    "item = item[['movie_id'] + genre]\n",
    "\n",
    "# Merge the movie and user data with our train and test dataset\n",
    "x_train = x_train.join(user.set_index('id'), on = 'userid').join(item.set_index('movie_id'), on = 'itemid')\n",
    "x_test = x_test.join(user.set_index('id'), on = 'userid').join(item.set_index('movie_id'), on = 'itemid')"
   ]
  },
  {
   "cell_type": "code",
   "execution_count": null,
   "id": "32e2b997",
   "metadata": {},
   "outputs": [],
   "source": [
    "x_train.shape, y_train.shape"
   ]
  },
  {
   "cell_type": "code",
   "execution_count": null,
   "id": "5b3f1bd5",
   "metadata": {},
   "outputs": [],
   "source": [
    "x_train.head()"
   ]
  },
  {
   "cell_type": "code",
   "execution_count": null,
   "id": "faf6ce1b",
   "metadata": {},
   "outputs": [],
   "source": [
    "y_train.head()"
   ]
  },
  {
   "cell_type": "markdown",
   "id": "473f4070",
   "metadata": {},
   "source": [
    "### Similarity Matrix"
   ]
  },
  {
   "cell_type": "code",
   "execution_count": null,
   "id": "314139d8",
   "metadata": {},
   "outputs": [],
   "source": [
    "#Utility Matrix\n",
    "utility = ratings_train.pivot(index = 'itemid', columns = 'userid', values = 'rating')\n",
    "utility = utility.fillna(0)\n",
    "utility.head()"
   ]
  },
  {
   "cell_type": "code",
   "execution_count": null,
   "id": "5a32ce57",
   "metadata": {},
   "outputs": [],
   "source": [
    "#use cosine distance between movie ratings\n",
    "distance_matrix = squareform(pdist(utility, 'cosine'))\n",
    "similarity_matrix = 1 - distance_matrix\n",
    "\n",
    "plt.imshow(similarity_matrix, cmap = 'Blues')"
   ]
  },
  {
   "cell_type": "markdown",
   "id": "55cb994e",
   "metadata": {},
   "source": [
    "## Recommender Models"
   ]
  },
  {
   "cell_type": "code",
   "execution_count": null,
   "id": "f8fa883a",
   "metadata": {},
   "outputs": [],
   "source": [
    "def single_prediction(userid, itemid, similarity_matrix, utility):\n",
    "    user_rating = utility.iloc[:,userid-1]\n",
    "    item_similarity = similarity_matrix[itemid-1]\n",
    "    numerator = np.dot(user_rating, item_similarity)\n",
    "    denominator = item_similarity[user_rating > 0].sum()\n",
    "            \n",
    "    if numerator == 0 or denominator == 0:\n",
    "        return user_rating[user_rating>0].mean()\n",
    "    \n",
    "    return numerator / denominator\n",
    "\n",
    "def full_prediction(test_set, pred_func, similarity_matrix, utility, **kwargs):\n",
    "    pred = []\n",
    "    for data in test_set:\n",
    "        res = pred_func(userid = data[0], \n",
    "                        itemid = data[1], \n",
    "                        similarity_matrix = similarity_matrix, \n",
    "                        utility = utility, \n",
    "                        **kwargs)\n",
    "        pred.append(res)\n",
    "    return pred"
   ]
  },
  {
   "cell_type": "markdown",
   "id": "b28fb08e",
   "metadata": {},
   "source": [
    "### Prediction"
   ]
  },
  {
   "cell_type": "code",
   "execution_count": null,
   "id": "992331e0",
   "metadata": {},
   "outputs": [],
   "source": [
    "# Model 1 - Content Based\n",
    "model1 = xgb.XGBRegressor(objective='reg:squarederror')\n",
    "model1.fit(x_train, y_train)\n",
    "\n",
    "pred1 = model1.predict(x_test)\n",
    "rmse = np.sqrt(np.mean((pred1 - y_test.to_numpy())**2))\n",
    "print(f'Content-based RMSE = {rmse}')"
   ]
  },
  {
   "cell_type": "code",
   "execution_count": null,
   "id": "3b6385c7",
   "metadata": {},
   "outputs": [],
   "source": [
    "# Model 2 - Item Based Collaborative Filter\n",
    "pred2 = full_prediction(ratings_test[['userid', 'itemid']].to_numpy(),\n",
    "                      single_prediction,\n",
    "                      similarity_matrix,\n",
    "                      utility)\n",
    "pred2 = np.array(pred2)\n",
    "\n",
    "rmse = np.sqrt(np.mean((pred2 - y_test.to_numpy())**2))\n",
    "print(f'Item-item collaborative filtering RMSE = {rmse}')"
   ]
  },
  {
   "cell_type": "markdown",
   "id": "7793fabb",
   "metadata": {},
   "source": [
    "\n",
    "Build the weighted hybrid by combining the two models in linear manner, which is able to result in better performance. As shown in the plot below, we can see that the weight is best when the weight is around 0.83 in our dataset."
   ]
  },
  {
   "cell_type": "code",
   "execution_count": null,
   "id": "b10b0431",
   "metadata": {},
   "outputs": [],
   "source": [
    "# Predict the rating of user2 on item 3\n",
    "user_to_predict = 2\n",
    "item_to_predict = 3\n",
    "\n",
    "prediction = single_prediction (user_to_predict, item_to_predict,similarity_matrix,utility)\n",
    "print(prediction)"
   ]
  },
  {
   "cell_type": "markdown",
   "id": "b6831aa5",
   "metadata": {},
   "source": [
    "### Hybrid Model Weights"
   ]
  },
  {
   "cell_type": "code",
   "execution_count": null,
   "id": "fd4eebd9",
   "metadata": {},
   "outputs": [],
   "source": [
    "chart_val = []\n",
    "\n",
    "lowest_x = 0\n",
    "lowest_y = 1\n",
    "\n",
    "w = np.linspace(0,1,21)\n",
    "\n",
    "for i in w:\n",
    "    pred4 = pred1*i + pred2*(1-i)\n",
    "    rmse = np.sqrt(np.mean((pred4 - y_test.to_numpy())**2))\n",
    "    chart_val.append([i, rmse])\n",
    "    if rmse <= lowest_y:\n",
    "        lowest_x = i\n",
    "        lowest_y = rmse\n",
    "    \n",
    "\n",
    "chart_val_np = np.array(chart_val)\n",
    "plt.plot(chart_val_np[:, 0], chart_val_np[:,1])\n",
    "plt.plot(lowest_x, lowest_y, marker=\"o\", markersize=5, markeredgecolor=\"red\")\n",
    "plt.show()"
   ]
  }
 ],
 "metadata": {
  "kernelspec": {
   "display_name": "Python 3 (ipykernel)",
   "language": "python",
   "name": "python3"
  },
  "language_info": {
   "codemirror_mode": {
    "name": "ipython",
    "version": 3
   },
   "file_extension": ".py",
   "mimetype": "text/x-python",
   "name": "python",
   "nbconvert_exporter": "python",
   "pygments_lexer": "ipython3",
   "version": "3.9.12"
  }
 },
 "nbformat": 4,
 "nbformat_minor": 5
}
