{
 "cells": [
  {
   "cell_type": "code",
   "execution_count": 49,
   "metadata": {},
   "outputs": [],
   "source": [
    "import numpy as np\n",
    "import pandas as pd\n",
    "from sklearn.decomposition import PCA\n",
    "import matplotlib.pyplot as plt\n",
    "from matplotlib.ticker import MaxNLocator"
   ]
  },
  {
   "cell_type": "code",
   "execution_count": 50,
   "metadata": {},
   "outputs": [],
   "source": [
    "df_init = pd.read_csv(r'C:\\Users\\Sam\\Desktop\\NW Work\\Winter Work\\MSiA 421\\Week2\\Country-data.csv')"
   ]
  },
  {
   "cell_type": "code",
   "execution_count": 51,
   "metadata": {},
   "outputs": [],
   "source": [
    "df = df_init.drop(columns = ['country'])"
   ]
  },
  {
   "cell_type": "code",
   "execution_count": 52,
   "metadata": {},
   "outputs": [],
   "source": [
    "df_std  = (df - df.mean()) / (df.std())\n",
    "df_std = df - df.mean()"
   ]
  },
  {
   "cell_type": "code",
   "execution_count": 53,
   "metadata": {},
   "outputs": [],
   "source": [
    "n_components=len(df_std.axes[1])\n",
    "\n",
    "pca = PCA(n_components=n_components)\n",
    "pca_fit = pca.fit_transform(df_std)\n",
    "df_pca = pd.DataFrame(data = pca_fit\n",
    "             , columns = ['PC '+ str(i+1) for i in range(n_components)])"
   ]
  },
  {
   "cell_type": "code",
   "execution_count": 54,
   "metadata": {},
   "outputs": [
    {
     "data": {
      "text/html": [
       "<div>\n",
       "<style scoped>\n",
       "    .dataframe tbody tr th:only-of-type {\n",
       "        vertical-align: middle;\n",
       "    }\n",
       "\n",
       "    .dataframe tbody tr th {\n",
       "        vertical-align: top;\n",
       "    }\n",
       "\n",
       "    .dataframe thead th {\n",
       "        text-align: right;\n",
       "    }\n",
       "</style>\n",
       "<table border=\"1\" class=\"dataframe\">\n",
       "  <thead>\n",
       "    <tr style=\"text-align: right;\">\n",
       "      <th></th>\n",
       "      <th>PC 1</th>\n",
       "      <th>PC 2</th>\n",
       "      <th>PC 3</th>\n",
       "      <th>PC 4</th>\n",
       "      <th>PC 5</th>\n",
       "      <th>PC 6</th>\n",
       "      <th>PC 7</th>\n",
       "      <th>PC 8</th>\n",
       "      <th>PC 9</th>\n",
       "    </tr>\n",
       "  </thead>\n",
       "  <tbody>\n",
       "    <tr>\n",
       "      <td>0</td>\n",
       "      <td>-19815.128018</td>\n",
       "      <td>-1651.124720</td>\n",
       "      <td>38.424930</td>\n",
       "      <td>-0.192311</td>\n",
       "      <td>-13.395274</td>\n",
       "      <td>6.528804</td>\n",
       "      <td>3.309936</td>\n",
       "      <td>-0.155323</td>\n",
       "      <td>-1.222781</td>\n",
       "    </tr>\n",
       "    <tr>\n",
       "      <td>1</td>\n",
       "      <td>-11338.938992</td>\n",
       "      <td>1493.469028</td>\n",
       "      <td>-28.182163</td>\n",
       "      <td>-14.070214</td>\n",
       "      <td>-7.859092</td>\n",
       "      <td>2.858821</td>\n",
       "      <td>-3.265009</td>\n",
       "      <td>-0.796140</td>\n",
       "      <td>0.650387</td>\n",
       "    </tr>\n",
       "    <tr>\n",
       "      <td>2</td>\n",
       "      <td>-8926.352589</td>\n",
       "      <td>3264.684102</td>\n",
       "      <td>-11.916113</td>\n",
       "      <td>-16.804181</td>\n",
       "      <td>12.238446</td>\n",
       "      <td>0.164026</td>\n",
       "      <td>-4.067036</td>\n",
       "      <td>-1.034689</td>\n",
       "      <td>-0.126227</td>\n",
       "    </tr>\n",
       "    <tr>\n",
       "      <td>3</td>\n",
       "      <td>-14652.465937</td>\n",
       "      <td>-867.795270</td>\n",
       "      <td>59.558400</td>\n",
       "      <td>40.492538</td>\n",
       "      <td>24.138701</td>\n",
       "      <td>-6.150069</td>\n",
       "      <td>-3.502401</td>\n",
       "      <td>-0.735712</td>\n",
       "      <td>-0.576152</td>\n",
       "    </tr>\n",
       "    <tr>\n",
       "      <td>4</td>\n",
       "      <td>896.142032</td>\n",
       "      <td>1898.478151</td>\n",
       "      <td>-29.133957</td>\n",
       "      <td>0.507663</td>\n",
       "      <td>-7.630103</td>\n",
       "      <td>0.394944</td>\n",
       "      <td>-1.972822</td>\n",
       "      <td>-1.296089</td>\n",
       "      <td>-0.104073</td>\n",
       "    </tr>\n",
       "    <tr>\n",
       "      <td>...</td>\n",
       "      <td>...</td>\n",
       "      <td>...</td>\n",
       "      <td>...</td>\n",
       "      <td>...</td>\n",
       "      <td>...</td>\n",
       "      <td>...</td>\n",
       "      <td>...</td>\n",
       "      <td>...</td>\n",
       "      <td>...</td>\n",
       "    </tr>\n",
       "    <tr>\n",
       "      <td>162</td>\n",
       "      <td>-17180.967679</td>\n",
       "      <td>-2487.153835</td>\n",
       "      <td>-28.120653</td>\n",
       "      <td>8.630281</td>\n",
       "      <td>3.138299</td>\n",
       "      <td>-6.350844</td>\n",
       "      <td>7.972196</td>\n",
       "      <td>-1.258877</td>\n",
       "      <td>-0.733036</td>\n",
       "    </tr>\n",
       "    <tr>\n",
       "      <td>163</td>\n",
       "      <td>-100.445973</td>\n",
       "      <td>-832.252802</td>\n",
       "      <td>-7.709222</td>\n",
       "      <td>-35.835451</td>\n",
       "      <td>32.609135</td>\n",
       "      <td>23.560489</td>\n",
       "      <td>0.443965</td>\n",
       "      <td>-1.192300</td>\n",
       "      <td>0.374928</td>\n",
       "    </tr>\n",
       "    <tr>\n",
       "      <td>164</td>\n",
       "      <td>-17202.017189</td>\n",
       "      <td>-222.889872</td>\n",
       "      <td>-45.250167</td>\n",
       "      <td>39.915284</td>\n",
       "      <td>8.346047</td>\n",
       "      <td>3.675373</td>\n",
       "      <td>-1.673444</td>\n",
       "      <td>0.750542</td>\n",
       "      <td>0.594939</td>\n",
       "    </tr>\n",
       "    <tr>\n",
       "      <td>165</td>\n",
       "      <td>-17209.340213</td>\n",
       "      <td>-229.815901</td>\n",
       "      <td>7.958786</td>\n",
       "      <td>-7.521495</td>\n",
       "      <td>12.978900</td>\n",
       "      <td>7.508514</td>\n",
       "      <td>-0.698961</td>\n",
       "      <td>-0.666683</td>\n",
       "      <td>-0.905836</td>\n",
       "    </tr>\n",
       "    <tr>\n",
       "      <td>166</td>\n",
       "      <td>-17978.421643</td>\n",
       "      <td>-1163.124631</td>\n",
       "      <td>32.202279</td>\n",
       "      <td>5.350797</td>\n",
       "      <td>12.161930</td>\n",
       "      <td>-6.111527</td>\n",
       "      <td>10.226200</td>\n",
       "      <td>0.923630</td>\n",
       "      <td>-0.927093</td>\n",
       "    </tr>\n",
       "  </tbody>\n",
       "</table>\n",
       "<p>167 rows × 9 columns</p>\n",
       "</div>"
      ],
      "text/plain": [
       "             PC 1         PC 2       PC 3       PC 4       PC 5       PC 6  \\\n",
       "0   -19815.128018 -1651.124720  38.424930  -0.192311 -13.395274   6.528804   \n",
       "1   -11338.938992  1493.469028 -28.182163 -14.070214  -7.859092   2.858821   \n",
       "2    -8926.352589  3264.684102 -11.916113 -16.804181  12.238446   0.164026   \n",
       "3   -14652.465937  -867.795270  59.558400  40.492538  24.138701  -6.150069   \n",
       "4      896.142032  1898.478151 -29.133957   0.507663  -7.630103   0.394944   \n",
       "..            ...          ...        ...        ...        ...        ...   \n",
       "162 -17180.967679 -2487.153835 -28.120653   8.630281   3.138299  -6.350844   \n",
       "163   -100.445973  -832.252802  -7.709222 -35.835451  32.609135  23.560489   \n",
       "164 -17202.017189  -222.889872 -45.250167  39.915284   8.346047   3.675373   \n",
       "165 -17209.340213  -229.815901   7.958786  -7.521495  12.978900   7.508514   \n",
       "166 -17978.421643 -1163.124631  32.202279   5.350797  12.161930  -6.111527   \n",
       "\n",
       "          PC 7      PC 8      PC 9  \n",
       "0     3.309936 -0.155323 -1.222781  \n",
       "1    -3.265009 -0.796140  0.650387  \n",
       "2    -4.067036 -1.034689 -0.126227  \n",
       "3    -3.502401 -0.735712 -0.576152  \n",
       "4    -1.972822 -1.296089 -0.104073  \n",
       "..         ...       ...       ...  \n",
       "162   7.972196 -1.258877 -0.733036  \n",
       "163   0.443965 -1.192300  0.374928  \n",
       "164  -1.673444  0.750542  0.594939  \n",
       "165  -0.698961 -0.666683 -0.905836  \n",
       "166  10.226200  0.923630 -0.927093  \n",
       "\n",
       "[167 rows x 9 columns]"
      ]
     },
     "execution_count": 54,
     "metadata": {},
     "output_type": "execute_result"
    }
   ],
   "source": [
    "df_pca"
   ]
  },
  {
   "cell_type": "code",
   "execution_count": 55,
   "metadata": {},
   "outputs": [
    {
     "data": {
      "image/png": "[encoded data removed]",
      "text/plain": [
       "<Figure size 432x288 with 1 Axes>"
      ]
     },
     "metadata": {
      "needs_background": "light"
     },
     "output_type": "display_data"
    }
   ],
   "source": [
    "ax = plt.figure().gca()\n",
    "ax.plot(pca.explained_variance_)\n",
    "ax.xaxis.set_major_locator(MaxNLocator(integer=True))\n",
    "plt.xlabel('Principal Component')\n",
    "plt.ylabel('Eigenvalue')\n",
    "plt.axhline(y=1, linewidth=1, color='b', alpha=0.5)\n",
    "plt.title('Scree Plot of PCA: Component Eigenvalues')\n",
    "plt.show()"
   ]
  },
  {
   "cell_type": "code",
   "execution_count": 56,
   "metadata": {},
   "outputs": [
    {
     "data": {
      "image/png": "[encoded data removed]",
      "text/plain": [
       "<Figure size 432x288 with 1 Axes>"
      ]
     },
     "metadata": {
      "needs_background": "light"
     },
     "output_type": "display_data"
    }
   ],
   "source": [
    "ax = plt.figure().gca()\n",
    "pca = PCA().fit(df_std)\n",
    "ax.plot(np.cumsum(pca.explained_variance_ratio_))\n",
    "ax.xaxis.set_major_locator(MaxNLocator(integer=True))\n",
    "plt.axvline(x=1, linewidth=1, color='b', alpha=0.5)\n",
    "plt.xlabel('Number of Components')\n",
    "plt.ylabel('Cumulative Explained Variance')\n",
    "plt.show()"
   ]
  },
  {
   "cell_type": "code",
   "execution_count": 57,
   "metadata": {},
   "outputs": [],
   "source": [
    "df_pca['country'] = df_init['country']"
   ]
  },
  {
   "cell_type": "code",
   "execution_count": 61,
   "metadata": {},
   "outputs": [
    {
     "name": "stderr",
     "output_type": "stream",
     "text": [
      "No handles with labels found to put in legend.\n"
     ]
    },
    {
     "data": {
      "image/png": "[encoded data removed]",
      "text/plain": [
       "<Figure size 576x576 with 1 Axes>"
      ]
     },
     "metadata": {
      "needs_background": "light"
     },
     "output_type": "display_data"
    }
   ],
   "source": [
    "# Create plot from transformed dataset\n",
    "plt.figure(figsize=(8,8))\n",
    "plt.bar(df_pca['country'], df_pca['PC 1'])\n",
    "plt.legend()\n",
    "plt.show()"
   ]
  }
 ],
 "metadata": {
  "kernelspec": {
   "display_name": "Python 3",
   "language": "python",
   "name": "python3"
  },
  "language_info": {
   "codemirror_mode": {
    "name": "ipython",
    "version": 3
   },
   "file_extension": ".py",
   "mimetype": "text/x-python",
   "name": "python",
   "nbconvert_exporter": "python",
   "pygments_lexer": "ipython3",
   "version": "3.7.4"
  }
 },
 "nbformat": 4,
 "nbformat_minor": 2
}
